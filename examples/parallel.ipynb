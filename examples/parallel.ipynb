{
 "cells": [
  {
   "cell_type": "code",
   "execution_count": 1,
   "metadata": {},
   "outputs": [],
   "source": [
    "%load_ext autoreload\n",
    "%autoreload 2"
   ]
  },
  {
   "cell_type": "code",
   "execution_count": 2,
   "metadata": {},
   "outputs": [],
   "source": [
    "import numpy as np\n",
    "import cupy as cp\n",
    "import mpmath as mp\n",
    "import concurrent.futures"
   ]
  },
  {
   "cell_type": "code",
   "execution_count": 3,
   "metadata": {},
   "outputs": [],
   "source": [
    "# Skip this cell if CSR2D/ is already added under PYHTONPATH \n",
    "import os, sys\n",
    "parent_dir = os.path.dirname(os.getcwd())\n",
    "sys.path.append(parent_dir)  "
   ]
  },
  {
   "cell_type": "code",
   "execution_count": 4,
   "metadata": {},
   "outputs": [],
   "source": [
    "from csr2d.core import psi_s, psi_x\n",
    "from csr2d.dist import lambda_p_Gauss"
   ]
  },
  {
   "cell_type": "code",
   "execution_count": 5,
   "metadata": {},
   "outputs": [],
   "source": [
    "from mpmath import ellipf, ellipe"
   ]
  },
  {
   "cell_type": "markdown",
   "metadata": {},
   "source": [
    "# Simple example"
   ]
  },
  {
   "cell_type": "code",
   "execution_count": 6,
   "metadata": {},
   "outputs": [],
   "source": [
    "def haha(a,b):\n",
    "    return a*b"
   ]
  },
  {
   "cell_type": "code",
   "execution_count": 7,
   "metadata": {},
   "outputs": [],
   "source": [
    "N = 500\n",
    "A = np.arange(N)\n",
    "B = 2*np.arange(N)"
   ]
  },
  {
   "cell_type": "code",
   "execution_count": 8,
   "metadata": {},
   "outputs": [
    {
     "name": "stdout",
     "output_type": "stream",
     "text": [
      "CPU times: user 2 µs, sys: 1 µs, total: 3 µs\n",
      "Wall time: 4.05 µs\n"
     ]
    }
   ],
   "source": [
    "%time\n",
    "haha(A,B);"
   ]
  },
  {
   "cell_type": "code",
   "execution_count": 9,
   "metadata": {},
   "outputs": [
    {
     "name": "stdout",
     "output_type": "stream",
     "text": [
      "CPU times: user 1 µs, sys: 1 µs, total: 2 µs\n",
      "Wall time: 3.81 µs\n"
     ]
    }
   ],
   "source": [
    "%time\n",
    "DD = np.arange(0.) # empty array \n",
    "\n",
    "with concurrent.futures.ProcessPoolExecutor() as executor:\n",
    "    for AA, BB, CC in zip(A, B, executor.map(haha, A, B)):\n",
    "        #print('haha(%s, %s) is %d ' % (AA, BB, CC))\n",
    "        DD = np.append(DD,CC)"
   ]
  },
  {
   "cell_type": "code",
   "execution_count": 10,
   "metadata": {},
   "outputs": [],
   "source": [
    "#DD"
   ]
  },
  {
   "cell_type": "markdown",
   "metadata": {},
   "source": [
    "# Testing for psi_x"
   ]
  },
  {
   "cell_type": "code",
   "execution_count": 20,
   "metadata": {},
   "outputs": [],
   "source": [
    "gamma = 500\n",
    "beta = (1-1/gamma**2)**(1/2)\n",
    "rho = 1\n",
    "sigmax = 10E-6\n",
    "sigmaz = 10E-6\n",
    "\n",
    "# Adjust the step size here\n",
    "# Small steps might greatly increase computation time...\n",
    "\n",
    "N = 100\n",
    "dz = 1.0E-4/N\n",
    "dx = 1.0E-4/N"
   ]
  },
  {
   "cell_type": "code",
   "execution_count": 21,
   "metadata": {},
   "outputs": [],
   "source": [
    "zvec2 = np.arange(-10*sigmaz, 10*sigmaz, dz)\n",
    "xvec2 = np.arange(-10*sigmax, 10*sigmax, dx)\n",
    "zm2, xm2 = np.meshgrid(zvec2, xvec2, sparse=False, indexing='ij')"
   ]
  },
  {
   "cell_type": "code",
   "execution_count": 23,
   "metadata": {},
   "outputs": [
    {
     "name": "stdout",
     "output_type": "stream",
     "text": [
      "CPU times: user 1min 42s, sys: 25.3 ms, total: 1min 42s\n",
      "Wall time: 1min 42s\n"
     ]
    }
   ],
   "source": [
    "%%time\n",
    "## Direct numpy vectorization \n",
    "result = psi_x(zm2,xm2,beta);"
   ]
  },
  {
   "cell_type": "code",
   "execution_count": 22,
   "metadata": {},
   "outputs": [
    {
     "name": "stdout",
     "output_type": "stream",
     "text": [
      "CPU times: user 166 ms, sys: 329 ms, total: 495 ms\n",
      "Wall time: 1min 30s\n"
     ]
    }
   ],
   "source": [
    "%%time\n",
    "# With Multi-processing\n",
    "beta_grid = beta*np.ones(zm2.shape)\n",
    "DD = np.arange(0.)\n",
    "with concurrent.futures.ProcessPoolExecutor() as executor:\n",
    "    for PSI_X in executor.map(psi_x, zm2, xm2, beta_grid):\n",
    "        DD = np.append(DD,PSI_X)"
   ]
  },
  {
   "cell_type": "code",
   "execution_count": 15,
   "metadata": {},
   "outputs": [
    {
     "data": {
      "text/plain": [
       "array([[ 2.00014178,  2.0001382 ,  2.00013444, ...,  1.99987892,\n",
       "         1.99987473,  1.99987071],\n",
       "       [ 2.00014072,  2.00013721,  2.00013358, ...,  1.99987938,\n",
       "         1.99987532,  1.99987134],\n",
       "       [ 2.00013959,  2.00013616,  2.0001326 , ...,  1.99987989,\n",
       "         1.99987588,  1.99987203],\n",
       "       ...,\n",
       "       [-1.96801008, -1.96905972, -1.97010781, ..., -2.02538592,\n",
       "        -2.02634854, -2.02730969],\n",
       "       [-1.96879593, -1.96981927, -1.97084114, ..., -2.02478908,\n",
       "        -2.02572951, -2.02666853],\n",
       "       [-1.96953558, -1.9705342 , -1.97153141, ..., -2.02422621,\n",
       "        -2.02514569, -2.02606382]])"
      ]
     },
     "execution_count": 15,
     "metadata": {},
     "output_type": "execute_result"
    }
   ],
   "source": [
    "DD.reshape(zm2.shape)"
   ]
  },
  {
   "cell_type": "code",
   "execution_count": 26,
   "metadata": {},
   "outputs": [
    {
     "name": "stdout",
     "output_type": "stream",
     "text": [
      "CPU times: user 146 ms, sys: 353 ms, total: 499 ms\n",
      "Wall time: 1min 32s\n"
     ]
    }
   ],
   "source": [
    "%%time\n",
    "with concurrent.futures.ProcessPoolExecutor() as executor:\n",
    "    kaka = np.array( list(executor.map(psi_x, zm2, xm2, beta_grid)))"
   ]
  }
 ],
 "metadata": {
  "kernelspec": {
   "display_name": "Cupy",
   "language": "python",
   "name": "cupy"
  },
  "language_info": {
   "codemirror_mode": {
    "name": "ipython",
    "version": 3
   },
   "file_extension": ".py",
   "mimetype": "text/x-python",
   "name": "python",
   "nbconvert_exporter": "python",
   "pygments_lexer": "ipython3",
   "version": "3.8.6"
  }
 },
 "nbformat": 4,
 "nbformat_minor": 4
}
