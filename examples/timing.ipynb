{
 "cells": [
  {
   "cell_type": "code",
   "execution_count": 2,
   "metadata": {},
   "outputs": [],
   "source": [
    "import numpy as np\n",
    "from scipy import signal\n",
    "from scipy import ndimage\n",
    "from scipy.signal import fftconvolve, oaconvolve\n",
    "import cupy as cp\n",
    "from cupyx.scipy.ndimage import filters"
   ]
  },
  {
   "cell_type": "code",
   "execution_count": 14,
   "metadata": {},
   "outputs": [
    {
     "name": "stdout",
     "output_type": "stream",
     "text": [
      "[[11 21 14 11]\n",
      " [22 26 23 14]\n",
      " [15 23 14  7]\n",
      " [12 14  7  0]]\n",
      "[[11 21 14 11]\n",
      " [22 26 23 14]\n",
      " [15 23 14  7]\n",
      " [12 14  7  0]]\n",
      "[[1.10000000e+01 2.10000000e+01 1.40000000e+01 1.10000000e+01]\n",
      " [2.20000000e+01 2.60000000e+01 2.30000000e+01 1.40000000e+01]\n",
      " [1.50000000e+01 2.30000000e+01 1.40000000e+01 7.00000000e+00]\n",
      " [1.20000000e+01 1.40000000e+01 7.00000000e+00 1.77635684e-15]]\n",
      "[[1.10000000e+01 2.10000000e+01 1.40000000e+01 1.10000000e+01]\n",
      " [2.20000000e+01 2.60000000e+01 2.30000000e+01 1.40000000e+01]\n",
      " [1.50000000e+01 2.30000000e+01 1.40000000e+01 7.00000000e+00]\n",
      " [1.20000000e+01 1.40000000e+01 7.00000000e+00 1.77635684e-15]]\n",
      "[[11 21 14 11]\n",
      " [22 26 23 14]\n",
      " [15 23 14  7]\n",
      " [12 14  7  0]]\n"
     ]
    }
   ],
   "source": [
    "# Compare results from five different convolution methods\n",
    "\n",
    "# 4 CPU methods \n",
    "a = np.array([[1, 2, 0, 0],[5, 3, 0, 4],[0, 0, 0, 7],[9, 3, 0, 0]])\n",
    "k = np.array([[1,1,1,1,1],[1,1,1,1,0],[1,1,1,0,0],[1,1,0,0,0],[1,0,0,0,0]])\n",
    "print(ndimage.convolve(a, k, mode='constant', cval=0.0))\n",
    "print(signal.convolve2d(a,k, mode='same'))\n",
    "print(fftconvolve(a,k, mode='same'))\n",
    "print(oaconvolve(a,k, mode='same'))\n",
    "\n",
    "# 1 GPU method\n",
    "a = cp.array([[1, 2, 0, 0],[5, 3, 0, 4],[0, 0, 0, 7],[9, 3, 0, 0]])\n",
    "k = cp.array([[1,1,1,1,1],[1,1,1,1,0],[1,1,1,0,0],[1,1,0,0,0],[1,0,0,0,0]])\n",
    "print(filters.convolve(a, k, mode='constant', cval=0.0))"
   ]
  },
  {
   "cell_type": "code",
   "execution_count": 16,
   "metadata": {},
   "outputs": [
    {
     "name": "stdout",
     "output_type": "stream",
     "text": [
      "1.34 ms ± 318 µs per loop (mean ± std. dev. of 4 runs, 3 loops each)\n",
      "280 µs ± 68.9 µs per loop (mean ± std. dev. of 4 runs, 3 loops each)\n",
      "537 µs ± 124 µs per loop (mean ± std. dev. of 4 runs, 3 loops each)\n",
      "416 µs ± 97.1 µs per loop (mean ± std. dev. of 4 runs, 3 loops each)\n",
      "79.2 µs ± 20.3 µs per loop (mean ± std. dev. of 4 runs, 3 loops each)\n"
     ]
    }
   ],
   "source": [
    "# Compare timings with different matrix size N \n",
    "# N > 100 can take significant time\n",
    "N = 10\n",
    "a = np.random.randint(5, size=(N, N))\n",
    "k = np.random.randint(5, size=(2*N, 2*N))\n",
    "%timeit -n 3 -r 4 ndimage.convolve(a, k, mode='constant', cval=0.0)\n",
    "%timeit -n 3 -r 4 signal.convolve2d(a, k, mode='same')\n",
    "%timeit -n 3 -r 4 fftconvolve(a, k, mode='same')\n",
    "%timeit -n 3 -r 4 oaconvolve(a, k, mode='same')\n",
    "\n",
    "a = cp.random.randint(5, size=(N, N))\n",
    "k = cp.random.randint(5, size=(2*N, 2*N))\n",
    "%timeit -n 3 -r 4 filters.convolve(a, k, mode='constant', cval=0.0)"
   ]
  },
  {
   "cell_type": "code",
   "execution_count": 24,
   "metadata": {},
   "outputs": [
    {
     "name": "stdout",
     "output_type": "stream",
     "text": [
      "598 µs ± 104 µs per loop (mean ± std. dev. of 4 runs, 3 loops each)\n",
      "1.54 ms ± 171 µs per loop (mean ± std. dev. of 4 runs, 3 loops each)\n"
     ]
    }
   ],
   "source": [
    "# Check the time for array assignments\n",
    "N = 100\n",
    "%timeit -n 3 -r 4 a = np.random.randint(5, size=(N, N))\n",
    "%timeit -n 3 -r 4 a = cp.random.randint(5, size=(N, N))"
   ]
  },
  {
   "cell_type": "code",
   "execution_count": null,
   "metadata": {},
   "outputs": [],
   "source": [
    "# Not sure if this function is required to time GPU commands\n",
    "cupy.cuda.runtime.deviceSynchronize() "
   ]
  }
 ],
 "metadata": {
  "kernelspec": {
   "display_name": "Test",
   "language": "python",
   "name": "test"
  },
  "language_info": {
   "codemirror_mode": {
    "name": "ipython",
    "version": 3
   },
   "file_extension": ".py",
   "mimetype": "text/x-python",
   "name": "python",
   "nbconvert_exporter": "python",
   "pygments_lexer": "ipython3",
   "version": "3.8.5"
  }
 },
 "nbformat": 4,
 "nbformat_minor": 4
}
