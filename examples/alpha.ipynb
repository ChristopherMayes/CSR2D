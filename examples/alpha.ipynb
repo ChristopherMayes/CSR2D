{
 "cells": [
  {
   "cell_type": "markdown",
   "metadata": {},
   "source": [
    "# Rewriting \"if\" statement with \"where\" statement"
   ]
  },
  {
   "cell_type": "code",
   "execution_count": 4,
   "metadata": {},
   "outputs": [],
   "source": [
    "import numpy as np"
   ]
  },
  {
   "cell_type": "code",
   "execution_count": 4,
   "metadata": {},
   "outputs": [],
   "source": [
    "def lala(z, x):\n",
    "    if z<0: \n",
    "        out = -(z+x)\n",
    "    else: \n",
    "        out = z+x\n",
    "    return real(out)\n",
    "\n",
    "def kaka(z, x):\n",
    "    return np.where(z<0, -(z+x), (z+x))"
   ]
  },
  {
   "cell_type": "code",
   "execution_count": 5,
   "metadata": {},
   "outputs": [],
   "source": [
    "zvec = np.arange(-2.5, 2, 1)\n",
    "xvec = np.arange(-2.5, 2, 1)\n",
    "zm, xm = np.meshgrid(zvec, xvec, sparse=False, indexing='ij')"
   ]
  },
  {
   "cell_type": "code",
   "execution_count": 9,
   "metadata": {},
   "outputs": [
    {
     "ename": "ValueError",
     "evalue": "The truth value of an array with more than one element is ambiguous. Use a.any() or a.all()",
     "output_type": "error",
     "traceback": [
      "\u001b[0;31m---------------------------------------------------------------------------\u001b[0m",
      "\u001b[0;31mValueError\u001b[0m                                Traceback (most recent call last)",
      "\u001b[0;32m<ipython-input-9-4f43ddf7af39>\u001b[0m in \u001b[0;36m<module>\u001b[0;34m\u001b[0m\n\u001b[1;32m      1\u001b[0m \u001b[0;31m# This shows that if statement doesn't work with arrays\u001b[0m\u001b[0;34m\u001b[0m\u001b[0;34m\u001b[0m\u001b[0;34m\u001b[0m\u001b[0m\n\u001b[0;32m----> 2\u001b[0;31m \u001b[0mlala\u001b[0m\u001b[0;34m(\u001b[0m\u001b[0mzm\u001b[0m\u001b[0;34m,\u001b[0m\u001b[0mxm\u001b[0m\u001b[0;34m)\u001b[0m\u001b[0;34m\u001b[0m\u001b[0;34m\u001b[0m\u001b[0m\n\u001b[0m",
      "\u001b[0;32m<ipython-input-4-f84b6fed7ccc>\u001b[0m in \u001b[0;36mlala\u001b[0;34m(z, x)\u001b[0m\n\u001b[1;32m      1\u001b[0m \u001b[0;32mdef\u001b[0m \u001b[0mlala\u001b[0m\u001b[0;34m(\u001b[0m\u001b[0mz\u001b[0m\u001b[0;34m,\u001b[0m \u001b[0mx\u001b[0m\u001b[0;34m)\u001b[0m\u001b[0;34m:\u001b[0m\u001b[0;34m\u001b[0m\u001b[0;34m\u001b[0m\u001b[0m\n\u001b[0;32m----> 2\u001b[0;31m     \u001b[0;32mif\u001b[0m \u001b[0mz\u001b[0m\u001b[0;34m<\u001b[0m\u001b[0;36m0\u001b[0m\u001b[0;34m:\u001b[0m\u001b[0;34m\u001b[0m\u001b[0;34m\u001b[0m\u001b[0m\n\u001b[0m\u001b[1;32m      3\u001b[0m         \u001b[0mout\u001b[0m \u001b[0;34m=\u001b[0m \u001b[0;34m-\u001b[0m\u001b[0;34m(\u001b[0m\u001b[0mz\u001b[0m\u001b[0;34m+\u001b[0m\u001b[0mx\u001b[0m\u001b[0;34m)\u001b[0m\u001b[0;34m\u001b[0m\u001b[0;34m\u001b[0m\u001b[0m\n\u001b[1;32m      4\u001b[0m     \u001b[0;32melse\u001b[0m\u001b[0;34m:\u001b[0m\u001b[0;34m\u001b[0m\u001b[0;34m\u001b[0m\u001b[0m\n\u001b[1;32m      5\u001b[0m         \u001b[0mout\u001b[0m \u001b[0;34m=\u001b[0m \u001b[0mz\u001b[0m\u001b[0;34m+\u001b[0m\u001b[0mx\u001b[0m\u001b[0;34m\u001b[0m\u001b[0;34m\u001b[0m\u001b[0m\n",
      "\u001b[0;31mValueError\u001b[0m: The truth value of an array with more than one element is ambiguous. Use a.any() or a.all()"
     ]
    }
   ],
   "source": [
    "# This shows that if statement doesn't work with arrays\n",
    "lala(zm,xm)"
   ]
  },
  {
   "cell_type": "code",
   "execution_count": 7,
   "metadata": {},
   "outputs": [
    {
     "data": {
      "text/plain": [
       "array([[ 5.,  4.,  3.,  2.,  1.],\n",
       "       [ 4.,  3.,  2.,  1., -0.],\n",
       "       [ 3.,  2.,  1., -0., -1.],\n",
       "       [-2., -1.,  0.,  1.,  2.],\n",
       "       [-1.,  0.,  1.,  2.,  3.]])"
      ]
     },
     "execution_count": 7,
     "metadata": {},
     "output_type": "execute_result"
    }
   ],
   "source": [
    "# np.where works\n",
    "kaka(zm,xm)"
   ]
  },
  {
   "cell_type": "markdown",
   "metadata": {},
   "source": [
    "# Rewriting m and alpha functions \n",
    "# ( so that they works with arrays, not just numbers )"
   ]
  },
  {
   "cell_type": "markdown",
   "metadata": {},
   "source": [
    "## Function Dependency: \n",
    "## psi_s > kappa > alpha > m > Omega > (eta, zeta, nu)"
   ]
  },
  {
   "cell_type": "code",
   "execution_count": 2,
   "metadata": {},
   "outputs": [],
   "source": [
    "# Skip this cell if CSR2D/ is already added under PYHTONPATH \n",
    "import os, sys\n",
    "parent_dir = os.path.dirname(os.getcwd())\n",
    "sys.path.append(parent_dir)  "
   ]
  },
  {
   "cell_type": "code",
   "execution_count": 1,
   "metadata": {},
   "outputs": [],
   "source": [
    "# Import basic functions which don't need re-write \n",
    "from csr2d.core import nu, eta, zeta, Omega"
   ]
  },
  {
   "cell_type": "code",
   "execution_count": 2,
   "metadata": {},
   "outputs": [],
   "source": [
    "from numpy import real, sin\n",
    "beta = 0.999"
   ]
  },
  {
   "cell_type": "code",
   "execution_count": 22,
   "metadata": {},
   "outputs": [],
   "source": [
    "# Modification of m and alpha functions from core.py:\n",
    "# The m function now returns absolute value to prevernt slightly negative number for square roots in alpha\n",
    "# The alpha function now uses the \"where\" statement, and the arguments for square roots \n",
    "\n",
    "def m(z, x, beta):\n",
    "    \"\"\"\n",
    "    Eq. (A2) from Ref[1]\n",
    "    \"\"\"\n",
    "    out = -nu(x,beta)/3 + ( zeta(z,x,beta)/3 + nu(x,beta)**2/36 ) *Omega(z,x,beta)**(-1/3) + Omega(z,x,beta)**(1/3)\n",
    "    return abs(out)\n",
    "\n",
    "def alpha(z, x, beta):\n",
    "    \"\"\"\n",
    "    Eq. (A4) from Ref[1]\n",
    "    \"\"\"\n",
    "    try:\n",
    "        #out1 = 1/2*(-(2*m(z,x,beta))**(1/2) + ( -2*(m(z,x,beta) + nu(x,beta)) + 2*eta(z,x,beta)*(2*m(z,x,beta))**(-1/2) )**(1/2))\n",
    "        #out2 = 1/2*( (2*m(z,x,beta))**(1/2) + ( -2*(m(z,x,beta) + nu(x,beta)) - 2*eta(z,x,beta)*(2*m(z,x,beta))**(-1/2) )**(1/2))\n",
    "        out1 = 1/2*(-(2*m(z,x,beta))**(1/2) + ( abs(-2*(m(z,x,beta) + nu(x,beta)) + 2*eta(z,x,beta)*(2*m(z,x,beta))**(-1/2)) )**(1/2))\n",
    "        out2 = 1/2*( (2*m(z,x,beta))**(1/2) + ( abs(-2*(m(z,x,beta) + nu(x,beta)) - 2*eta(z,x,beta)*(2*m(z,x,beta))**(-1/2)) )**(1/2))\n",
    "        return np.where(z<0, real(out1), real(out2))\n",
    "    except ZeroDivisionError:\n",
    "        return 0\n",
    "    \n",
    "def a1(z, x, beta):\n",
    "    \"\"\"\n",
    "    Eq. (A4) from Ref[1]\n",
    "    \"\"\"\n",
    "    try:\n",
    "        arg1 = 2*m(z,x,beta)\n",
    "        out1 = 1/2*(-np.sqrt(arg1) + np.sqrt( abs(-2*(m(z,x,beta) + nu(x,beta)) + 2*eta(z,x,beta)/np.sqrt(arg1)) ))\n",
    "        out2 = 1/2*( np.sqrt(arg1) + np.sqrt( abs(-2*(m(z,x,beta) + nu(x,beta)) - 2*eta(z,x,beta)/np.sqrt(arg1)) ))\n",
    "        return np.where(z<0, real(out1), real(out2))\n",
    "    except ZeroDivisionError:\n",
    "        return 0"
   ]
  },
  {
   "cell_type": "code",
   "execution_count": 10,
   "metadata": {},
   "outputs": [
    {
     "data": {
      "text/plain": [
       "array([-1.e-05,  0.e+00,  1.e-05])"
      ]
     },
     "execution_count": 10,
     "metadata": {},
     "output_type": "execute_result"
    }
   ],
   "source": [
    "zvec2"
   ]
  },
  {
   "cell_type": "code",
   "execution_count": 11,
   "metadata": {},
   "outputs": [
    {
     "name": "stderr",
     "output_type": "stream",
     "text": [
      "/usr/common/software/python/3.7-anaconda-2019.10/lib/python3.7/site-packages/ipykernel_launcher.py:1: RuntimeWarning: invalid value encountered in sqrt\n",
      "  \"\"\"Entry point for launching an IPython kernel.\n"
     ]
    },
    {
     "data": {
      "text/plain": [
       "array([       nan, 0.        , 0.00316228])"
      ]
     },
     "execution_count": 11,
     "metadata": {},
     "output_type": "execute_result"
    }
   ],
   "source": [
    "zvec2**(1/2)"
   ]
  },
  {
   "cell_type": "code",
   "execution_count": 9,
   "metadata": {},
   "outputs": [
    {
     "name": "stderr",
     "output_type": "stream",
     "text": [
      "/usr/common/software/python/3.7-anaconda-2019.10/lib/python3.7/site-packages/ipykernel_launcher.py:1: RuntimeWarning: invalid value encountered in sqrt\n",
      "  \"\"\"Entry point for launching an IPython kernel.\n"
     ]
    },
    {
     "data": {
      "text/plain": [
       "array([       nan, 0.        , 0.00316228])"
      ]
     },
     "execution_count": 9,
     "metadata": {},
     "output_type": "execute_result"
    }
   ],
   "source": [
    "np.sqrt(zvec2)"
   ]
  },
  {
   "cell_type": "code",
   "execution_count": 14,
   "metadata": {},
   "outputs": [],
   "source": [
    "gamma = 500\n",
    "rho = 1\n",
    "sigmax = 10E-6\n",
    "sigmaz = 10E-6\n",
    "\n",
    "N = 10\n",
    "dz = 1.0E-4/N\n",
    "dx = 1.0E-4/N\n",
    "zvec2 = np.arange(-1*sigmaz, 2*sigmaz, dz)\n",
    "xvec2 = np.arange(-1*sigmax, 2*sigmax, dx)\n",
    "zm, xm = np.meshgrid(zvec2, xvec2, sparse=False, indexing='ij')"
   ]
  },
  {
   "cell_type": "code",
   "execution_count": 15,
   "metadata": {},
   "outputs": [
    {
     "data": {
      "text/plain": [
       "array([[4.80159739e-05, 4.84748426e-05, 4.89393474e-05],\n",
       "       [2.16840434e-19, 0.00000000e+00, 2.16840434e-19],\n",
       "       [4.80159739e-05, 4.84748426e-05, 4.89393474e-05]])"
      ]
     },
     "execution_count": 15,
     "metadata": {},
     "output_type": "execute_result"
    }
   ],
   "source": [
    "# This works\n",
    "m(zm,xm,beta)"
   ]
  },
  {
   "cell_type": "code",
   "execution_count": 20,
   "metadata": {},
   "outputs": [
    {
     "name": "stderr",
     "output_type": "stream",
     "text": [
      "/usr/common/software/python/3.7-anaconda-2019.10/lib/python3.7/site-packages/ipykernel_launcher.py:19: RuntimeWarning: divide by zero encountered in power\n",
      "/usr/common/software/python/3.7-anaconda-2019.10/lib/python3.7/site-packages/ipykernel_launcher.py:19: RuntimeWarning: invalid value encountered in multiply\n",
      "/usr/common/software/python/3.7-anaconda-2019.10/lib/python3.7/site-packages/ipykernel_launcher.py:20: RuntimeWarning: divide by zero encountered in power\n",
      "/usr/common/software/python/3.7-anaconda-2019.10/lib/python3.7/site-packages/ipykernel_launcher.py:20: RuntimeWarning: invalid value encountered in multiply\n"
     ]
    }
   ],
   "source": [
    "# This gives error messages because of 1/sqrt(2m), and m ~ 0 at (z,x) ~ (0,0)\n",
    "# I want the output at (0,0) to be zero, but it's nan now...\n",
    "t1 = alpha(zm,xm,beta)"
   ]
  },
  {
   "cell_type": "code",
   "execution_count": 23,
   "metadata": {},
   "outputs": [
    {
     "name": "stderr",
     "output_type": "stream",
     "text": [
      "/usr/common/software/python/3.7-anaconda-2019.10/lib/python3.7/site-packages/ipykernel_launcher.py:31: RuntimeWarning: invalid value encountered in true_divide\n",
      "/usr/common/software/python/3.7-anaconda-2019.10/lib/python3.7/site-packages/ipykernel_launcher.py:32: RuntimeWarning: invalid value encountered in true_divide\n"
     ]
    }
   ],
   "source": [
    "t2 = a1(zm,xm,beta)"
   ]
  },
  {
   "cell_type": "code",
   "execution_count": 27,
   "metadata": {},
   "outputs": [
    {
     "data": {
      "text/plain": [
       "array([[-3.75391426e-06, -5.00250125e-06, -3.75390019e-06],\n",
       "       [ 5.49503070e-02,  0.00000000e+00,  5.46761022e-02],\n",
       "       [ 9.79583525e-03,  9.84130062e-03,  9.88961230e-03]])"
      ]
     },
     "execution_count": 27,
     "metadata": {},
     "output_type": "execute_result"
    }
   ],
   "source": [
    "np.nan_to_num(t2)"
   ]
  },
  {
   "cell_type": "code",
   "execution_count": 25,
   "metadata": {},
   "outputs": [
    {
     "data": {
      "text/plain": [
       "0"
      ]
     },
     "execution_count": 25,
     "metadata": {},
     "output_type": "execute_result"
    }
   ],
   "source": [
    "# It however works with a single number because of the \"try\" and \"except\" statement\n",
    "# Linearity doesn't carry over to array...\n",
    "\n",
    "alpha(0,0,beta)"
   ]
  },
  {
   "cell_type": "code",
   "execution_count": 32,
   "metadata": {},
   "outputs": [],
   "source": [
    "def kappa(z,x,beta):\n",
    "    \"\"\"\n",
    "    Eq. (13) from Ref[1] with argumaent zeta = 0\n",
    "    \"\"\"\n",
    "    return ( x**2 + 4*(1+x) *sin(alpha(z,x,beta))**2 )**(1/2)\n",
    "def psi_s(z, x, beta):\n",
    "    \"\"\"\n",
    "    2D longitudinal potential\n",
    "    Eq. (23) from Ref[1] with no constant factor (e*beta**2/2/rho**2).\n",
    "    Ref[1]: Y. Cai and Yuantao. Ding, PRAB 23, 014402 (2020)\n",
    "    \"\"\"\n",
    "    try:\n",
    "        out = (cos(2*alpha(z,x,beta)) - 1/(1+x)) / (kappa(z,x,beta) - beta*(1+x)*sin(2*alpha(z,x,beta)))\n",
    "    except ZeroDivisionError:\n",
    "        out = 0\n",
    "        #print(f\"Oops!  ZeroDivisionError at (z,x)= ({z:5.2f},{x:5.2f}). Returning 0.\")\n",
    "    return out"
   ]
  },
  {
   "cell_type": "code",
   "execution_count": 33,
   "metadata": {},
   "outputs": [
    {
     "name": "stderr",
     "output_type": "stream",
     "text": [
      "<ipython-input-26-0fb7d6db598f>:19: RuntimeWarning: divide by zero encountered in power\n",
      "  out1 = 1/2*(-(2*m(z,x,beta))**(1/2) + ( abs(-2*(m(z,x,beta) + nu(x,beta)) + 2*eta(z,x,beta)*(2*m(z,x,beta))**(-1/2)) )**(1/2))\n",
      "<ipython-input-26-0fb7d6db598f>:19: RuntimeWarning: invalid value encountered in multiply\n",
      "  out1 = 1/2*(-(2*m(z,x,beta))**(1/2) + ( abs(-2*(m(z,x,beta) + nu(x,beta)) + 2*eta(z,x,beta)*(2*m(z,x,beta))**(-1/2)) )**(1/2))\n",
      "<ipython-input-26-0fb7d6db598f>:20: RuntimeWarning: divide by zero encountered in power\n",
      "  out2 = 1/2*( (2*m(z,x,beta))**(1/2) + ( abs(-2*(m(z,x,beta) + nu(x,beta)) - 2*eta(z,x,beta)*(2*m(z,x,beta))**(-1/2)) )**(1/2))\n",
      "<ipython-input-26-0fb7d6db598f>:20: RuntimeWarning: invalid value encountered in multiply\n",
      "  out2 = 1/2*( (2*m(z,x,beta))**(1/2) + ( abs(-2*(m(z,x,beta) + nu(x,beta)) - 2*eta(z,x,beta)*(2*m(z,x,beta))**(-1/2)) )**(1/2))\n"
     ]
    },
    {
     "data": {
      "text/plain": [
       "array([[-4.99883392e-01, -2.50250376e-06,  4.99866827e-01],\n",
       "       [-2.18928793e+01,             nan, -2.19290813e+01],\n",
       "       [-9.78691125e+00, -9.38702757e+00, -8.98845403e+00]])"
      ]
     },
     "execution_count": 33,
     "metadata": {},
     "output_type": "execute_result"
    }
   ],
   "source": [
    "# The error message and \"nan\" carry over, which will cause further problems at the convolution step \n",
    "psi_s(zm,xm,beta)"
   ]
  },
  {
   "cell_type": "markdown",
   "metadata": {},
   "source": [
    "## Trying with an mesh which skips (z,x)=(0,0)"
   ]
  },
  {
   "cell_type": "code",
   "execution_count": 34,
   "metadata": {},
   "outputs": [],
   "source": [
    "zvec2 = np.arange(-1.5*sigmaz, 1.5*sigmaz, dz)\n",
    "xvec2 = np.arange(-1.5*sigmax, 1.5*sigmax, dx)\n",
    "zm, xm = np.meshgrid(zvec2, xvec2, sparse=False, indexing='ij')"
   ]
  },
  {
   "cell_type": "code",
   "execution_count": 35,
   "metadata": {},
   "outputs": [
    {
     "data": {
      "text/plain": [
       "array([[-1.5e-05, -1.5e-05, -1.5e-05],\n",
       "       [-5.0e-06, -5.0e-06, -5.0e-06],\n",
       "       [ 5.0e-06,  5.0e-06,  5.0e-06]])"
      ]
     },
     "execution_count": 35,
     "metadata": {},
     "output_type": "execute_result"
    }
   ],
   "source": [
    "# Making sure z=0 is not a grid point\n",
    "zm"
   ]
  },
  {
   "cell_type": "code",
   "execution_count": 36,
   "metadata": {},
   "outputs": [
    {
     "data": {
      "text/plain": [
       "array([[1.03720755e-04, 1.04660309e-04, 1.05610342e-04],\n",
       "       [1.22280701e-05, 1.23488854e-05, 1.24712824e-05],\n",
       "       [1.22280701e-05, 1.23488854e-05, 1.24712824e-05]])"
      ]
     },
     "execution_count": 36,
     "metadata": {},
     "output_type": "execute_result"
    }
   ],
   "source": [
    "m(zm,xm,beta)"
   ]
  },
  {
   "cell_type": "code",
   "execution_count": 37,
   "metadata": {},
   "outputs": [
    {
     "data": {
      "text/plain": [
       "array([[-5.63087667e-06, -7.29563863e-06, -7.29562090e-06],\n",
       "       [ 3.11180543e-06, -1.87695537e-06, -1.87695185e-06],\n",
       "       [ 4.94842679e-03,  4.96780823e-03,  4.99237624e-03]])"
      ]
     },
     "execution_count": 37,
     "metadata": {},
     "output_type": "execute_result"
    }
   ],
   "source": [
    "# So as long as z is not close to zero, the array function works...\n",
    "alpha(zm,xm,beta)"
   ]
  },
  {
   "cell_type": "code",
   "execution_count": 38,
   "metadata": {},
   "outputs": [
    {
     "data": {
      "text/plain": [
       "array([[-0.49988753, -0.16666683,  0.16665725],\n",
       "       [-1.49664849, -0.49987925,  0.49987097],\n",
       "       [-6.33195519, -5.39045187, -4.44676955]])"
      ]
     },
     "execution_count": 38,
     "metadata": {},
     "output_type": "execute_result"
    }
   ],
   "source": [
    "psi_s(zm,xm,beta)"
   ]
  }
 ],
 "metadata": {
  "kernelspec": {
   "display_name": "Python 3",
   "language": "python",
   "name": "python3"
  },
  "language_info": {
   "codemirror_mode": {
    "name": "ipython",
    "version": 3
   },
   "file_extension": ".py",
   "mimetype": "text/x-python",
   "name": "python",
   "nbconvert_exporter": "python",
   "pygments_lexer": "ipython3",
   "version": "3.7.4"
  }
 },
 "nbformat": 4,
 "nbformat_minor": 4
}
