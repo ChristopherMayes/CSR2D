{
 "cells": [
  {
   "cell_type": "markdown",
   "metadata": {},
   "source": [
    "# Function definitions"
   ]
  },
  {
   "cell_type": "code",
   "execution_count": 1,
   "metadata": {},
   "outputs": [],
   "source": [
    "import mpmath as mp\n",
    "import numpy as np\n",
    "import cupy as cp\n",
    "import scipy\n",
    "import scipy.signal as ss\n",
    "from mpmath import mpf, sin, cos, re, ellipf, ellipe\n",
    "import matplotlib.pyplot as plt\n",
    "#from .dist import lambda_p_Gauss\n",
    "\n",
    "from scipy.ndimage import convolve as conv\n",
    "from scipy.signal import convolve2d, fftconvolve, oaconvolve\n",
    "from cupyx.scipy.ndimage.filters import convolve as cupy_conv\n",
    "\n",
    "from numpy import exp, pi\n",
    "\n",
    "def lambda_p_Gauss(z, x): \n",
    "    \"\"\"\n",
    "    The z derivative of a 2D Gaussian G(z,x)\n",
    "    \"\"\"\n",
    "    sigmaz = 10E-6 \n",
    "    sigmax = 10E-6\n",
    "    return 1/(2*pi*sigmaz*sigmax)*exp(-x**2/2/sigmax**2)*exp(-z**2/2/sigmaz**2)*(-z/sigmaz**2)\n",
    "\n",
    "def psi_s(z, x, beta):\n",
    "    \"\"\"\n",
    "\t2D longitudinal potential\n",
    "    Eq. (23) from Ref[1] with no constant factor (e*beta**2/2/rho**2).\n",
    "    Ref[1]: Y. Cai and Yuantao. Ding, PRAB 23, 014402 (2020)\n",
    "    \"\"\"\n",
    "    z = float(z)\n",
    "    x = float(x)\n",
    "    try:\n",
    "        out = (cos(2*alpha(z,x,beta)) - 1/(1+x)) / (kappa(z,x,beta) - beta*(1+x)*sin(2*alpha(z,x,beta)))\n",
    "    except ZeroDivisionError:\n",
    "        out = 0\n",
    "        #print(f\"Oops!  ZeroDivisionError at (z,x)= ({z:5.2f},{x:5.2f}). Returning 0.\")\n",
    "    return out\n",
    "\n",
    "def psi_x(z, x, beta):\n",
    "    \"\"\"\n",
    "    Eq.(24) from Ref[1] with argument zeta=0 and no constant factor e*beta**2/2/rho**2.\n",
    "    \"\"\"\n",
    "    z = float(z)\n",
    "    x = float(x)\n",
    "    try:     \n",
    "        T1 = 1/abs(x)/(1+x)*((2+2*x+x**2) *ellipf(alpha(z,x,beta),-4*(1+x)/x**2)  -  x**2*ellipe(alpha(z,x,beta),-4*(1+x)/x**2))\n",
    "        D = kappa(z,x,beta)**2 - beta**2*(1+x)**2 *sin(2*alpha(z,x,beta))**2\n",
    "        T2 = (kappa(z,x,beta)**2 - 2*beta**2*(1+x)**2 + beta**2*(1+x)*(2+2*x+x**2)*cos(2*alpha(z,x,beta)))/beta/(1+x)/D\n",
    "        T3 = -kappa(z,x,beta) *sin(2*alpha(z,x,beta))/D\n",
    "        T4 = kappa(z,x,beta) *beta**2 *(1+x) *sin(2*alpha(z,x,beta)) *cos(2*alpha(z,x,beta))/D\n",
    "        T5 = 1/abs(x)*ellipf(alpha(z,x,beta),-4*(1+x)/x**2)   # psi_phi without e/rho**2 factor\n",
    "        out = re( (T1 + T2 + T3 + T4) - 2/beta**2*T5 )\n",
    "    except ZeroDivisionError:\n",
    "        out = 0\n",
    "        #print(f\"Oops!  ZeroDivisionError at (z,x)= ({z:5.2f},{x:5.2f}). Returning 0.\")\n",
    "    return out\n",
    "\n",
    "def nu(x, beta):   \n",
    "    \"\"\"\n",
    "    Eq. (6) from Ref[1] (coeffient of alpha**2)\n",
    "    \"\"\"\n",
    "    return 3*(1 - beta**2 - beta**2*x) / beta**2 / (1+x)\n",
    "def eta(z, x, beta):\n",
    "    \"\"\"\n",
    "\tEq. (6) from Ref[1] (coeffient of alpha)\n",
    "\t\"\"\"\n",
    "    return -6*z / beta**2 / (1+x)\n",
    "def zeta(z, x, beta):\n",
    "    \"\"\"\n",
    "\tEq. (6) from Ref[1] (constant term)\n",
    "\t\"\"\"\n",
    "    return 3*(4 *z**2 - beta**2 *x**2) / 4 / beta**2 / (1+x)\n",
    "def Omega(z, x, beta):\n",
    "    \"\"\"\n",
    "\tEq. (A3) from Ref[1]\n",
    "\t\"\"\"\n",
    "    temp = eta(z,x,beta)**2/16 - zeta(z,x,beta) *nu(x,beta)/6 + nu(x,beta)**3 / 216\n",
    "    return temp + ( temp**2 - ( zeta(z,x,beta)/3 + nu(x,beta)**2/36 )**3 )**(1/2)\n",
    "def m(z, x, beta):\n",
    "    \"\"\"\n",
    "\tEq. (A2) from Ref[1]\n",
    "\t\"\"\"\n",
    "    return -nu(x,beta)/3 + ( zeta(z,x,beta)/3 + nu(x,beta)**2/36 ) *Omega(z,x,beta)**(-1/3) + Omega(z,x,beta)**(1/3)\n",
    "def alpha(z, x, beta):\n",
    "    \"\"\"\n",
    "\tEq. (A4) from Ref[1]\n",
    "\t\"\"\"\n",
    "    if z<0: \n",
    "        out= 1/2*(-(2*m(z,x,beta))**(1/2) + ( -2*(m(z,x,beta) + nu(x,beta)) + 2*eta(z,x,beta)*(2*m(z,x,beta))**(-1/2) )**(1/2))\n",
    "    else: \n",
    "        out= 1/2*( (2*m(z,x,beta))**(1/2) + ( -2*(m(z,x,beta) + nu(x,beta)) - 2*eta(z,x,beta)*(2*m(z,x,beta))**(-1/2) )**(1/2))\n",
    "    return re(out)\n",
    "def kappa(z,x,beta):\n",
    "    \"\"\"\n",
    "\tEq. (13) from Ref[1] with argumaent zeta = 0\n",
    "\t\"\"\"\n",
    "    return ( x**2 + 4*(1+x) *sin(alpha(z,x,beta))**2 )**(1/2)\n",
    "\n",
    "\n",
    "def make_2dgrid(func,zmin,zmax,dz, xmin, xmax, dx):\n",
    "    \"\"\"\n",
    "    Make a 2D grid of a function\n",
    "    \"\"\"\n",
    "    zvec = np.arange(zmin, zmax, dz)\n",
    "    xvec = np.arange(xmin, xmax, dx)\n",
    "    list2d= [[func(i,j) for j in xvec] for i in zvec] \n",
    "    return np.array(list2d,dtype=float)\n",
    "    \n",
    "\n",
    "\n",
    "def Wx(gamma,rho,sigmaz,sigmax,dz,dx):\n",
    "    \"\"\"\n",
    "    Apply 2D convolution to compute the transverse wake Wx on a grid \n",
    "    Also returns the zvec and xvec which define the grid\n",
    "    \n",
    "    Still needs to improve the convolution step\n",
    "    \"\"\"\n",
    "    beta = (1-1/gamma**2)**(1/2)\n",
    "    zvec = np.arange(-5*sigmaz, 5*sigmaz, dz)\n",
    "    xvec = np.arange(-5*sigmax, 5*sigmax, dx)\n",
    "    lambdap_list = [[lambda_p_Gauss(i,j) for j in xvec] for i in zvec] \n",
    "    lambdap_grid = np.array(lambdap_list,dtype=float)\n",
    "    zvec2 = np.arange(-10*sigmaz, 10*sigmaz, dz)\n",
    "    xvec2 = np.arange(-10*sigmax, 10*sigmax, dx)\n",
    "    psi_x_list = [[psi_x(i/2/rho,j,beta) for j in xvec2] for i in zvec2]   \n",
    "    psi_x_grid = np.array(psi_x_list,dtype=float)\n",
    "    conv_x = ss.convolve2d(lambdap_grid, psi_x_grid, mode='same', boundary='fill', fillvalue=0)\n",
    "    WxConv = beta**2/rho*conv_x*(dz)*(dx)\n",
    "    return zvec, xvec, WxConv"
   ]
  },
  {
   "cell_type": "code",
   "execution_count": 65,
   "metadata": {},
   "outputs": [],
   "source": [
    "def Ws(gamma,rho,sigmaz,sigmax,dz,dx,method='oa'):\n",
    "    \"\"\"\n",
    "    Apply 2D convolution to compute the longitudinal wake Ws on a grid \n",
    "    Also returns the zvec and xvec which define the grid\n",
    "    \n",
    "    Still needs to improve the convolution step\n",
    "    \"\"\"\n",
    "    beta = (1-1/gamma**2)**(1/2)\n",
    "    xp = np\n",
    "    if method == 'cupy':\n",
    "        xp = cp\n",
    "    elif method == 'oa':\n",
    "        conv_method = oaconvolve\n",
    "    elif method == 'fft':\n",
    "        conv_method = fftconvolve\n",
    "    elif method == '2d':\n",
    "        conv_method = convolve2d\n",
    "    else:\n",
    "        print('Invalid convolution method specified!!')\n",
    "    \n",
    "    # Creating the grid of the z-derivative of the bunch distribution\n",
    "    zvec = np.arange(-5*sigmaz, 5*sigmaz, dz)\n",
    "    xvec = np.arange(-5*sigmax, 5*sigmax, dx)\n",
    "    lambdap_list = [[lambda_p_Gauss(i,j) for j in xvec] for i in zvec] \n",
    "    lambdap_grid = xp.array(lambdap_list,dtype=float)\n",
    "    \n",
    "    # Creating the grid of the potential \n",
    "    zvec2 = np.arange(-10*sigmaz, 10*sigmaz, dz)\n",
    "    xvec2 = np.arange(-10*sigmax, 10*sigmax, dx)\n",
    "    psi_s_list = [[psi_s(i/2/rho,j,beta) for j in xvec2] for i in zvec2]   \n",
    "    psi_s_grid = xp.array(psi_s_list,dtype=float)\n",
    "    \n",
    "    # Convolution\n",
    "    if method == 'cupy':\n",
    "        conv_s = cupy_conv(lambdap_grid, psi_s_grid, mode='constant', cval=0.0)\n",
    "    else:\n",
    "        #conv_s = conv_method(lambdap_grid, psi_s_grid, mode='same', boundary='fill', fillvalue=0)\n",
    "        conv_s = conv_method(lambdap_grid, psi_s_grid, mode='same')\n",
    "        \n",
    "    WsConv = beta**2/rho*conv_s*(dz)*(dx)\n",
    "   \n",
    "    return zvec, xvec, WsConv"
   ]
  },
  {
   "cell_type": "markdown",
   "metadata": {},
   "source": [
    "# Testing"
   ]
  },
  {
   "cell_type": "code",
   "execution_count": 83,
   "metadata": {},
   "outputs": [],
   "source": [
    "gamma = 500\n",
    "rho = 1\n",
    "sigmax = 10E-6\n",
    "sigmaz = 10E-6\n",
    "\n",
    "# Adjust the step size here\n",
    "# Small steps might greatly increase computation time...\n",
    "dz = 0.1*sigmaz\n",
    "dx = 0.1*sigmax"
   ]
  },
  {
   "cell_type": "markdown",
   "metadata": {},
   "source": [
    "## single run testing"
   ]
  },
  {
   "cell_type": "code",
   "execution_count": 86,
   "metadata": {},
   "outputs": [],
   "source": [
    "zvec,xvec, WsConv = Ws(gamma,rho,sigmaz,sigmax,dz,dx,'cupy')"
   ]
  },
  {
   "cell_type": "code",
   "execution_count": 85,
   "metadata": {},
   "outputs": [
    {
     "name": "stdout",
     "output_type": "stream",
     "text": [
      "-2573180.4757994055\n"
     ]
    },
    {
     "data": {
      "text/plain": [
       "cupy.core.core.ndarray"
      ]
     },
     "execution_count": 85,
     "metadata": {},
     "output_type": "execute_result"
    }
   ],
   "source": [
    "# find the index for which zvec[index] is closest to zero\n",
    "zvec_abs=abs(zvec)\n",
    "zix_min = np.where(abs(zvec_abs) == zvec_abs.min())[0][0] \n",
    "xvec_abs=abs(xvec)\n",
    "xix_min = np.where(abs(xvec_abs) == xvec_abs.min())[0][0]\n",
    "\n",
    "print(WsConv[zix_min,xix_min])\n",
    "WsConv.__class__"
   ]
  },
  {
   "cell_type": "code",
   "execution_count": 87,
   "metadata": {},
   "outputs": [],
   "source": [
    "zvec,xvec, WsConv = Ws(gamma,rho,sigmaz,sigmax,dz,dx,'oa')"
   ]
  },
  {
   "cell_type": "code",
   "execution_count": 89,
   "metadata": {},
   "outputs": [
    {
     "name": "stdout",
     "output_type": "stream",
     "text": [
      "-2677061.3108137683\n"
     ]
    },
    {
     "data": {
      "text/plain": [
       "numpy.ndarray"
      ]
     },
     "execution_count": 89,
     "metadata": {},
     "output_type": "execute_result"
    }
   ],
   "source": [
    "print(WsConv[zix_min,xix_min])\n",
    "WsConv.__class__"
   ]
  },
  {
   "cell_type": "code",
   "execution_count": 90,
   "metadata": {},
   "outputs": [],
   "source": [
    "zvec,xvec, WsConv = Ws(gamma,rho,sigmaz,sigmax,dz,dx,'fft')"
   ]
  },
  {
   "cell_type": "code",
   "execution_count": 91,
   "metadata": {},
   "outputs": [
    {
     "name": "stdout",
     "output_type": "stream",
     "text": [
      "-2677061.3108137683\n"
     ]
    },
    {
     "data": {
      "text/plain": [
       "numpy.ndarray"
      ]
     },
     "execution_count": 91,
     "metadata": {},
     "output_type": "execute_result"
    }
   ],
   "source": [
    "print(WsConv[zix_min,xix_min])\n",
    "WsConv.__class__"
   ]
  },
  {
   "cell_type": "markdown",
   "metadata": {},
   "source": [
    "## timing test"
   ]
  },
  {
   "cell_type": "code",
   "execution_count": 47,
   "metadata": {},
   "outputs": [
    {
     "name": "stdout",
     "output_type": "stream",
     "text": [
      "26.1 s ± 815 ms per loop (mean ± std. dev. of 4 runs, 3 loops each)\n"
     ]
    }
   ],
   "source": [
    "%%timeit -n 3 -r 4 \n",
    "zvec,xvec, WsConv = Ws(gamma,rho,sigmaz,sigmax,dz,dx,'cupy')"
   ]
  },
  {
   "cell_type": "code",
   "execution_count": 48,
   "metadata": {},
   "outputs": [
    {
     "name": "stdout",
     "output_type": "stream",
     "text": [
      "25.5 s ± 282 ms per loop (mean ± std. dev. of 4 runs, 3 loops each)\n"
     ]
    }
   ],
   "source": [
    "%%timeit -n 3 -r 4 \n",
    "zvec,xvec, WsConv = Ws(gamma,rho,sigmaz,sigmax,dz,dx,'oa')"
   ]
  },
  {
   "cell_type": "markdown",
   "metadata": {},
   "source": [
    "# Below is Scratch for now"
   ]
  },
  {
   "cell_type": "code",
   "execution_count": 39,
   "metadata": {},
   "outputs": [
    {
     "data": {
      "text/plain": [
       "-2637000.1166977924"
      ]
     },
     "execution_count": 39,
     "metadata": {},
     "output_type": "execute_result"
    }
   ],
   "source": [
    "zvec_abs=abs(zvec)\n",
    "zix_min = np.where(abs(zvec_abs) == zvec_abs.min())[0][0] # find the index for which xvec[index] is closest to zero\n",
    "xvec_abs=abs(xvec)\n",
    "xix_min = np.where(abs(xvec_abs) == xvec_abs.min())[0][0]\n",
    "\n",
    "WsConv[zix_min,xix_min] # returns Ws(~0,~0)"
   ]
  },
  {
   "cell_type": "code",
   "execution_count": 56,
   "metadata": {},
   "outputs": [],
   "source": [
    "np.save('test',WsConv)\n",
    "np.load('test.npy');"
   ]
  },
  {
   "cell_type": "markdown",
   "metadata": {},
   "source": [
    "## Vectorize from Chris"
   ]
  },
  {
   "cell_type": "code",
   "execution_count": 37,
   "metadata": {},
   "outputs": [
    {
     "data": {
      "text/plain": [
       "array([[array(mpf('-58549831524319.141'), dtype=object),\n",
       "        array(mpf('-5830048930056.3857'), dtype=object)],\n",
       "       [array(mpf('-1.959292884786357e-183'), dtype=object),\n",
       "        array(mpf('-71642117.313120723'), dtype=object)]], dtype=object)"
      ]
     },
     "execution_count": 37,
     "metadata": {},
     "output_type": "execute_result"
    }
   ],
   "source": [
    "@np.vectorize\n",
    "def mf(a,b):\n",
    "    return lambda_p_Gauss(a,b)\n",
    "vf = np.vectorize(mf)\n",
    "vf([[0.00001,0.00002],[0.00003,0.00004]] , [[0.00001,0.00002],[0.0003,0.00004]])"
   ]
  },
  {
   "cell_type": "code",
   "execution_count": 58,
   "metadata": {},
   "outputs": [
    {
     "data": {
      "text/plain": [
       "Text(0, 0.5, 'Ws$(10^6 m^{-2})$')"
      ]
     },
     "execution_count": 58,
     "metadata": {},
     "output_type": "execute_result"
    },
    {
     "data": {
      "image/png": "[encoded data removed]",
      "text/plain": [
       "<Figure size 432x288 with 1 Axes>"
      ]
     },
     "metadata": {
      "needs_background": "light"
     },
     "output_type": "display_data"
    }
   ],
   "source": [
    "zvec_abs=abs(zvec)\n",
    "zix_min = np.where(abs(zvec_abs) == zvec_abs.min())[0][0] # find the index for which xvec[index] is closest to zero\n",
    "xvec_abs=abs(xvec)\n",
    "xix_min = np.where(abs(xvec_abs) == xvec_abs.min())[0][0]\n",
    "\n",
    "plt.plot(zvec/sigmaz, WsConv[:,int(xix_min)]/1e6, '-', color='black', label=f\"x = {xvec[xix_min]/sigmax:5.2f} $\\sigma_x$\");\n",
    "plt.legend(loc='upper left')\n",
    "plt.xlabel('z/$\\sigma_z$')\n",
    "plt.ylabel('Ws$(10^6 m^{-2})$')"
   ]
  },
  {
   "cell_type": "code",
   "execution_count": null,
   "metadata": {},
   "outputs": [],
   "source": [
    "%timeit -n 3 -r 4 ndimage.convolve(a, k, mode='constant', cval=0.0)\n",
    "%timeit -n 3 -r 4 signal.convolve2d(a, k, mode='same')\n",
    "%timeit -n 3 -r 4 fftconvolve(a, k, mode='same')\n",
    "%timeit -n 3 -r 4 oaconvolve(a, k, mode='same')\n",
    "\n",
    "a = cp.random.randint(5, size=(N, N))\n",
    "k = cp.random.randint(5, size=(2*N, 2*N))\n",
    "%timeit -n 3 -r 4 filters.convolve(a, k, mode='constant', cval=0.0)"
   ]
  },
  {
   "cell_type": "code",
   "execution_count": 20,
   "metadata": {},
   "outputs": [
    {
     "name": "stdout",
     "output_type": "stream",
     "text": [
      "[[11 21 14 11]\n",
      " [22 26 23 14]\n",
      " [15 23 14  7]\n",
      " [12 14  7  0]]\n"
     ]
    }
   ],
   "source": [
    "from scipy.ndimage import convolve as conv\n",
    "from scipy.signal import convolve2d, fftconvolve, oaconvolve\n",
    "a = np.array([[1, 2, 0, 0],[5, 3, 0, 4],[0, 0, 0, 7],[9, 3, 0, 0]])\n",
    "k = np.array([[1,1,1,1,1],[1,1,1,1,0],[1,1,1,0,0],[1,1,0,0,0],[1,0,0,0,0]])\n",
    "print(conv(a, k, mode='constant', cval=0.0))"
   ]
  },
  {
   "cell_type": "code",
   "execution_count": 23,
   "metadata": {},
   "outputs": [
    {
     "name": "stdout",
     "output_type": "stream",
     "text": [
      "[[11 21 14 11]\n",
      " [22 26 23 14]\n",
      " [15 23 14  7]\n",
      " [12 14  7  0]]\n"
     ]
    }
   ],
   "source": [
    "a = cp.array([[1, 2, 0, 0],[5, 3, 0, 4],[0, 0, 0, 7],[9, 3, 0, 0]])\n",
    "k = cp.array([[1,1,1,1,1],[1,1,1,1,0],[1,1,1,0,0],[1,1,0,0,0],[1,0,0,0,0]])\n",
    "print(cupy_conv(a, k, mode='constant', cval=0.0))"
   ]
  },
  {
   "cell_type": "code",
   "execution_count": null,
   "metadata": {},
   "outputs": [],
   "source": []
  }
 ],
 "metadata": {
  "kernelspec": {
   "display_name": "Test",
   "language": "python",
   "name": "test"
  },
  "language_info": {
   "codemirror_mode": {
    "name": "ipython",
    "version": 3
   },
   "file_extension": ".py",
   "mimetype": "text/x-python",
   "name": "python",
   "nbconvert_exporter": "python",
   "pygments_lexer": "ipython3",
   "version": "3.8.5"
  }
 },
 "nbformat": 4,
 "nbformat_minor": 4
}
