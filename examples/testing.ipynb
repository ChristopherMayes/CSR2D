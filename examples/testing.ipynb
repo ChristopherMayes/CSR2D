{
 "cells": [
  {
   "cell_type": "code",
   "execution_count": null,
   "metadata": {},
   "outputs": [],
   "source": [
    "%load_ext autoreload\n",
    "%autoreload 2"
   ]
  },
  {
   "cell_type": "code",
   "execution_count": 1,
   "metadata": {},
   "outputs": [],
   "source": [
    "# Skip this cell if CSR2D/ is already added under PYHTONPATH \n",
    "import os, sys\n",
    "parent_dir = os.path.dirname(os.getcwd())\n",
    "sys.path.append(parent_dir)  "
   ]
  },
  {
   "cell_type": "markdown",
   "metadata": {},
   "source": [
    "# Function definitions"
   ]
  },
  {
   "cell_type": "code",
   "execution_count": 2,
   "metadata": {},
   "outputs": [],
   "source": [
    "import mpmath as mp\n",
    "import numpy as np\n",
    "import cupy as cp\n",
    "import sys\n",
    "\n",
    "import matplotlib.pyplot as plt\n",
    "\n",
    "from scipy.ndimage import convolve as conv\n",
    "from scipy.signal import convolve2d, fftconvolve, oaconvolve\n",
    "from cupyx.scipy.ndimage import convolve as cupy_conv\n",
    "\n",
    "from csr2d.core import psi_s, psi_x, alpha, psi_x_ss\n",
    "from csr2d.dist import lambda_p_Gauss"
   ]
  },
  {
   "cell_type": "code",
   "execution_count": 4,
   "metadata": {},
   "outputs": [
    {
     "data": {
      "text/plain": [
       "-2.173880284563949"
      ]
     },
     "execution_count": 4,
     "metadata": {},
     "output_type": "execute_result"
    }
   ],
   "source": [
    "psi_x_ss(0.02,0.03,0.999)"
   ]
  },
  {
   "cell_type": "code",
   "execution_count": 5,
   "metadata": {},
   "outputs": [
    {
     "data": {
      "text/plain": [
       "-2.173880284563949"
      ]
     },
     "execution_count": 5,
     "metadata": {},
     "output_type": "execute_result"
    }
   ],
   "source": [
    "psi_x(0.02,0.03,0.999)"
   ]
  },
  {
   "cell_type": "code",
   "execution_count": null,
   "metadata": {},
   "outputs": [],
   "source": [
    "def is_even(n):\n",
    "    if n % 2 == 0:\n",
    "        return -1\n",
    "    else:\n",
    "        return 0\n",
    "a = np.array([[1, 2, 0, 0,2],[5, 3, 0, 4,5],[0, 0, 0, 7,3],[9, 3, 0, 0,2]])\n",
    "(is_even(a.shape[0]),is_even(a.shape[1]))"
   ]
  },
  {
   "cell_type": "code",
   "execution_count": 5,
   "metadata": {},
   "outputs": [],
   "source": [
    "def Ws(gamma, rho, sigmaz, sigmax, dz, dx, method='oa', xp=np, cupy_conv=None):\n",
    "    \"\"\"\n",
    "    Apply 2D convolution to compute the longitudinal wake Ws on a grid \n",
    "    Also returns the zvec and xvec which define the grid\n",
    "    \n",
    "    Still needs to improve the convolution step\n",
    "    \"\"\"\n",
    "    beta = (1-1/gamma**2)**(1/2)\n",
    "    if method == 'cupy':\n",
    "        pass\n",
    "    elif method == 'oa':\n",
    "        conv_method = oaconvolve\n",
    "    elif method == 'fft':\n",
    "        conv_method = fftconvolve\n",
    "    elif method == '2d':\n",
    "        conv_method = convolve2d\n",
    "    else:\n",
    "        print('Invalid convolution method specified!!')\n",
    "        sys.exit(\"Exiting...\")\n",
    "    \n",
    "    print('Here A')\n",
    "    # Creating the grid of the z-derivative of the bunch distribution\n",
    "    zvec = np.arange(-5*sigmaz, 5*sigmaz, dz)\n",
    "    xvec = np.arange(-5*sigmax, 5*sigmax, dx)\n",
    "    lambdap_list = [[lambda_p_Gauss(i,j) for j in xvec] for i in zvec] \n",
    "    lambdap_grid = xp.array(lambdap_list,dtype=float)\n",
    "    \n",
    "    print('Here B')\n",
    "    # Creating the grid of the potential \n",
    "    zvec2 = np.arange(-10*sigmaz, 10*sigmaz, dz)\n",
    "    xvec2 = np.arange(-10*sigmax, 10*sigmax, dx)\n",
    "    psi_s_list = [[psi_s(i/2/rho,j,beta) for j in xvec2] for i in zvec2]   \n",
    "    psi_s_grid = xp.array(psi_s_list,dtype=float)\n",
    "    \n",
    "    print('Here C')\n",
    "    # Convolution\n",
    "    if method == 'cupy':\n",
    "        #origin = (is_even(psi_s_grid.shape[0]),is_even(psi_s_grid.shape[1]))\n",
    "        #conv_s = cupy_conv(lambdap_grid, psi_s_grid, mode='constant',origin=origin)\n",
    "        conv_s = cupy_conv(lambdap_grid, psi_s_grid, mode='constant')\n",
    "    else:\n",
    "        #conv_s = conv_method(lambdap_grid, psi_s_grid, mode='same', boundary='fill', fillvalue=0)\n",
    "        conv_s = conv_method(lambdap_grid, psi_s_grid, mode='same')\n",
    "        \n",
    "    WsConv = (beta**2/rho)*(conv_s)*(dz*dx)\n",
    "   \n",
    "    return zvec, xvec, WsConv"
   ]
  },
  {
   "cell_type": "markdown",
   "metadata": {},
   "source": [
    "# Testing"
   ]
  },
  {
   "cell_type": "code",
   "execution_count": 8,
   "metadata": {},
   "outputs": [],
   "source": [
    "gamma = 500\n",
    "beta = (1-1/gamma**2)**(1/2)\n",
    "rho = 1\n",
    "sigmax = 10E-6\n",
    "sigmaz = 10E-6\n",
    "\n",
    "# Adjust the step size here\n",
    "# Small steps might greatly increase computation time...\n",
    "#dz = 0.1*sigmaz\n",
    "#dx = 0.1*sigmax\n",
    "\n",
    "N = 4\n",
    "dz = 1.0E-4/N\n",
    "dx = 1.0E-4/N"
   ]
  },
  {
   "cell_type": "markdown",
   "metadata": {},
   "source": [
    "### Testing how to make psi_s_list faster..."
   ]
  },
  {
   "cell_type": "code",
   "execution_count": 9,
   "metadata": {},
   "outputs": [
    {
     "name": "stdout",
     "output_type": "stream",
     "text": [
      "CPU times: user 26 µs, sys: 0 ns, total: 26 µs\n",
      "Wall time: 29.3 µs\n"
     ]
    }
   ],
   "source": [
    "%%time\n",
    "zvec2 = np.arange(-10*sigmaz, 10*sigmaz, dz)\n",
    "xvec2 = np.arange(-10*sigmax, 10*sigmax, dx)"
   ]
  },
  {
   "cell_type": "code",
   "execution_count": null,
   "metadata": {},
   "outputs": [],
   "source": [
    "# Looping is SLOW, use vectorization in the future\n",
    "psi_s_list = [[psi_s(i/2/rho,j,beta) for j in xvec2] for i in zvec2]  \n",
    "psi_s_grid = np.array(psi_s_list,dtype=float)"
   ]
  },
  {
   "cell_type": "code",
   "execution_count": 10,
   "metadata": {},
   "outputs": [],
   "source": [
    "zm, xm = np.meshgrid(zvec2, xvec2, sparse=False, indexing='ij')"
   ]
  },
  {
   "cell_type": "code",
   "execution_count": 11,
   "metadata": {},
   "outputs": [
    {
     "data": {
      "text/plain": [
       "numpy.float64"
      ]
     },
     "execution_count": 11,
     "metadata": {},
     "output_type": "execute_result"
    }
   ],
   "source": [
    "xm[0][0].__class__"
   ]
  },
  {
   "cell_type": "code",
   "execution_count": 16,
   "metadata": {},
   "outputs": [
    {
     "data": {
      "text/plain": [
       "array([[ 2.00014178,  2.00011292,  2.00008091,  2.0000478 ,  1.99935015,\n",
       "         1.99997363,  1.99993406,  1.99989847],\n",
       "       [ 2.00013052,  2.0001074 ,  2.0000784 ,  2.00004616,  1.99688248,\n",
       "         1.99997275,  1.9999342 ,  1.99990121],\n",
       "       [ 2.00009999,  2.00009345,  2.0000731 ,  2.00004419,  1.999347  ,\n",
       "         1.99997112,  1.99993564,  1.99991073],\n",
       "       [ 1.99994126,  2.00002402,  2.00004999,  2.00003836,  1.97714054,\n",
       "         1.99997082,  1.99995018,  1.99996783],\n",
       "       [-1.01429801, -1.01869133, -1.02704441, -1.04898133,  0.        ,\n",
       "        -3.43325217, -3.7395658 , -3.83105572],\n",
       "       [-1.92238896, -1.94181626, -1.96075743, -1.97921739, -1.99733791,\n",
       "        -2.01470578, -2.03174658, -2.04833077],\n",
       "       [-1.95209408, -1.9639184 , -1.97555182, -1.98699628, -1.99838986,\n",
       "        -2.00931502, -2.02019243, -2.03088712],\n",
       "       [-1.96375547, -1.9726506 , -1.98143518, -1.99011051, -1.99881389,\n",
       "        -2.00712698, -2.01546952, -2.02370559]])"
      ]
     },
     "execution_count": 16,
     "metadata": {},
     "output_type": "execute_result"
    }
   ],
   "source": [
    "psi_x_ss(zm, xm, beta)"
   ]
  },
  {
   "cell_type": "code",
   "execution_count": null,
   "metadata": {},
   "outputs": [],
   "source": [
    "from itertools import chain\n",
    "def fun(i):\n",
    "    return tuple(psi_s(i/2/rho,j,beta) for j in xvec2)"
   ]
  },
  {
   "cell_type": "code",
   "execution_count": null,
   "metadata": {},
   "outputs": [],
   "source": [
    "%%time  \n",
    "## This iterable method seems equally slow...\n",
    "a = np.fromiter(chain.from_iterable(fun(i) for i in zvec2), float)\n",
    "a.shape = len(zvec2),len(xvec2)"
   ]
  },
  {
   "cell_type": "markdown",
   "metadata": {},
   "source": [
    "### Trying with CP"
   ]
  },
  {
   "cell_type": "code",
   "execution_count": 17,
   "metadata": {},
   "outputs": [
    {
     "ename": "CUDARuntimeError",
     "evalue": "cudaErrorNoDevice: no CUDA-capable device is detected",
     "output_type": "error",
     "traceback": [
      "\u001b[0;31m---------------------------------------------------------------------------\u001b[0m",
      "\u001b[0;31mCUDARuntimeError\u001b[0m                          Traceback (most recent call last)",
      "\u001b[0;32m<ipython-input-17-165a84927238>\u001b[0m in \u001b[0;36m<module>\u001b[0;34m\u001b[0m\n\u001b[0;32m----> 1\u001b[0;31m \u001b[0mzvec2\u001b[0m \u001b[0;34m=\u001b[0m \u001b[0mcp\u001b[0m\u001b[0;34m.\u001b[0m\u001b[0marange\u001b[0m\u001b[0;34m(\u001b[0m\u001b[0;34m-\u001b[0m\u001b[0;36m10\u001b[0m\u001b[0;34m*\u001b[0m\u001b[0msigmaz\u001b[0m\u001b[0;34m,\u001b[0m \u001b[0;36m10\u001b[0m\u001b[0;34m*\u001b[0m\u001b[0msigmaz\u001b[0m\u001b[0;34m,\u001b[0m \u001b[0mdz\u001b[0m\u001b[0;34m)\u001b[0m\u001b[0;34m\u001b[0m\u001b[0;34m\u001b[0m\u001b[0m\n\u001b[0m\u001b[1;32m      2\u001b[0m \u001b[0mxvec2\u001b[0m \u001b[0;34m=\u001b[0m \u001b[0mcp\u001b[0m\u001b[0;34m.\u001b[0m\u001b[0marange\u001b[0m\u001b[0;34m(\u001b[0m\u001b[0;34m-\u001b[0m\u001b[0;36m10\u001b[0m\u001b[0;34m*\u001b[0m\u001b[0msigmax\u001b[0m\u001b[0;34m,\u001b[0m \u001b[0;36m10\u001b[0m\u001b[0;34m*\u001b[0m\u001b[0msigmax\u001b[0m\u001b[0;34m,\u001b[0m \u001b[0mdx\u001b[0m\u001b[0;34m)\u001b[0m\u001b[0;34m\u001b[0m\u001b[0;34m\u001b[0m\u001b[0m\n\u001b[1;32m      3\u001b[0m \u001b[0mzm\u001b[0m\u001b[0;34m,\u001b[0m \u001b[0mxm\u001b[0m \u001b[0;34m=\u001b[0m \u001b[0mcp\u001b[0m\u001b[0;34m.\u001b[0m\u001b[0mmeshgrid\u001b[0m\u001b[0;34m(\u001b[0m\u001b[0mzvec2\u001b[0m\u001b[0;34m,\u001b[0m \u001b[0mxvec2\u001b[0m\u001b[0;34m,\u001b[0m \u001b[0msparse\u001b[0m\u001b[0;34m=\u001b[0m\u001b[0;32mFalse\u001b[0m\u001b[0;34m,\u001b[0m \u001b[0mindexing\u001b[0m\u001b[0;34m=\u001b[0m\u001b[0;34m'ij'\u001b[0m\u001b[0;34m)\u001b[0m\u001b[0;34m\u001b[0m\u001b[0;34m\u001b[0m\u001b[0m\n",
      "\u001b[0;32m~/.conda/envs/cupy/lib/python3.8/site-packages/cupy/_creation/ranges.py\u001b[0m in \u001b[0;36marange\u001b[0;34m(start, stop, step, dtype)\u001b[0m\n\u001b[1;32m     53\u001b[0m             \u001b[0;32mreturn\u001b[0m \u001b[0mcupy\u001b[0m\u001b[0;34m.\u001b[0m\u001b[0marray\u001b[0m\u001b[0;34m(\u001b[0m\u001b[0;34m[\u001b[0m\u001b[0mstart\u001b[0m\u001b[0;34m]\u001b[0m\u001b[0;34m,\u001b[0m \u001b[0mdtype\u001b[0m\u001b[0;34m=\u001b[0m\u001b[0mnumpy\u001b[0m\u001b[0;34m.\u001b[0m\u001b[0mbool_\u001b[0m\u001b[0;34m)\u001b[0m\u001b[0;34m\u001b[0m\u001b[0;34m\u001b[0m\u001b[0m\n\u001b[1;32m     54\u001b[0m \u001b[0;34m\u001b[0m\u001b[0m\n\u001b[0;32m---> 55\u001b[0;31m     \u001b[0mret\u001b[0m \u001b[0;34m=\u001b[0m \u001b[0mcupy\u001b[0m\u001b[0;34m.\u001b[0m\u001b[0mempty\u001b[0m\u001b[0;34m(\u001b[0m\u001b[0;34m(\u001b[0m\u001b[0msize\u001b[0m\u001b[0;34m,\u001b[0m\u001b[0;34m)\u001b[0m\u001b[0;34m,\u001b[0m \u001b[0mdtype\u001b[0m\u001b[0;34m=\u001b[0m\u001b[0mdtype\u001b[0m\u001b[0;34m)\u001b[0m\u001b[0;34m\u001b[0m\u001b[0;34m\u001b[0m\u001b[0m\n\u001b[0m\u001b[1;32m     56\u001b[0m     \u001b[0mtyp\u001b[0m \u001b[0;34m=\u001b[0m \u001b[0mnumpy\u001b[0m\u001b[0;34m.\u001b[0m\u001b[0mdtype\u001b[0m\u001b[0;34m(\u001b[0m\u001b[0mdtype\u001b[0m\u001b[0;34m)\u001b[0m\u001b[0;34m.\u001b[0m\u001b[0mtype\u001b[0m\u001b[0;34m\u001b[0m\u001b[0;34m\u001b[0m\u001b[0m\n\u001b[1;32m     57\u001b[0m     \u001b[0m_arange_ufunc\u001b[0m\u001b[0;34m(\u001b[0m\u001b[0mtyp\u001b[0m\u001b[0;34m(\u001b[0m\u001b[0mstart\u001b[0m\u001b[0;34m)\u001b[0m\u001b[0;34m,\u001b[0m \u001b[0mtyp\u001b[0m\u001b[0;34m(\u001b[0m\u001b[0mstep\u001b[0m\u001b[0;34m)\u001b[0m\u001b[0;34m,\u001b[0m \u001b[0mret\u001b[0m\u001b[0;34m,\u001b[0m \u001b[0mdtype\u001b[0m\u001b[0;34m=\u001b[0m\u001b[0mdtype\u001b[0m\u001b[0;34m)\u001b[0m\u001b[0;34m\u001b[0m\u001b[0;34m\u001b[0m\u001b[0m\n",
      "\u001b[0;32m~/.conda/envs/cupy/lib/python3.8/site-packages/cupy/_creation/basic.py\u001b[0m in \u001b[0;36mempty\u001b[0;34m(shape, dtype, order)\u001b[0m\n\u001b[1;32m     20\u001b[0m \u001b[0;34m\u001b[0m\u001b[0m\n\u001b[1;32m     21\u001b[0m     \"\"\"\n\u001b[0;32m---> 22\u001b[0;31m     \u001b[0;32mreturn\u001b[0m \u001b[0mcupy\u001b[0m\u001b[0;34m.\u001b[0m\u001b[0mndarray\u001b[0m\u001b[0;34m(\u001b[0m\u001b[0mshape\u001b[0m\u001b[0;34m,\u001b[0m \u001b[0mdtype\u001b[0m\u001b[0;34m,\u001b[0m \u001b[0morder\u001b[0m\u001b[0;34m=\u001b[0m\u001b[0morder\u001b[0m\u001b[0;34m)\u001b[0m\u001b[0;34m\u001b[0m\u001b[0;34m\u001b[0m\u001b[0m\n\u001b[0m\u001b[1;32m     23\u001b[0m \u001b[0;34m\u001b[0m\u001b[0m\n\u001b[1;32m     24\u001b[0m \u001b[0;34m\u001b[0m\u001b[0m\n",
      "\u001b[0;32mcupy/core/core.pyx\u001b[0m in \u001b[0;36mcupy.core.core.ndarray.__init__\u001b[0;34m()\u001b[0m\n",
      "\u001b[0;32mcupy/cuda/memory.pyx\u001b[0m in \u001b[0;36mcupy.cuda.memory.alloc\u001b[0;34m()\u001b[0m\n",
      "\u001b[0;32mcupy/cuda/memory.pyx\u001b[0m in \u001b[0;36mcupy.cuda.memory.MemoryPool.malloc\u001b[0;34m()\u001b[0m\n",
      "\u001b[0;32mcupy/cuda/memory.pyx\u001b[0m in \u001b[0;36mcupy.cuda.memory.MemoryPool.malloc\u001b[0;34m()\u001b[0m\n",
      "\u001b[0;32mcupy/cuda/device.pyx\u001b[0m in \u001b[0;36mcupy.cuda.device.get_device_id\u001b[0;34m()\u001b[0m\n",
      "\u001b[0;32mcupy_backends/cuda/api/runtime.pyx\u001b[0m in \u001b[0;36mcupy_backends.cuda.api.runtime.getDevice\u001b[0;34m()\u001b[0m\n",
      "\u001b[0;32mcupy_backends/cuda/api/runtime.pyx\u001b[0m in \u001b[0;36mcupy_backends.cuda.api.runtime.check_status\u001b[0;34m()\u001b[0m\n",
      "\u001b[0;31mCUDARuntimeError\u001b[0m: cudaErrorNoDevice: no CUDA-capable device is detected"
     ]
    }
   ],
   "source": [
    "zvec2 = cp.arange(-10*sigmaz, 10*sigmaz, dz)\n",
    "xvec2 = cp.arange(-10*sigmax, 10*sigmax, dx)\n",
    "zm, xm = cp.meshgrid(zvec2, xvec2, sparse=False, indexing='ij')"
   ]
  },
  {
   "cell_type": "markdown",
   "metadata": {},
   "source": [
    "## single run testing"
   ]
  },
  {
   "cell_type": "code",
   "execution_count": null,
   "metadata": {},
   "outputs": [],
   "source": [
    "%%time\n",
    "zvec, xvec, WsConv = Ws(gamma, rho, sigmaz, sigmax, dz, dx, method='cupy', xp=cp, cupy_conv=cupy_conv)"
   ]
  },
  {
   "cell_type": "code",
   "execution_count": null,
   "metadata": {},
   "outputs": [],
   "source": [
    "# Checking the result is a cupy entity\n",
    "WsConv.__class__"
   ]
  },
  {
   "cell_type": "code",
   "execution_count": null,
   "metadata": {},
   "outputs": [],
   "source": [
    "temp=abs(zvec)\n",
    "zix_0 = np.where(temp == temp.min())[0][0] \n",
    "temp=abs(zvec-1*sigmaz)\n",
    "zix_1sig = np.where(temp == temp.min())[0][0] \n",
    "temp=abs(zvec-2*sigmaz)\n",
    "zix_2sig = np.where(temp == temp.min())[0][0] \n",
    "\n",
    "temp=abs(xvec)\n",
    "xix_0 = np.where(temp == temp.min())[0][0] \n",
    "temp=abs(xvec-1*sigmax)\n",
    "xix_1sig = np.where(temp == temp.min())[0][0] \n",
    "temp=abs(xvec-2*sigmax)\n",
    "xix_2sig = np.where(temp == temp.min())[0][0] \n",
    "\n",
    "print(WsConv.shape)\n",
    "print(zix_0)\n",
    "print(zix_1sig)\n",
    "print(zix_2sig)\n",
    "print(WsConv[zix_0,xix_0])\n",
    "print(WsConv[zix_1sig,xix_0])\n",
    "print(WsConv[zix_2sig,xix_0])\n",
    "print(WsConv[zix_0,xix_1sig])\n",
    "print(WsConv[zix_0,xix_2sig])\n",
    "WsConv.__class__"
   ]
  },
  {
   "cell_type": "code",
   "execution_count": null,
   "metadata": {},
   "outputs": [],
   "source": [
    "%%time\n",
    "zvec, xvec, WsConv = Ws(gamma, rho, sigmaz, sigmax, dz, dx, 'oa')"
   ]
  },
  {
   "cell_type": "code",
   "execution_count": null,
   "metadata": {},
   "outputs": [],
   "source": [
    "print(WsConv[zix_min,xix_min])\n",
    "WsConv.__class__"
   ]
  },
  {
   "cell_type": "code",
   "execution_count": null,
   "metadata": {},
   "outputs": [],
   "source": [
    "%%time \n",
    "zvec,xvec, WsConv = Ws(gamma,rho,sigmaz,sigmax,dz,dx,'fft')"
   ]
  },
  {
   "cell_type": "code",
   "execution_count": null,
   "metadata": {},
   "outputs": [],
   "source": [
    "print(WsConv[zix_min,xix_min])\n",
    "WsConv.__class__"
   ]
  },
  {
   "cell_type": "markdown",
   "metadata": {},
   "source": [
    "## timing test"
   ]
  },
  {
   "cell_type": "code",
   "execution_count": null,
   "metadata": {},
   "outputs": [],
   "source": [
    "%%timeit -n 3 -r 3\n",
    "Ws(gamma, rho, sigmaz, sigmax, dz, dx, method='cupy', xp=cp, cupy_conv=cupy_conv)"
   ]
  },
  {
   "cell_type": "code",
   "execution_count": null,
   "metadata": {},
   "outputs": [],
   "source": [
    "%%timeit -n 3 -r 3\n",
    "zvec,xvec, WsConv = Ws(gamma,rho,sigmaz,sigmax,dz,dx,'oa')"
   ]
  },
  {
   "cell_type": "markdown",
   "metadata": {},
   "source": [
    "# I/O"
   ]
  },
  {
   "cell_type": "code",
   "execution_count": null,
   "metadata": {},
   "outputs": [],
   "source": [
    "# Find index where zvec returns one sigma_z\n",
    "temp=abs(zvec-1*sigmaz)\n",
    "zix_1sig = np.where(temp == temp.min())[0][0] \n",
    "print(zix_1sig)\n",
    "print(zvec[zix_1sig])"
   ]
  },
  {
   "cell_type": "code",
   "execution_count": null,
   "metadata": {},
   "outputs": [],
   "source": [
    "print(zvec.shape[0])\n",
    "print(xvec.shape[0])"
   ]
  },
  {
   "cell_type": "code",
   "execution_count": null,
   "metadata": {},
   "outputs": [],
   "source": [
    "size = 1000\n",
    "\n",
    "# cp doesn't have savetxt function, so load it to npy first hten use np to write\n",
    "cp.save('temp.npy',WsConv)\n",
    "dat = np.load('temp.npy')\n",
    "np.savetxt('WsConv_'+str(size)+'.txt',dat)"
   ]
  },
  {
   "cell_type": "markdown",
   "metadata": {},
   "source": [
    "# Below is Scratch for now"
   ]
  },
  {
   "cell_type": "code",
   "execution_count": null,
   "metadata": {},
   "outputs": [],
   "source": [
    "zvec_abs=abs(zvec)\n",
    "zix_min = np.where(abs(zvec_abs) == zvec_abs.min())[0][0] # find the index for which xvec[index] is closest to zero\n",
    "xvec_abs=abs(xvec)\n",
    "xix_min = np.where(abs(xvec_abs) == xvec_abs.min())[0][0]\n",
    "\n",
    "WsConv[zix_min,xix_min] # returns Ws(~0,~0)"
   ]
  },
  {
   "cell_type": "code",
   "execution_count": null,
   "metadata": {},
   "outputs": [],
   "source": [
    "WsConv.__class__"
   ]
  },
  {
   "cell_type": "code",
   "execution_count": null,
   "metadata": {},
   "outputs": [],
   "source": [
    "cp.save('t1.npy',WsConv)"
   ]
  },
  {
   "cell_type": "code",
   "execution_count": null,
   "metadata": {},
   "outputs": [],
   "source": [
    "dat = np.load('t1.npy')\n",
    "np.savetxt('text.txt',dat)"
   ]
  },
  {
   "cell_type": "code",
   "execution_count": null,
   "metadata": {},
   "outputs": [],
   "source": [
    "np.save('test',WsConv)\n",
    "np.load('test.npy');"
   ]
  },
  {
   "cell_type": "markdown",
   "metadata": {},
   "source": [
    "## Vectorize from Chris"
   ]
  },
  {
   "cell_type": "code",
   "execution_count": null,
   "metadata": {},
   "outputs": [],
   "source": [
    "@np.vectorize\n",
    "def mf(a,b):\n",
    "    return lambda_p_Gauss(a,b)\n",
    "vf = np.vectorize(mf)\n",
    "vf([[0.00001,0.00002],[0.00003,0.00004]] , [[0.00001,0.00002],[0.0003,0.00004]])"
   ]
  },
  {
   "cell_type": "code",
   "execution_count": null,
   "metadata": {},
   "outputs": [],
   "source": [
    "zvec_abs=abs(zvec)\n",
    "zix_min = np.where(abs(zvec_abs) == zvec_abs.min())[0][0] # find the index for which xvec[index] is closest to zero\n",
    "xvec_abs=abs(xvec)\n",
    "xix_min = np.where(abs(xvec_abs) == xvec_abs.min())[0][0]\n",
    "\n",
    "plt.plot(zvec/sigmaz, WsConv[:,int(xix_min)]/1e6, '-', color='black', label=f\"x = {xvec[xix_min]/sigmax:5.2f} $\\sigma_x$\");\n",
    "plt.legend(loc='upper left')\n",
    "plt.xlabel('z/$\\sigma_z$')\n",
    "plt.ylabel('Ws$(10^6 m^{-2})$')"
   ]
  },
  {
   "cell_type": "code",
   "execution_count": null,
   "metadata": {},
   "outputs": [],
   "source": [
    "%timeit -n 3 -r 4 ndimage.convolve(a, k, mode='constant', cval=0.0)\n",
    "%timeit -n 3 -r 4 signal.convolve2d(a, k, mode='same')\n",
    "%timeit -n 3 -r 4 fftconvolve(a, k, mode='same')\n",
    "%timeit -n 3 -r 4 oaconvolve(a, k, mode='same')\n",
    "\n",
    "a = cp.random.randint(5, size=(N, N))\n",
    "k = cp.random.randint(5, size=(2*N, 2*N))\n",
    "%timeit -n 3 -r 4 filters.convolve(a, k, mode='constant', cval=0.0)"
   ]
  },
  {
   "cell_type": "code",
   "execution_count": null,
   "metadata": {},
   "outputs": [],
   "source": [
    "from scipy.ndimage import convolve as conv\n",
    "from scipy.signal import convolve2d, fftconvolve, oaconvolve\n",
    "a = np.array([[1, 2, 0, 0],[5, 3, 0, 4],[0, 0, 0, 7],[9, 3, 0, 0]])\n",
    "k = np.array([[1,1,1,1,1],[1,1,1,1,0],[1,1,1,0,0],[1,1,0,0,0],[1,0,0,0,0]])\n",
    "print(conv(a, k, mode='constant', cval=0.0))"
   ]
  },
  {
   "cell_type": "code",
   "execution_count": null,
   "metadata": {},
   "outputs": [],
   "source": [
    "a = cp.array([[1, 2, 0, 0],[5, 3, 0, 4],[0, 0, 0, 7],[9, 3, 0, 0]])\n",
    "k = cp.array([[1,1,1,1,1],[1,1,1,1,0],[1,1,1,0,0],[1,1,0,0,0],[1,0,0,0,0]])\n",
    "print(cupy_conv(a, k, mode='constant', cval=0.0))"
   ]
  },
  {
   "cell_type": "code",
   "execution_count": null,
   "metadata": {},
   "outputs": [],
   "source": []
  }
 ],
 "metadata": {
  "kernelspec": {
   "display_name": "Cupy",
   "language": "python",
   "name": "cupy"
  },
  "language_info": {
   "codemirror_mode": {
    "name": "ipython",
    "version": 3
   },
   "file_extension": ".py",
   "mimetype": "text/x-python",
   "name": "python",
   "nbconvert_exporter": "python",
   "pygments_lexer": "ipython3",
   "version": "3.8.6"
  }
 },
 "nbformat": 4,
 "nbformat_minor": 4
}
