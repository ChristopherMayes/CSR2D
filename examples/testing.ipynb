{
 "cells": [
  {
   "cell_type": "code",
   "execution_count": 1,
   "metadata": {},
   "outputs": [],
   "source": [
    "%load_ext autoreload\n",
    "%autoreload 2"
   ]
  },
  {
   "cell_type": "code",
   "execution_count": 2,
   "metadata": {},
   "outputs": [],
   "source": [
    "# Skip this cell if CSR2D/ is already added under PYHTONPATH \n",
    "import os, sys\n",
    "parent_dir = os.path.dirname(os.getcwd())\n",
    "sys.path.append(parent_dir)  "
   ]
  },
  {
   "cell_type": "code",
   "execution_count": 24,
   "metadata": {},
   "outputs": [],
   "source": [
    "# Ignore wanrings from singularities\n",
    "import warnings\n",
    "warnings.filterwarnings(\"ignore\")"
   ]
  },
  {
   "cell_type": "markdown",
   "metadata": {},
   "source": [
    "# Function definitions"
   ]
  },
  {
   "cell_type": "code",
   "execution_count": 30,
   "metadata": {},
   "outputs": [],
   "source": [
    "import mpmath as mp\n",
    "import numpy as np\n",
    "import cupy as cp\n",
    "import sys\n",
    "import time\n",
    "\n",
    "import matplotlib.pyplot as plt\n",
    "\n",
    "from scipy.ndimage import convolve as conv\n",
    "from scipy.signal import convolve2d, fftconvolve, oaconvolve\n",
    "from cupyx.scipy.ndimage import convolve as cupy_conv\n",
    "\n",
    "from csr2d.core import psi_s, psi_x, alpha, psi_x_mp\n",
    "from csr2d.dist import lambda_p_Gauss\n",
    "import concurrent.futures as cf"
   ]
  },
  {
   "cell_type": "code",
   "execution_count": null,
   "metadata": {},
   "outputs": [],
   "source": [
    "def is_even(n):\n",
    "    if n % 2 == 0:\n",
    "        return -1\n",
    "    else:\n",
    "        return 0\n",
    "a = np.array([[1, 2, 0, 0,2],[5, 3, 0, 4,5],[0, 0, 0, 7,3],[9, 3, 0, 0,2]])\n",
    "(is_even(a.shape[0]),is_even(a.shape[1]))"
   ]
  },
  {
   "cell_type": "code",
   "execution_count": 9,
   "metadata": {},
   "outputs": [
    {
     "name": "stdout",
     "output_type": "stream",
     "text": [
      "step 1 takes: 6.413459777832031e-05\n"
     ]
    }
   ],
   "source": [
    "t1 = time.time()\n",
    "t2 = time.time()\n",
    "print('step 1 takes:', t2-t1)"
   ]
  },
  {
   "cell_type": "code",
   "execution_count": 19,
   "metadata": {},
   "outputs": [],
   "source": [
    "def Ws(gamma, rho, sigmaz, sigmax, dz, dx, max_workers = 1, method='oa', xp=np, cupy_conv=None):\n",
    "    \"\"\"\n",
    "    Apply 2D convolution to compute the longitudinal wake Ws on a grid \n",
    "    Also returns the zvec and xvec which define the grid\n",
    "    \n",
    "    Still needs to improve the convolution step\n",
    "    \"\"\"\n",
    "    beta = (1-1/gamma**2)**(1/2)\n",
    "    if method == 'cupy':\n",
    "        pass\n",
    "    elif method == 'oa':\n",
    "        conv_method = oaconvolve\n",
    "    elif method == 'fft':\n",
    "        conv_method = fftconvolve\n",
    "    elif method == '2d':\n",
    "        conv_method = convolve2d\n",
    "    else:\n",
    "        print('Invalid convolution method specified!!')\n",
    "        sys.exit(\"Exiting...\")\n",
    "    \n",
    "    print('Here A')\n",
    "    t1 = time.time()\n",
    "    # Creating the grid of the z-derivative of the bunch distribution\n",
    "    zvec = xp.arange(-5*sigmaz, 5*sigmaz, dz)\n",
    "    xvec = xp.arange(-5*sigmax, 5*sigmax, dx)\n",
    "    zm, xm = xp.meshgrid(zvec, xvec, indexing='ij')\n",
    "    lambdap_grid = lambda_p_Gauss(zm,xm)\n",
    "   \n",
    "    with cf.ProcessPoolExecutor(max_workers = max_workers) as executor:\n",
    "        temp = executor.map(lambda_p_Gauss, zm, xm)\n",
    "        result2 = np.array(list(temp))\n",
    "        \n",
    "    #lambdap_list = [[lambda_p_Gauss(i,j) for j in xvec] for i in zvec] \n",
    "    #lambdap_grid = xp.array(lambdap_list,dtype=float)\n",
    "    \n",
    "    print('Here B')\n",
    "    t2 = time.time()\n",
    "    # Creating the grid of the potential \n",
    "    zvec2 = xp.arange(-10*sigmaz, 10*sigmaz, dz)\n",
    "    xvec2 = xp.arange(-10*sigmax, 10*sigmax, dx)\n",
    "    zm2, xm2 = xp.meshgrid(zvec2, xvec2, indexing='ij')\n",
    "    psi_s_grid = psi_s(zm2,xm2,beta)\n",
    "    \n",
    "    print('Here C')\n",
    "    t3 = time.time()\n",
    "    # Convolution\n",
    "    if method == 'cupy':\n",
    "        #origin = (is_even(psi_s_grid.shape[0]),is_even(psi_s_grid.shape[1]))\n",
    "        #conv_s = cupy_conv(lambdap_grid, psi_s_grid, mode='constant',origin=origin)\n",
    "        conv_s = cupy_conv(lambdap_grid, psi_s_grid, mode='constant')\n",
    "    else:\n",
    "        #conv_s = conv_method(lambdap_grid, psi_s_grid, mode='same', boundary='fill', fillvalue=0)\n",
    "        conv_s = conv_method(lambdap_grid, psi_s_grid, mode='same')\n",
    "        \n",
    "    t4 = time.time()\n",
    "    WsConv = (beta**2/rho)*(conv_s)*(dz*dx)\n",
    "    \n",
    "    print('step 1 takes:', t2-t1)\n",
    "    print('step 2 takes:', t3-t2)\n",
    "    print('step 3 takes:', t4-t3)\n",
    "    print('In total it takes:', t4-t1)\n",
    "   \n",
    "    return zvec, xvec, WsConv"
   ]
  },
  {
   "cell_type": "markdown",
   "metadata": {},
   "source": [
    "# Testing"
   ]
  },
  {
   "cell_type": "code",
   "execution_count": 26,
   "metadata": {},
   "outputs": [],
   "source": [
    "gamma = 500\n",
    "beta = (1-1/gamma**2)**(1/2)\n",
    "rho = 1\n",
    "sigmax = 10E-6\n",
    "sigmaz = 10E-6\n",
    "\n",
    "# Adjust the step size here\n",
    "# Small steps might greatly increase computation time...\n",
    "#dz = 0.1*sigmaz\n",
    "#dx = 0.1*sigmax\n",
    "\n",
    "N = 800\n",
    "dz = 1.0E-4/N\n",
    "dx = 1.0E-4/N"
   ]
  },
  {
   "cell_type": "markdown",
   "metadata": {},
   "source": [
    "### Testing how to make psi_s_list faster..."
   ]
  },
  {
   "cell_type": "code",
   "execution_count": 44,
   "metadata": {},
   "outputs": [
    {
     "name": "stdout",
     "output_type": "stream",
     "text": [
      "CPU times: user 11.3 ms, sys: 24.6 ms, total: 35.9 ms\n",
      "Wall time: 34.7 ms\n"
     ]
    }
   ],
   "source": [
    "%%time\n",
    "zvec2 = np.arange(-10*sigmaz, 10*sigmaz, dz)\n",
    "xvec2 = np.arange(-10*sigmax, 10*sigmax, dx)\n",
    "zm2, xm2 = np.meshgrid(zvec2, xvec2, sparse=False, indexing='ij')\n",
    "\n",
    "beta_grid = beta*np.ones(zm2.shape)"
   ]
  },
  {
   "cell_type": "code",
   "execution_count": 48,
   "metadata": {},
   "outputs": [
    {
     "name": "stdout",
     "output_type": "stream",
     "text": [
      "CPU times: user 751 ms, sys: 405 ms, total: 1.16 s\n",
      "Wall time: 1.55 s\n"
     ]
    }
   ],
   "source": [
    "%%time\n",
    "with cf.ProcessPoolExecutor(max_workers = 20) as executor:\n",
    "    temp = executor.map(psi_s, zm2, xm2, beta_grid)\n",
    "    result2 = np.array(list(temp))"
   ]
  },
  {
   "cell_type": "code",
   "execution_count": 41,
   "metadata": {},
   "outputs": [
    {
     "data": {
      "text/plain": [
       "(1601, 1601)"
      ]
     },
     "execution_count": 41,
     "metadata": {},
     "output_type": "execute_result"
    }
   ],
   "source": [
    "result2.shape"
   ]
  },
  {
   "cell_type": "code",
   "execution_count": null,
   "metadata": {},
   "outputs": [],
   "source": [
    "# Looping is SLOW, use vectorization in the future\n",
    "psi_s_list = [[psi_s(i/2/rho,j,beta) for j in xvec2] for i in zvec2]  \n",
    "psi_s_grid = np.array(psi_s_list,dtype=float)"
   ]
  },
  {
   "cell_type": "code",
   "execution_count": null,
   "metadata": {},
   "outputs": [],
   "source": [
    "from itertools import chain\n",
    "def fun(i):\n",
    "    return tuple(psi_s(i/2/rho,j,beta) for j in xvec2)"
   ]
  },
  {
   "cell_type": "code",
   "execution_count": null,
   "metadata": {},
   "outputs": [],
   "source": [
    "%%time  \n",
    "## This iterable method seems equally slow...\n",
    "a = np.fromiter(chain.from_iterable(fun(i) for i in zvec2), float)\n",
    "a.shape = len(zvec2),len(xvec2)"
   ]
  },
  {
   "cell_type": "markdown",
   "metadata": {},
   "source": [
    "### Trying with CP"
   ]
  },
  {
   "cell_type": "code",
   "execution_count": null,
   "metadata": {},
   "outputs": [],
   "source": [
    "zvec2 = cp.arange(-10*sigmaz, 10*sigmaz, dz)\n",
    "xvec2 = cp.arange(-10*sigmax, 10*sigmax, dx)\n",
    "zm, xm = cp.meshgrid(zvec2, xvec2, sparse=False, indexing='ij')"
   ]
  },
  {
   "cell_type": "code",
   "execution_count": null,
   "metadata": {},
   "outputs": [],
   "source": [
    "# Checking the result is a cupy entity\n",
    "WsConv.__class__"
   ]
  },
  {
   "cell_type": "markdown",
   "metadata": {},
   "source": [
    "## single run testing"
   ]
  },
  {
   "cell_type": "code",
   "execution_count": 28,
   "metadata": {},
   "outputs": [
    {
     "name": "stdout",
     "output_type": "stream",
     "text": [
      "Here A\n",
      "Here B\n",
      "Here C\n",
      "step 1 takes: 0.0421600341796875\n",
      "step 2 takes: 10.286968469619751\n",
      "step 3 takes: 0.5170655250549316\n",
      "In total it takes: 10.84619402885437\n",
      "CPU times: user 10 s, sys: 827 ms, total: 10.8 s\n",
      "Wall time: 10.9 s\n"
     ]
    }
   ],
   "source": [
    "%%time\n",
    "zvec, xvec, WsConv = Ws(gamma, rho, sigmaz, sigmax, dz, dx)"
   ]
  },
  {
   "cell_type": "code",
   "execution_count": null,
   "metadata": {},
   "outputs": [],
   "source": [
    "%%time\n",
    "zvec, xvec, WsConv = Ws(gamma, rho, sigmaz, sigmax, dz, dx, method='cupy', xp=cp, cupy_conv=cupy_conv)"
   ]
  },
  {
   "cell_type": "code",
   "execution_count": null,
   "metadata": {},
   "outputs": [],
   "source": [
    "temp=abs(zvec)\n",
    "zix_0 = np.where(temp == temp.min())[0][0] \n",
    "temp=abs(zvec-1*sigmaz)\n",
    "zix_1sig = np.where(temp == temp.min())[0][0] \n",
    "temp=abs(zvec-2*sigmaz)\n",
    "zix_2sig = np.where(temp == temp.min())[0][0] \n",
    "\n",
    "temp=abs(xvec)\n",
    "xix_0 = np.where(temp == temp.min())[0][0] \n",
    "temp=abs(xvec-1*sigmax)\n",
    "xix_1sig = np.where(temp == temp.min())[0][0] \n",
    "temp=abs(xvec-2*sigmax)\n",
    "xix_2sig = np.where(temp == temp.min())[0][0] \n",
    "\n",
    "print(WsConv.shape)\n",
    "print(zix_0)\n",
    "print(zix_1sig)\n",
    "print(zix_2sig)\n",
    "print(WsConv[zix_0,xix_0])\n",
    "print(WsConv[zix_1sig,xix_0])\n",
    "print(WsConv[zix_2sig,xix_0])\n",
    "print(WsConv[zix_0,xix_1sig])\n",
    "print(WsConv[zix_0,xix_2sig])\n",
    "WsConv.__class__"
   ]
  },
  {
   "cell_type": "code",
   "execution_count": null,
   "metadata": {},
   "outputs": [],
   "source": [
    "%%time\n",
    "zvec, xvec, WsConv = Ws(gamma, rho, sigmaz, sigmax, dz, dx, 'oa')"
   ]
  },
  {
   "cell_type": "code",
   "execution_count": null,
   "metadata": {},
   "outputs": [],
   "source": [
    "print(WsConv[zix_min,xix_min])\n",
    "WsConv.__class__"
   ]
  },
  {
   "cell_type": "code",
   "execution_count": null,
   "metadata": {},
   "outputs": [],
   "source": [
    "%%time \n",
    "zvec,xvec, WsConv = Ws(gamma,rho,sigmaz,sigmax,dz,dx,'fft')"
   ]
  },
  {
   "cell_type": "code",
   "execution_count": null,
   "metadata": {},
   "outputs": [],
   "source": [
    "print(WsConv[zix_min,xix_min])\n",
    "WsConv.__class__"
   ]
  },
  {
   "cell_type": "markdown",
   "metadata": {},
   "source": [
    "## timing test"
   ]
  },
  {
   "cell_type": "code",
   "execution_count": null,
   "metadata": {},
   "outputs": [],
   "source": [
    "%%timeit -n 3 -r 3\n",
    "Ws(gamma, rho, sigmaz, sigmax, dz, dx, method='cupy', xp=cp, cupy_conv=cupy_conv)"
   ]
  },
  {
   "cell_type": "code",
   "execution_count": null,
   "metadata": {},
   "outputs": [],
   "source": [
    "%%timeit -n 3 -r 3\n",
    "zvec,xvec, WsConv = Ws(gamma,rho,sigmaz,sigmax,dz,dx,'oa')"
   ]
  },
  {
   "cell_type": "markdown",
   "metadata": {},
   "source": [
    "# I/O"
   ]
  },
  {
   "cell_type": "code",
   "execution_count": null,
   "metadata": {},
   "outputs": [],
   "source": [
    "# Find index where zvec returns one sigma_z\n",
    "temp=abs(zvec-1*sigmaz)\n",
    "zix_1sig = np.where(temp == temp.min())[0][0] \n",
    "print(zix_1sig)\n",
    "print(zvec[zix_1sig])"
   ]
  },
  {
   "cell_type": "code",
   "execution_count": null,
   "metadata": {},
   "outputs": [],
   "source": [
    "print(zvec.shape[0])\n",
    "print(xvec.shape[0])"
   ]
  },
  {
   "cell_type": "code",
   "execution_count": null,
   "metadata": {},
   "outputs": [],
   "source": [
    "size = 1000\n",
    "\n",
    "# cp doesn't have savetxt function, so load it to npy first hten use np to write\n",
    "cp.save('temp.npy',WsConv)\n",
    "dat = np.load('temp.npy')\n",
    "np.savetxt('WsConv_'+str(size)+'.txt',dat)"
   ]
  },
  {
   "cell_type": "markdown",
   "metadata": {},
   "source": [
    "# Below is Scratch for now"
   ]
  },
  {
   "cell_type": "code",
   "execution_count": null,
   "metadata": {},
   "outputs": [],
   "source": [
    "zvec_abs=abs(zvec)\n",
    "zix_min = np.where(abs(zvec_abs) == zvec_abs.min())[0][0] # find the index for which xvec[index] is closest to zero\n",
    "xvec_abs=abs(xvec)\n",
    "xix_min = np.where(abs(xvec_abs) == xvec_abs.min())[0][0]\n",
    "\n",
    "WsConv[zix_min,xix_min] # returns Ws(~0,~0)"
   ]
  },
  {
   "cell_type": "code",
   "execution_count": null,
   "metadata": {},
   "outputs": [],
   "source": [
    "WsConv.__class__"
   ]
  },
  {
   "cell_type": "code",
   "execution_count": null,
   "metadata": {},
   "outputs": [],
   "source": [
    "cp.save('t1.npy',WsConv)"
   ]
  },
  {
   "cell_type": "code",
   "execution_count": null,
   "metadata": {},
   "outputs": [],
   "source": [
    "dat = np.load('t1.npy')\n",
    "np.savetxt('text.txt',dat)"
   ]
  },
  {
   "cell_type": "code",
   "execution_count": null,
   "metadata": {},
   "outputs": [],
   "source": [
    "np.save('test',WsConv)\n",
    "np.load('test.npy');"
   ]
  },
  {
   "cell_type": "markdown",
   "metadata": {},
   "source": [
    "## Vectorize from Chris"
   ]
  },
  {
   "cell_type": "code",
   "execution_count": null,
   "metadata": {},
   "outputs": [],
   "source": [
    "@np.vectorize\n",
    "def mf(a,b):\n",
    "    return lambda_p_Gauss(a,b)\n",
    "vf = np.vectorize(mf)\n",
    "vf([[0.00001,0.00002],[0.00003,0.00004]] , [[0.00001,0.00002],[0.0003,0.00004]])"
   ]
  },
  {
   "cell_type": "code",
   "execution_count": null,
   "metadata": {},
   "outputs": [],
   "source": [
    "zvec_abs=abs(zvec)\n",
    "zix_min = np.where(abs(zvec_abs) == zvec_abs.min())[0][0] # find the index for which xvec[index] is closest to zero\n",
    "xvec_abs=abs(xvec)\n",
    "xix_min = np.where(abs(xvec_abs) == xvec_abs.min())[0][0]\n",
    "\n",
    "plt.plot(zvec/sigmaz, WsConv[:,int(xix_min)]/1e6, '-', color='black', label=f\"x = {xvec[xix_min]/sigmax:5.2f} $\\sigma_x$\");\n",
    "plt.legend(loc='upper left')\n",
    "plt.xlabel('z/$\\sigma_z$')\n",
    "plt.ylabel('Ws$(10^6 m^{-2})$')"
   ]
  },
  {
   "cell_type": "code",
   "execution_count": null,
   "metadata": {},
   "outputs": [],
   "source": [
    "%timeit -n 3 -r 4 ndimage.convolve(a, k, mode='constant', cval=0.0)\n",
    "%timeit -n 3 -r 4 signal.convolve2d(a, k, mode='same')\n",
    "%timeit -n 3 -r 4 fftconvolve(a, k, mode='same')\n",
    "%timeit -n 3 -r 4 oaconvolve(a, k, mode='same')\n",
    "\n",
    "a = cp.random.randint(5, size=(N, N))\n",
    "k = cp.random.randint(5, size=(2*N, 2*N))\n",
    "%timeit -n 3 -r 4 filters.convolve(a, k, mode='constant', cval=0.0)"
   ]
  },
  {
   "cell_type": "code",
   "execution_count": null,
   "metadata": {},
   "outputs": [],
   "source": [
    "from scipy.ndimage import convolve as conv\n",
    "from scipy.signal import convolve2d, fftconvolve, oaconvolve\n",
    "a = np.array([[1, 2, 0, 0],[5, 3, 0, 4],[0, 0, 0, 7],[9, 3, 0, 0]])\n",
    "k = np.array([[1,1,1,1,1],[1,1,1,1,0],[1,1,1,0,0],[1,1,0,0,0],[1,0,0,0,0]])\n",
    "print(conv(a, k, mode='constant', cval=0.0))"
   ]
  },
  {
   "cell_type": "code",
   "execution_count": null,
   "metadata": {},
   "outputs": [],
   "source": [
    "a = cp.array([[1, 2, 0, 0],[5, 3, 0, 4],[0, 0, 0, 7],[9, 3, 0, 0]])\n",
    "k = cp.array([[1,1,1,1,1],[1,1,1,1,0],[1,1,1,0,0],[1,1,0,0,0],[1,0,0,0,0]])\n",
    "print(cupy_conv(a, k, mode='constant', cval=0.0))"
   ]
  },
  {
   "cell_type": "code",
   "execution_count": null,
   "metadata": {},
   "outputs": [],
   "source": []
  }
 ],
 "metadata": {
  "kernelspec": {
   "display_name": "Cupy",
   "language": "python",
   "name": "cupy"
  },
  "language_info": {
   "codemirror_mode": {
    "name": "ipython",
    "version": 3
   },
   "file_extension": ".py",
   "mimetype": "text/x-python",
   "name": "python",
   "nbconvert_exporter": "python",
   "pygments_lexer": "ipython3",
   "version": "3.8.6"
  }
 },
 "nbformat": 4,
 "nbformat_minor": 4
}
