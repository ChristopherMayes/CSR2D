{
 "cells": [
  {
   "cell_type": "code",
   "execution_count": 2,
   "metadata": {},
   "outputs": [],
   "source": [
    "import numpy as np\n",
    "import matplotlib.pyplot as plt\n",
    "import mpmath as mp\n",
    "\n",
    "import scipy.special as ss"
   ]
  },
  {
   "cell_type": "code",
   "execution_count": 3,
   "metadata": {},
   "outputs": [],
   "source": [
    "from mpmath import ellipf, ellipe\n",
    "from csr2d.core import psi_s, psi_x, alpha"
   ]
  },
  {
   "cell_type": "code",
   "execution_count": 6,
   "metadata": {},
   "outputs": [],
   "source": [
    "@np.vectorize\n",
    "def my_ellipf(phi,m):\n",
    "    y = mp.ellipf(phi,m)\n",
    "    y = np.float(y)\n",
    "    return y\n",
    "\n",
    "@np.vectorize\n",
    "def my_ellipe(phi,m):\n",
    "    y = mp.ellipe(phi,m)\n",
    "    y = np.float(y)\n",
    "    return y\n",
    "\n",
    "@np.vectorize\n",
    "def arg2(x):\n",
    "    return -4*(1+x)/x**2"
   ]
  },
  {
   "cell_type": "code",
   "execution_count": 19,
   "metadata": {},
   "outputs": [],
   "source": [
    "@np.vectorize\n",
    "def ss_ellipf(phi,m):\n",
    "    y = ss.ellipkinc(phi,m)\n",
    "    #y = np.float(y)\n",
    "    return y\n",
    "\n",
    "@np.vectorize\n",
    "def ss_ellipe(phi,m):\n",
    "    y = ss.ellipeinc(phi,m)\n",
    "    #y = np.float(y)\n",
    "    return y"
   ]
  },
  {
   "cell_type": "code",
   "execution_count": 15,
   "metadata": {},
   "outputs": [
    {
     "data": {
      "text/plain": [
       "array(0.00999967)"
      ]
     },
     "execution_count": 15,
     "metadata": {},
     "output_type": "execute_result"
    }
   ],
   "source": [
    "my_ellipf(0.01,-2)"
   ]
  },
  {
   "cell_type": "code",
   "execution_count": 17,
   "metadata": {},
   "outputs": [
    {
     "data": {
      "text/plain": [
       "array(0.00999967)"
      ]
     },
     "execution_count": 17,
     "metadata": {},
     "output_type": "execute_result"
    }
   ],
   "source": [
    "ss_ellipf(0.01,-2)"
   ]
  },
  {
   "cell_type": "code",
   "execution_count": 270,
   "metadata": {},
   "outputs": [],
   "source": [
    "# Avoid x = zero\n",
    "xvec = np.append(np.arange(-0.1,-0.001,0.001),np.arange(0.001,0.1,0.001))"
   ]
  },
  {
   "cell_type": "code",
   "execution_count": 283,
   "metadata": {},
   "outputs": [
    {
     "data": {
      "text/plain": [
       "<function matplotlib.pyplot.show(*args, **kw)>"
      ]
     },
     "execution_count": 283,
     "metadata": {},
     "output_type": "execute_result"
    },
    {
     "data": {
      "image/png": "[encoded data removed]",
      "text/plain": [
       "<Figure size 432x288 with 1 Axes>"
      ]
     },
     "metadata": {
      "needs_background": "light"
     },
     "output_type": "display_data"
    }
   ],
   "source": [
    "plt.plot(xvec, arg2(xvec) )\n",
    "plt.ylim(-30000,0.1)\n",
    "plt.xlim(-0.05,0.05)\n",
    "plt.xlabel('x')\n",
    "plt.ylabel('arg2(x)')\n",
    "plt.title('arg2(x)')\n",
    "plt.show"
   ]
  },
  {
   "cell_type": "code",
   "execution_count": 8,
   "metadata": {},
   "outputs": [
    {
     "ename": "NameError",
     "evalue": "name 'xmin' is not defined",
     "output_type": "error",
     "traceback": [
      "\u001b[0;31m---------------------------------------------------------------------------\u001b[0m",
      "\u001b[0;31mNameError\u001b[0m                                 Traceback (most recent call last)",
      "\u001b[0;32m<ipython-input-8-d7660d77d680>\u001b[0m in \u001b[0;36m<module>\u001b[0;34m\u001b[0m\n\u001b[0;32m----> 1\u001b[0;31m \u001b[0mprint\u001b[0m\u001b[0;34m(\u001b[0m\u001b[0marg2\u001b[0m\u001b[0;34m(\u001b[0m\u001b[0mxmin\u001b[0m\u001b[0;34m)\u001b[0m\u001b[0;34m)\u001b[0m\u001b[0;34m\u001b[0m\u001b[0;34m\u001b[0m\u001b[0m\n\u001b[0m\u001b[1;32m      2\u001b[0m \u001b[0mprint\u001b[0m\u001b[0;34m(\u001b[0m\u001b[0marg2\u001b[0m\u001b[0;34m(\u001b[0m\u001b[0mxmax\u001b[0m\u001b[0;34m)\u001b[0m\u001b[0;34m)\u001b[0m\u001b[0;34m\u001b[0m\u001b[0;34m\u001b[0m\u001b[0m\n",
      "\u001b[0;31mNameError\u001b[0m: name 'xmin' is not defined"
     ]
    }
   ],
   "source": [
    "print(arg2(xmin))\n",
    "print(arg2(xmax))"
   ]
  },
  {
   "cell_type": "code",
   "execution_count": 9,
   "metadata": {},
   "outputs": [],
   "source": [
    "phi_vec = np.arange(-np.pi/2, np.pi/2,0.05)\n",
    "m_vec = np.arange(-100000, arg2(-360), 1000)\n",
    "\n",
    "phim, mm = np.meshgrid(phi_vec, m_vec, sparse=False, indexing='ij')\n",
    "h1 = my_ellipf(phim, mm)\n",
    "h2 = my_ellipe(phim, mm)"
   ]
  },
  {
   "cell_type": "code",
   "execution_count": 22,
   "metadata": {},
   "outputs": [
    {
     "data": {
      "text/plain": [
       "array([[-0.02258733, -0.02268515, -0.02278438, ..., -0.11596746,\n",
       "        -0.15302933, -1.57079633],\n",
       "       [-0.02242915, -0.02252618, -0.0226246 , ..., -0.11484924,\n",
       "        -0.15144833, -1.52079633],\n",
       "       [-0.02227058, -0.0223668 , -0.02246441, ..., -0.11372822,\n",
       "        -0.14986336, -1.47079633],\n",
       "       ...,\n",
       "       [ 0.02213808,  0.02223363,  0.02233057, ...,  0.11279152,\n",
       "         0.14853901,  1.42920367],\n",
       "       [ 0.02229729,  0.02239364,  0.02249139, ...,  0.11391703,\n",
       "         0.15013032,  1.47920367],\n",
       "       [ 0.02245577,  0.02255292,  0.02265148, ...,  0.11503738,\n",
       "         0.15171434,  1.52920367]])"
      ]
     },
     "execution_count": 22,
     "metadata": {},
     "output_type": "execute_result"
    }
   ],
   "source": [
    "h1"
   ]
  },
  {
   "cell_type": "code",
   "execution_count": 20,
   "metadata": {},
   "outputs": [],
   "source": [
    "h3 = ss_ellipf(phim, mm)\n",
    "h4 = ss_ellipe(phim, mm)"
   ]
  },
  {
   "cell_type": "code",
   "execution_count": 21,
   "metadata": {},
   "outputs": [
    {
     "data": {
      "text/plain": [
       "array([[-0.02258733, -0.02268515, -0.02278438, ..., -0.11596746,\n",
       "        -0.15302933, -1.57079633],\n",
       "       [-0.02242915, -0.02252618, -0.0226246 , ..., -0.11484924,\n",
       "        -0.15144833, -1.52079633],\n",
       "       [-0.02227058, -0.0223668 , -0.02246441, ..., -0.11372822,\n",
       "        -0.14986336, -1.47079633],\n",
       "       ...,\n",
       "       [ 0.02213808,  0.02223363,  0.02233057, ...,  0.11279152,\n",
       "         0.14853901,  1.42920367],\n",
       "       [ 0.02229729,  0.02239364,  0.02249139, ...,  0.11391703,\n",
       "         0.15013032,  1.47920367],\n",
       "       [ 0.02245577,  0.02255292,  0.02265148, ...,  0.11503738,\n",
       "         0.15171434,  1.52920367]])"
      ]
     },
     "execution_count": 21,
     "metadata": {},
     "output_type": "execute_result"
    }
   ],
   "source": [
    "h3"
   ]
  },
  {
   "cell_type": "code",
   "execution_count": 11,
   "metadata": {},
   "outputs": [
    {
     "data": {
      "text/plain": [
       "Text(0.5, 1.0, 'mpmath.ellipf(phi,m)')"
      ]
     },
     "execution_count": 11,
     "metadata": {},
     "output_type": "execute_result"
    },
    {
     "data": {
      "image/png": "[encoded data removed]",
      "text/plain": [
       "<Figure size 432x288 with 1 Axes>"
      ]
     },
     "metadata": {
      "needs_background": "light"
     },
     "output_type": "display_data"
    }
   ],
   "source": [
    "levels = [-0.15, -0.1, -0.05, -0.03,-0.02, 0, 0.02, 0.03, 0.05, 0.1, 0.15, 0.2]\n",
    "p1 = plt.contourf(phim, mm, h1, levels=levels)\n",
    "plt.xlabel('phi')\n",
    "plt.ylabel('m')\n",
    "#plt.legend()\n",
    "plt.title('mpmath.ellipf(phi,m)')"
   ]
  },
  {
   "cell_type": "code",
   "execution_count": 289,
   "metadata": {},
   "outputs": [
    {
     "data": {
      "text/plain": [
       "Text(0.5, 1.0, 'mpmath.ellipe(phi,m)')"
      ]
     },
     "execution_count": 289,
     "metadata": {},
     "output_type": "execute_result"
    },
    {
     "data": {
      "image/png": "[encoded data removed]",
      "text/plain": [
       "<Figure size 432x288 with 1 Axes>"
      ]
     },
     "metadata": {
      "needs_background": "light"
     },
     "output_type": "display_data"
    }
   ],
   "source": [
    "levels = [-500, -400, -300, -200,-100, -50, 0, 50, 100, 200, 300, 400, 500]\n",
    "p1 = plt.contourf(phim, mm, h2, levels=levels)\n",
    "plt.xlabel('phi')\n",
    "plt.ylabel('m')\n",
    "#plt.legend()\n",
    "plt.title('mpmath.ellipe(phi,m)')"
   ]
  },
  {
   "cell_type": "code",
   "execution_count": 287,
   "metadata": {},
   "outputs": [
    {
     "data": {
      "text/plain": [
       "array([[-316.23985026, -314.65479159, -313.06170765, ...,  -54.82601732,\n",
       "         -44.7849362 ,  -31.70720405],\n",
       "       [-300.43497013, -298.92913362, -297.41567296, ...,  -52.08808889,\n",
       "         -42.54924062,  -30.12593325],\n",
       "       [-284.66959357, -283.2427812 , -281.80874482, ...,  -49.35700157,\n",
       "         -40.31913032,  -28.54861084],\n",
       "       ...,\n",
       "       [ 271.61356075,  270.2521919 ,  268.8839304 , ...,   47.09525936,\n",
       "          38.47226941,   27.24235184],\n",
       "       [ 287.31604576,  285.87596802,  284.42859909, ...,   49.81545532,\n",
       "          40.6934877 ,   28.81338823],\n",
       "       [ 303.09082449,  301.57167548,  300.04483491, ...,   52.54817088,\n",
       "          42.92492735,   30.39165039]])"
      ]
     },
     "execution_count": 287,
     "metadata": {},
     "output_type": "execute_result"
    }
   ],
   "source": [
    "h2"
   ]
  },
  {
   "cell_type": "code",
   "execution_count": 75,
   "metadata": {},
   "outputs": [],
   "source": []
  },
  {
   "cell_type": "code",
   "execution_count": 78,
   "metadata": {},
   "outputs": [
    {
     "data": {
      "text/plain": [
       "array([[-0.02258733, -0.02363353, -0.02485893, -0.02632295, -0.02811737,\n",
       "        -0.03039333, -0.03342288, -0.03776289, -0.04481623, -0.0599134 ],\n",
       "       [-0.01870981, -0.01954627, -0.02052373, -0.02168844, -0.02311153,\n",
       "        -0.02490973, -0.02729205, -0.03068367, -0.03614611, -0.04765251],\n",
       "       [ 0.01776981,  0.01855542,  0.01947278,  0.02056493,  0.02189801,\n",
       "         0.02358039,  0.02580583,  0.02896756,  0.03404439,  0.04468057],\n",
       "       [ 0.02213808,  0.02315998,  0.02435664,  0.02578599,  0.02753738,\n",
       "         0.02975799,  0.03271255,  0.03694267,  0.04381168,  0.05849279],\n",
       "       [ 0.02571382,  0.02692914,  0.02835444,  0.03005981,  0.03215362,\n",
       "         0.03481481,  0.03836624,  0.04347095,  0.05180706,  0.06979959]])"
      ]
     },
     "execution_count": 78,
     "metadata": {},
     "output_type": "execute_result"
    }
   ],
   "source": [
    "my_ellipf(phim, mm)"
   ]
  },
  {
   "cell_type": "code",
   "execution_count": 116,
   "metadata": {},
   "outputs": [
    {
     "data": {
      "text/plain": [
       "array(300.)"
      ]
     },
     "execution_count": 116,
     "metadata": {},
     "output_type": "execute_result"
    }
   ],
   "source": [
    "my_ellipf(300,0)"
   ]
  },
  {
   "cell_type": "code",
   "execution_count": 123,
   "metadata": {},
   "outputs": [],
   "source": [
    "zvec = np.arange(-2,2,0.01)"
   ]
  },
  {
   "cell_type": "code",
   "execution_count": 253,
   "metadata": {},
   "outputs": [
    {
     "data": {
      "text/plain": [
       "0.0"
      ]
     },
     "execution_count": 253,
     "metadata": {},
     "output_type": "execute_result"
    }
   ],
   "source": [
    "y1[0]-y0[0]"
   ]
  },
  {
   "cell_type": "code",
   "execution_count": 258,
   "metadata": {},
   "outputs": [
    {
     "name": "stderr",
     "output_type": "stream",
     "text": [
      "/global/homes/w/wlou1991/CSR2D/csr2d/core.py:83: RuntimeWarning: invalid value encountered in sqrt\n",
      "  return temp + ( temp**2 - ( zeta(z,x,beta)/3 + nu(x,beta)**2/36 )**3 )**(1/2)\n"
     ]
    },
    {
     "data": {
      "text/plain": [
       "Text(0.5, 1.0, 'alpha(z,x) for different x')"
      ]
     },
     "execution_count": 258,
     "metadata": {},
     "output_type": "execute_result"
    },
    {
     "data": {
      "image/png": "[encoded data removed]",
      "text/plain": [
       "<Figure size 432x288 with 1 Axes>"
      ]
     },
     "metadata": {
      "needs_background": "light"
     },
     "output_type": "display_data"
    }
   ],
   "source": [
    "# Find the range of alpha(z,x), which is not +/- pi/2 ?\n",
    "zvec = np.arange(-4,4,0.02)\n",
    "\n",
    "#y0 = alpha(zvec,0.000,0.999) \n",
    "y1 = alpha(zvec,0.00001,0.999) \n",
    "y2 = alpha(zvec,0.1,0.999) \n",
    "y3 = alpha(zvec,0.5,0.999) \n",
    "\n",
    "plt.plot(zvec, y1)\n",
    "plt.plot(zvec, y2)\n",
    "plt.plot(zvec, y3)\n",
    "#plt.plot(zvec, alpha(zvec,0.00,0.999) )\n",
    "plt.xlabel('z (m)')\n",
    "plt.ylabel('alpha(z,x)')\n",
    "plt.legend(('x = 0.00001 m', 'x = 0.1 m', 'x = 0.5 m'))\n",
    "plt.title('alpha(z,x) for different x')"
   ]
  },
  {
   "cell_type": "code",
   "execution_count": 282,
   "metadata": {},
   "outputs": [
    {
     "name": "stdout",
     "output_type": "stream",
     "text": [
      "0.8694914130834012\n",
      "0.7671364035437823\n",
      "-0.036863836080643475\n",
      "-0.05003418534342574\n"
     ]
    }
   ],
   "source": [
    "# For |z| < 0.5m, amd |x/R| < 0.1m, alpha is within +/- 2  \n",
    "zvec = np.arange(-0.1,0.1,0.02)\n",
    "print(np.max(alpha(zvec,0.1,0.999)))\n",
    "print(np.max(alpha(zvec,0.0001,0.999)))\n",
    "print(np.min(alpha(zvec,0.1,0.999)))\n",
    "print(np.min(alpha(zvec,0.0001,0.999)))"
   ]
  },
  {
   "cell_type": "code",
   "execution_count": 261,
   "metadata": {},
   "outputs": [
    {
     "data": {
      "text/plain": [
       "1.5707963267948966"
      ]
     },
     "execution_count": 261,
     "metadata": {},
     "output_type": "execute_result"
    }
   ],
   "source": [
    "np.pi/2 "
   ]
  },
  {
   "cell_type": "code",
   "execution_count": 225,
   "metadata": {},
   "outputs": [],
   "source": [
    "f1 = lambda z: ellipf(z,-1)\n",
    "f2 = lambda z: ellipf(z,-0.5)\n",
    "f3 = lambda z: ellipf(z,0)\n",
    "f4 = lambda z: ellipf(z,0.5)\n",
    "f5 = lambda z: ellipf(z,1)\n",
    "#plt.plot([f1,f2,f3,f4,f5], [0,3.14], [0,4])"
   ]
  },
  {
   "cell_type": "code",
   "execution_count": 175,
   "metadata": {},
   "outputs": [
    {
     "ename": "NameError",
     "evalue": "name 'plot' is not defined",
     "output_type": "error",
     "traceback": [
      "\u001b[0;31m---------------------------------------------------------------------------\u001b[0m",
      "\u001b[0;31mNameError\u001b[0m                                 Traceback (most recent call last)",
      "\u001b[0;32m<ipython-input-175-1e2f2cc4c21d>\u001b[0m in \u001b[0;36m<module>\u001b[0;34m\u001b[0m\n\u001b[0;32m----> 1\u001b[0;31m \u001b[0mplot\u001b[0m\u001b[0;34m(\u001b[0m\u001b[0;34m[\u001b[0m\u001b[0mellipk\u001b[0m\u001b[0;34m,\u001b[0m \u001b[0mellipe\u001b[0m\u001b[0;34m]\u001b[0m\u001b[0;34m,\u001b[0m \u001b[0;34m[\u001b[0m\u001b[0;34m-\u001b[0m\u001b[0;36m2\u001b[0m\u001b[0;34m,\u001b[0m\u001b[0;36m1\u001b[0m\u001b[0;34m]\u001b[0m\u001b[0;34m,\u001b[0m \u001b[0;34m[\u001b[0m\u001b[0;36m0\u001b[0m\u001b[0;34m,\u001b[0m\u001b[0;36m3\u001b[0m\u001b[0;34m]\u001b[0m\u001b[0;34m,\u001b[0m \u001b[0mpoints\u001b[0m\u001b[0;34m=\u001b[0m\u001b[0;36m600\u001b[0m\u001b[0;34m)\u001b[0m\u001b[0;34m\u001b[0m\u001b[0;34m\u001b[0m\u001b[0m\n\u001b[0m",
      "\u001b[0;31mNameError\u001b[0m: name 'plot' is not defined"
     ]
    }
   ],
   "source": [
    "plot([ellipk, ellipe], [-2,1], [0,3], points=600)"
   ]
  },
  {
   "cell_type": "code",
   "execution_count": 227,
   "metadata": {},
   "outputs": [
    {
     "data": {
      "text/plain": [
       "[<matplotlib.lines.Line2D at 0x2aaad2a0eb50>]"
      ]
     },
     "execution_count": 227,
     "metadata": {},
     "output_type": "execute_result"
    },
    {
     "data": {
      "image/png": "[encoded data removed]",
      "text/plain": [
       "<Figure size 432x288 with 1 Axes>"
      ]
     },
     "metadata": {
      "needs_background": "light"
     },
     "output_type": "display_data"
    }
   ],
   "source": [
    "ang = np.arange(-1.5, 1.5, 0.01)\n",
    "plt.plot(ang, my_ellipf(ang, -1))"
   ]
  },
  {
   "cell_type": "code",
   "execution_count": 224,
   "metadata": {},
   "outputs": [
    {
     "data": {
      "text/plain": [
       "mpf('834626.7895847403')"
      ]
     },
     "execution_count": 224,
     "metadata": {},
     "output_type": "execute_result"
    }
   ],
   "source": [
    "f1(1000000)"
   ]
  },
  {
   "cell_type": "code",
   "execution_count": 199,
   "metadata": {},
   "outputs": [
    {
     "data": {
      "text/plain": [
       "<function __main__.<lambda>(z)>"
      ]
     },
     "execution_count": 199,
     "metadata": {},
     "output_type": "execute_result"
    }
   ],
   "source": [
    "f1"
   ]
  },
  {
   "cell_type": "code",
   "execution_count": 204,
   "metadata": {},
   "outputs": [
    {
     "data": {
      "image/png": "[encoded data removed]",
      "text/plain": [
       "<Figure size 432x288 with 1 Axes>"
      ]
     },
     "metadata": {
      "needs_background": "light"
     },
     "output_type": "display_data"
    }
   ],
   "source": [
    "f1 = lambda z: mp.ellipf(z,-1)\n",
    "f2 = lambda z: mp.ellipf(z,-0.5)\n",
    "f3 = lambda z: mp.ellipf(z,0)\n",
    "f4 = lambda z: mp.ellipf(z,0.5)\n",
    "f5 = lambda z: mp.ellipf(z,1)\n",
    "mp.plot([f1,f2,f3,f4,f5], [0,200], [0,4])"
   ]
  },
  {
   "cell_type": "code",
   "execution_count": 217,
   "metadata": {},
   "outputs": [
    {
     "data": {
      "image/png": "[encoded data removed]",
      "text/plain": [
       "<Figure size 432x288 with 1 Axes>"
      ]
     },
     "metadata": {
      "needs_background": "light"
     },
     "output_type": "display_data"
    }
   ],
   "source": [
    "f1r = lambda z: mp.re(mp.ellipf(z,-1))\n",
    "f2r = lambda z:  mp.re(mp.ellipf(z,-0.5))\n",
    "f3r = lambda z:  mp.re(mp.ellipf(z,0))\n",
    "f4r = lambda z:  mp.re(mp.ellipf(z,0.5))\n",
    "f5r = lambda z:  mp.re(mp.ellipf(z,1))\n",
    "mp.plot([f1r,f2r,f3r,f4r,f5r], [0,10], [0,4])"
   ]
  },
  {
   "cell_type": "code",
   "execution_count": 220,
   "metadata": {},
   "outputs": [
    {
     "data": {
      "image/png": "[encoded data removed]",
      "text/plain": [
       "<Figure size 432x288 with 1 Axes>"
      ]
     },
     "metadata": {
      "needs_background": "light"
     },
     "output_type": "display_data"
    }
   ],
   "source": [
    "f1i = lambda z: mp.im(mp.ellipf(z,-1))\n",
    "f2i = lambda z:  mp.im(mp.ellipf(z,-0.5))\n",
    "f3i = lambda z:  mp.im(mp.ellipf(z,0))\n",
    "f4i = lambda z:  mp.im(mp.ellipf(z,0.5))\n",
    "f5i = lambda z:  mp.im(mp.ellipf(z,1))\n",
    "mp.plot([f1i,f2i,f3i,f4i,f5i], [0,10], [0,0.001])"
   ]
  },
  {
   "cell_type": "code",
   "execution_count": 208,
   "metadata": {},
   "outputs": [
    {
     "data": {
      "text/plain": [
       "mpf('23.524236334654468')"
      ]
     },
     "execution_count": 208,
     "metadata": {},
     "output_type": "execute_result"
    }
   ],
   "source": [
    "mp.plot([f1], [0,200], [0,4])"
   ]
  },
  {
   "cell_type": "code",
   "execution_count": 213,
   "metadata": {},
   "outputs": [
    {
     "data": {
      "text/plain": [
       "mpf('1.3110287771460598')"
      ]
     },
     "execution_count": 213,
     "metadata": {},
     "output_type": "execute_result"
    }
   ],
   "source": [
    "mp.re(mp.ellipf(1, 2))"
   ]
  },
  {
   "cell_type": "code",
   "execution_count": 211,
   "metadata": {},
   "outputs": [
    {
     "data": {
      "text/plain": [
       "mpf('0.82956088578834131')"
      ]
     },
     "execution_count": 211,
     "metadata": {},
     "output_type": "execute_result"
    }
   ],
   "source": [
    "mp.ellipf(1, -2)"
   ]
  },
  {
   "cell_type": "code",
   "execution_count": 1,
   "metadata": {},
   "outputs": [],
   "source": []
  },
  {
   "cell_type": "code",
   "execution_count": null,
   "metadata": {},
   "outputs": [],
   "source": []
  }
 ],
 "metadata": {
  "kernelspec": {
   "display_name": "Lume",
   "language": "python",
   "name": "lume"
  },
  "language_info": {
   "codemirror_mode": {
    "name": "ipython",
    "version": 3
   },
   "file_extension": ".py",
   "mimetype": "text/x-python",
   "name": "python",
   "nbconvert_exporter": "python",
   "pygments_lexer": "ipython3",
   "version": "3.7.7"
  }
 },
 "nbformat": 4,
 "nbformat_minor": 4
}
