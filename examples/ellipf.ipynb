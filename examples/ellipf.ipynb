{
 "cells": [
  {
   "cell_type": "code",
   "execution_count": null,
   "metadata": {},
   "outputs": [],
   "source": [
    "import numpy as np\n",
    "import matplotlib.pyplot as plt\n",
    "import mpmath as mp\n",
    "\n",
    "import scipy.special as ss"
   ]
  },
  {
   "cell_type": "code",
   "execution_count": 2,
   "metadata": {},
   "outputs": [],
   "source": [
    "from mpmath import ellipf, ellipe\n",
    "from csr2d.core import psi_s, psi_x, alpha, psi_x_mp"
   ]
  },
  {
   "cell_type": "code",
   "execution_count": null,
   "metadata": {},
   "outputs": [],
   "source": [
    "print(mp.ellipf(0.1,-1000))\n",
    "print(ss.ellipkinc(0.1,-1000))\n",
    "print(mp.ellipf(0.1,1))\n",
    "print(ss.ellipkinc(0.1,1))"
   ]
  },
  {
   "cell_type": "code",
   "execution_count": null,
   "metadata": {},
   "outputs": [],
   "source": [
    "mp.ellipf(0.1,1000)"
   ]
  },
  {
   "cell_type": "code",
   "execution_count": null,
   "metadata": {},
   "outputs": [],
   "source": [
    "@np.vectorize\n",
    "def my_ellipf(phi,m):\n",
    "    y = mp.ellipf(phi,m)\n",
    "    y = np.float(y)\n",
    "    return y\n",
    "\n",
    "@np.vectorize\n",
    "def my_ellipe(phi,m):\n",
    "    y = mp.ellipe(phi,m)\n",
    "    y = np.float(y)\n",
    "    return y\n",
    "\n",
    "@np.vectorize\n",
    "def arg2(x):\n",
    "    return -4*(1+x)/x**2"
   ]
  },
  {
   "cell_type": "code",
   "execution_count": null,
   "metadata": {},
   "outputs": [],
   "source": [
    "phi_vec = np.arange(-np.pi/2, np.pi/2,0.031)\n",
    "m_vec = np.arange(-100000, arg2(-360), 1000)\n",
    "phim, mm = np.meshgrid(phi_vec, m_vec, sparse=False, indexing='ij')"
   ]
  },
  {
   "cell_type": "code",
   "execution_count": null,
   "metadata": {},
   "outputs": [],
   "source": [
    "%%time\n",
    "haha = my_ellipf(phim,mm)"
   ]
  },
  {
   "cell_type": "code",
   "execution_count": null,
   "metadata": {},
   "outputs": [],
   "source": [
    "%%time\n",
    "haha = ss.ellipkinc(phim,mm)"
   ]
  },
  {
   "cell_type": "code",
   "execution_count": null,
   "metadata": {},
   "outputs": [],
   "source": [
    "# Avoid x = zero\n",
    "xvec = np.append(np.arange(-0.1,-0.001,0.001),np.arange(0.001,0.1,0.001))"
   ]
  },
  {
   "cell_type": "code",
   "execution_count": null,
   "metadata": {},
   "outputs": [],
   "source": [
    "plt.plot(xvec, arg2(xvec) )\n",
    "plt.ylim(-30000,0.1)\n",
    "plt.xlim(-0.05,0.05)\n",
    "plt.xlabel('x')\n",
    "plt.ylabel('arg2(x)')\n",
    "plt.title('arg2(x)')\n",
    "plt.show"
   ]
  },
  {
   "cell_type": "code",
   "execution_count": null,
   "metadata": {},
   "outputs": [],
   "source": [
    "print(arg2(xmin))\n",
    "print(arg2(xmax))"
   ]
  },
  {
   "cell_type": "code",
   "execution_count": null,
   "metadata": {},
   "outputs": [],
   "source": [
    "phi_vec = np.arange(-np.pi/2, np.pi/2,0.05)\n",
    "m_vec = np.arange(-100000, arg2(-360), 1000)\n",
    "\n",
    "phim, mm = np.meshgrid(phi_vec, m_vec, sparse=False, indexing='ij')\n",
    "h1 = my_ellipf(phim, mm)\n",
    "h2 = my_ellipe(phim, mm)"
   ]
  },
  {
   "cell_type": "code",
   "execution_count": null,
   "metadata": {},
   "outputs": [],
   "source": [
    "h3 = ss_ellipf(phim, mm)\n",
    "h4 = ss_ellipe(phim, mm)"
   ]
  },
  {
   "cell_type": "code",
   "execution_count": null,
   "metadata": {},
   "outputs": [],
   "source": [
    "levels = [-0.15, -0.1, -0.05, -0.03,-0.02, 0, 0.02, 0.03, 0.05, 0.1, 0.15, 0.2]\n",
    "p1 = plt.contourf(phim, mm, h1, levels=levels)\n",
    "plt.xlabel('phi')\n",
    "plt.ylabel('m')\n",
    "#plt.legend()\n",
    "plt.title('mpmath.ellipf(phi,m)')"
   ]
  },
  {
   "cell_type": "code",
   "execution_count": null,
   "metadata": {},
   "outputs": [],
   "source": [
    "levels = [-500, -400, -300, -200,-100, -50, 0, 50, 100, 200, 300, 400, 500]\n",
    "p1 = plt.contourf(phim, mm, h2, levels=levels)\n",
    "plt.xlabel('phi')\n",
    "plt.ylabel('m')\n",
    "#plt.legend()\n",
    "plt.title('mpmath.ellipe(phi,m)')"
   ]
  },
  {
   "cell_type": "code",
   "execution_count": null,
   "metadata": {},
   "outputs": [],
   "source": [
    "# Find the range of alpha(z,x), which is not +/- pi/2 ?\n",
    "zvec = np.arange(-4,4,0.02)\n",
    "\n",
    "#y0 = alpha(zvec,0.000,0.999) \n",
    "y1 = alpha(zvec,0.00001,0.999) \n",
    "y2 = alpha(zvec,0.1,0.999) \n",
    "y3 = alpha(zvec,0.5,0.999) \n",
    "\n",
    "plt.plot(zvec, y1)\n",
    "plt.plot(zvec, y2)\n",
    "plt.plot(zvec, y3)\n",
    "#plt.plot(zvec, alpha(zvec,0.00,0.999) )\n",
    "plt.xlabel('z (m)')\n",
    "plt.ylabel('alpha(z,x)')\n",
    "plt.legend(('x = 0.00001 m', 'x = 0.1 m', 'x = 0.5 m'))\n",
    "plt.title('alpha(z,x) for different x')"
   ]
  },
  {
   "cell_type": "code",
   "execution_count": null,
   "metadata": {},
   "outputs": [],
   "source": [
    "# For |z| < 0.5m, amd |x/R| < 0.1m, alpha is within +/- 2  \n",
    "zvec = np.arange(-0.1,0.1,0.02)\n",
    "print(np.max(alpha(zvec,0.1,0.999)))\n",
    "print(np.max(alpha(zvec,0.0001,0.999)))\n",
    "print(np.min(alpha(zvec,0.1,0.999)))\n",
    "print(np.min(alpha(zvec,0.0001,0.999)))"
   ]
  },
  {
   "cell_type": "code",
   "execution_count": null,
   "metadata": {},
   "outputs": [],
   "source": [
    "ang = np.arange(-1.5, 1.5, 0.01)\n",
    "plt.plot(ang, my_ellipf(ang, -1))"
   ]
  },
  {
   "cell_type": "code",
   "execution_count": null,
   "metadata": {},
   "outputs": [],
   "source": [
    "f1 = lambda z: mp.ellipf(z,-1)\n",
    "f2 = lambda z: mp.ellipf(z,-0.5)\n",
    "f3 = lambda z: mp.ellipf(z,0)\n",
    "f4 = lambda z: mp.ellipf(z,0.5)\n",
    "f5 = lambda z: mp.ellipf(z,1)\n",
    "mp.plot([f1,f2,f3,f4,f5], [0,200], [0,4])"
   ]
  }
 ],
 "metadata": {
  "kernelspec": {
   "display_name": "Lume",
   "language": "python",
   "name": "lume"
  },
  "language_info": {
   "codemirror_mode": {
    "name": "ipython",
    "version": 3
   },
   "file_extension": ".py",
   "mimetype": "text/x-python",
   "name": "python",
   "nbconvert_exporter": "python",
   "pygments_lexer": "ipython3",
   "version": "3.7.7"
  }
 },
 "nbformat": 4,
 "nbformat_minor": 4
}
