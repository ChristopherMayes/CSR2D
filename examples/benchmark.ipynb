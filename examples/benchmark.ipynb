{
 "cells": [
  {
   "cell_type": "code",
   "execution_count": 6,
   "metadata": {},
   "outputs": [
    {
     "name": "stdout",
     "output_type": "stream",
     "text": [
      "/global/homes/w/wlou1991/GitHub/openPMD-beamphysics/::/global/homes/w/wlou1991/CSR2D/\n"
     ]
    }
   ],
   "source": [
    "!echo $PYTHONPATH"
   ]
  },
  {
   "cell_type": "code",
   "execution_count": 4,
   "metadata": {},
   "outputs": [],
   "source": [
    "from csr2d.dist import lambda_p_Gauss"
   ]
  },
  {
   "cell_type": "code",
   "execution_count": 5,
   "metadata": {},
   "outputs": [
    {
     "data": {
      "text/plain": [
       "mpf('-5.9206848026113122e-29')"
      ]
     },
     "execution_count": 5,
     "metadata": {},
     "output_type": "execute_result"
    }
   ],
   "source": [
    "lambda_p_Gauss(0.0001, 0.0001)"
   ]
  },
  {
   "cell_type": "code",
   "execution_count": null,
   "metadata": {},
   "outputs": [],
   "source": [
    "from csr2d.core import psi_s, Ws"
   ]
  },
  {
   "cell_type": "code",
   "execution_count": null,
   "metadata": {},
   "outputs": [],
   "source": [
    "psi_s(0,0.002,1000000000000000)"
   ]
  },
  {
   "cell_type": "code",
   "execution_count": null,
   "metadata": {},
   "outputs": [],
   "source": [
    "import numpy\n",
    "numpy.pi.__class__"
   ]
  },
  {
   "cell_type": "code",
   "execution_count": null,
   "metadata": {},
   "outputs": [],
   "source": [
    "import matplotlib.pyplot as plt\n",
    "\n",
    "gamma = 500\n",
    "rho = 1\n",
    "sigmax = 10E-6\n",
    "sigmaz = 10E-6\n",
    "dz = 0.09*sigmaz\n",
    "dx = 0.09*sigmax\n",
    "\n",
    "zvec,xvec, WsConv = Ws(gamma,rho,sigmaz,sigmax,dz,dx)"
   ]
  },
  {
   "cell_type": "code",
   "execution_count": null,
   "metadata": {},
   "outputs": [],
   "source": [
    "xcenix = int(mp.floor(xvec.shape[0]/2)) # find the index for which xvec[index] is closest to zero\n",
    "plt.plot(zvec/sigmaz, WsConv[:,int(xcenix)]/1e6, '-', color='black', label=f\"x= {xvec[xcenix]/sigmax:5.2f} $\\sigma_x$\");\n",
    "plt.legend(loc='upper left')\n",
    "plt.xlabel('z/$\\sigma_z$')\n",
    "plt.ylabel('Ws$(10^6 m^{-2})$')"
   ]
  },
  {
   "cell_type": "code",
   "execution_count": null,
   "metadata": {},
   "outputs": [],
   "source": []
  }
 ],
 "metadata": {
  "kernelspec": {
   "display_name": "Lume",
   "language": "python",
   "name": "lume"
  },
  "language_info": {
   "codemirror_mode": {
    "name": "ipython",
    "version": 3
   },
   "file_extension": ".py",
   "mimetype": "text/x-python",
   "name": "python",
   "nbconvert_exporter": "python",
   "pygments_lexer": "ipython3",
   "version": "3.7.7"
  }
 },
 "nbformat": 4,
 "nbformat_minor": 4
}
