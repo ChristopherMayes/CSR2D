{
 "cells": [
  {
   "cell_type": "markdown",
   "metadata": {},
   "source": [
    "### https://blog.floydhub.com/multiprocessing-vs-threading-in-python-what-every-data-scientist-needs-to-know/\n",
    "### https://docs.python.org/3/library/concurrent.futures.html#concurrent.futures.Executor"
   ]
  },
  {
   "cell_type": "code",
   "execution_count": null,
   "metadata": {},
   "outputs": [],
   "source": [
    "%load_ext autoreload\n",
    "%autoreload 2"
   ]
  },
  {
   "cell_type": "code",
   "execution_count": 36,
   "metadata": {},
   "outputs": [],
   "source": [
    "import numpy as np\n",
    "import mpmath as mp\n",
    "import concurrent.futures"
   ]
  },
  {
   "cell_type": "code",
   "execution_count": 37,
   "metadata": {},
   "outputs": [],
   "source": [
    "# Skip this cell if CSR2D/ is already added under PYHTONPATH \n",
    "import os, sys\n",
    "parent_dir = os.path.dirname(os.getcwd())\n",
    "sys.path.append(parent_dir)  "
   ]
  },
  {
   "cell_type": "code",
   "execution_count": 102,
   "metadata": {},
   "outputs": [],
   "source": [
    "from csr2d.core import psi_s, psi_x, alpha, kappa\n",
    "from csr2d.dist import lambda_p_Gauss"
   ]
  },
  {
   "cell_type": "code",
   "execution_count": 39,
   "metadata": {},
   "outputs": [],
   "source": [
    "from mpmath import ellipf, ellipe\n",
    "from time import sleep, time"
   ]
  },
  {
   "cell_type": "markdown",
   "metadata": {},
   "source": [
    "# Simple Example"
   ]
  },
  {
   "cell_type": "code",
   "execution_count": 6,
   "metadata": {},
   "outputs": [],
   "source": [
    "PRIMES = [\n",
    "    112272535095293,\n",
    "    112582705942171,\n",
    "    112272535095293,\n",
    "    115280095190773,\n",
    "    115797848077099,\n",
    "    1099726899285419]\n",
    "def is_prime(n):\n",
    "    if n % 2 == 0:\n",
    "        return False\n",
    "\n",
    "    sqrt_n = int(np.floor(np.sqrt(n)))\n",
    "    for i in range(3, sqrt_n + 1, 2):\n",
    "        if n % i == 0:\n",
    "            return False\n",
    "    return True"
   ]
  },
  {
   "cell_type": "code",
   "execution_count": 9,
   "metadata": {},
   "outputs": [
    {
     "name": "stdout",
     "output_type": "stream",
     "text": [
      "True\n",
      "True\n",
      "True\n",
      "True\n",
      "True\n",
      "False\n",
      "CPU times: user 36.7 ms, sys: 271 ms, total: 307 ms\n",
      "Wall time: 978 ms\n"
     ]
    }
   ],
   "source": [
    "%%time\n",
    "with concurrent.futures.ProcessPoolExecutor() as executor:\n",
    "    for prime in executor.map(is_prime, PRIMES):\n",
    "        print('%s' %  prime)"
   ]
  },
  {
   "cell_type": "code",
   "execution_count": 7,
   "metadata": {},
   "outputs": [
    {
     "name": "stdout",
     "output_type": "stream",
     "text": [
      "CPU times: user 3.18 s, sys: 0 ns, total: 3.18 s\n",
      "Wall time: 3.18 s\n"
     ]
    },
    {
     "data": {
      "text/plain": [
       "[True, True, True, True, True, False]"
      ]
     },
     "execution_count": 7,
     "metadata": {},
     "output_type": "execute_result"
    }
   ],
   "source": [
    "%%time\n",
    "list(map(is_prime, PRIMES))"
   ]
  },
  {
   "cell_type": "markdown",
   "metadata": {},
   "source": [
    "# Testing for psi_x"
   ]
  },
  {
   "cell_type": "code",
   "execution_count": 50,
   "metadata": {},
   "outputs": [],
   "source": [
    "gamma = 500\n",
    "beta = (1-1/gamma**2)**(1/2)\n",
    "rho = 1\n",
    "sigmax = 10E-6\n",
    "sigmaz = 10E-6\n",
    "\n",
    "# Adjust the step size here\n",
    "# Small steps might greatly increase computation time...\n",
    "\n",
    "N = 800\n",
    "dz = 1.0E-4/N\n",
    "dx = 1.0E-4/N"
   ]
  },
  {
   "cell_type": "code",
   "execution_count": 51,
   "metadata": {},
   "outputs": [],
   "source": [
    "zvec2 = np.arange(-10*sigmaz, 10*sigmaz, dz)\n",
    "xvec2 = np.arange(-10*sigmax, 10*sigmax, dx)\n",
    "zm2, xm2 = np.meshgrid(zvec2, xvec2, sparse=False, indexing='ij')\n",
    "\n",
    "beta_grid = beta*np.ones(zm2.shape)"
   ]
  },
  {
   "cell_type": "code",
   "execution_count": 13,
   "metadata": {},
   "outputs": [
    {
     "name": "stderr",
     "output_type": "stream",
     "text": [
      "/global/homes/w/wlou1991/CSR2D/csr2d/core.py:83: RuntimeWarning: invalid value encountered in sqrt\n",
      "  return temp + ( temp**2 - ( zeta(z,x,beta)/3 + nu(x,beta)**2/36 )**3 )**(1/2)\n"
     ]
    },
    {
     "name": "stdout",
     "output_type": "stream",
     "text": [
      "CPU times: user 1.36 s, sys: 11.6 ms, total: 1.37 s\n",
      "Wall time: 1.37 s\n"
     ]
    }
   ],
   "source": [
    "%%time\n",
    "## Direct numpy vectorization \n",
    "lala = psi_x(zm2,xm2,beta);"
   ]
  },
  {
   "cell_type": "code",
   "execution_count": 33,
   "metadata": {},
   "outputs": [
    {
     "name": "stdout",
     "output_type": "stream",
     "text": [
      "CPU times: user 2min 11s, sys: 1.69 ms, total: 2min 11s\n",
      "Wall time: 2min 11s\n"
     ]
    }
   ],
   "source": [
    "%%time\n",
    "## Direct mapping\n",
    "kaka = np.array( list(map(psi_x, zm2, xm2, beta_grid)))"
   ]
  },
  {
   "cell_type": "code",
   "execution_count": 76,
   "metadata": {},
   "outputs": [
    {
     "data": {
      "text/plain": [
       "(401, 401)"
      ]
     },
     "execution_count": 76,
     "metadata": {},
     "output_type": "execute_result"
    }
   ],
   "source": [
    "beta_grid.shape"
   ]
  },
  {
   "cell_type": "code",
   "execution_count": 93,
   "metadata": {},
   "outputs": [
    {
     "name": "stderr",
     "output_type": "stream",
     "text": [
      "/global/homes/w/wlou1991/CSR2D/csr2d/core.py:115: RuntimeWarning: divide by zero encountered in true_divide\n",
      "  arg3 = 2*eta(z,x,beta)/arg1\n",
      "/global/homes/w/wlou1991/CSR2D/csr2d/core.py:26: RuntimeWarning: overflow encountered in multiply\n",
      "  out = (cos(2*alpha(z,x,beta)) - 1/(1+x)) / (kappa(z,x,beta) - beta*(1+x)*sin(2*alpha(z,x,beta)))\n",
      "/global/homes/w/wlou1991/CSR2D/csr2d/core.py:26: RuntimeWarning: invalid value encountered in cos\n",
      "  out = (cos(2*alpha(z,x,beta)) - 1/(1+x)) / (kappa(z,x,beta) - beta*(1+x)*sin(2*alpha(z,x,beta)))\n",
      "/global/homes/w/wlou1991/CSR2D/csr2d/core.py:26: RuntimeWarning: invalid value encountered in sin\n",
      "  out = (cos(2*alpha(z,x,beta)) - 1/(1+x)) / (kappa(z,x,beta) - beta*(1+x)*sin(2*alpha(z,x,beta)))\n"
     ]
    },
    {
     "name": "stdout",
     "output_type": "stream",
     "text": [
      "CPU times: user 1.05 s, sys: 701 ms, total: 1.75 s\n",
      "Wall time: 2.27 s\n"
     ]
    }
   ],
   "source": [
    "%%time \n",
    "## With Multi-processing \"map\" function\n",
    "with concurrent.futures.ProcessPoolExecutor(max_workers = 32) as executor:\n",
    "    temp = executor.map(psi_s, zm2, xm2, beta_grid)\n",
    "    result2 = np.array(list(temp))"
   ]
  },
  {
   "cell_type": "code",
   "execution_count": 59,
   "metadata": {},
   "outputs": [
    {
     "name": "stdout",
     "output_type": "stream",
     "text": [
      "CPU times: user 625 ms, sys: 287 ms, total: 912 ms\n",
      "Wall time: 823 ms\n"
     ]
    }
   ],
   "source": [
    "%%time \n",
    "## With Multi-processing \"map\" function\n",
    "with concurrent.futures.ProcessPoolExecutor(max_workers = 32) as executor:\n",
    "    temp = executor.map(lambda_p_Gauss, zm2, xm2)\n",
    "    result2 = np.array(list(temp))"
   ]
  },
  {
   "cell_type": "markdown",
   "metadata": {},
   "source": [
    "# Writing loop"
   ]
  },
  {
   "cell_type": "code",
   "execution_count": 111,
   "metadata": {},
   "outputs": [],
   "source": [
    "beta = 0.9999\n",
    "z = 0.00\n",
    "x = 0.00\n",
    "out = (np.cos(2*alpha(z,x,beta)) - 1/(1+x)) / (kappa(z,x,beta) - beta*(1+x)*np.sin(2*alpha(z,x,beta)))"
   ]
  },
  {
   "cell_type": "code",
   "execution_count": 112,
   "metadata": {},
   "outputs": [
    {
     "data": {
      "text/plain": [
       "8.660600514395767e-06"
      ]
     },
     "execution_count": 112,
     "metadata": {},
     "output_type": "execute_result"
    }
   ],
   "source": [
    "(kappa(z,x,beta) - beta*(1+x)*np.sin(2*alpha(z,x,beta)))"
   ]
  },
  {
   "cell_type": "code",
   "execution_count": 110,
   "metadata": {},
   "outputs": [
    {
     "data": {
      "text/plain": [
       "-69.28272480685165"
      ]
     },
     "execution_count": 110,
     "metadata": {},
     "output_type": "execute_result"
    }
   ],
   "source": [
    "out"
   ]
  },
  {
   "cell_type": "code",
   "execution_count": 92,
   "metadata": {},
   "outputs": [
    {
     "name": "stdout",
     "output_type": "stream",
     "text": [
      "Time elapsed for N = 100 :  0.26421046257019043\n"
     ]
    },
    {
     "name": "stderr",
     "output_type": "stream",
     "text": [
      "/global/homes/w/wlou1991/CSR2D/csr2d/core.py:115: RuntimeWarning: divide by zero encountered in true_divide\n",
      "  arg3 = 2*eta(z,x,beta)/arg1\n",
      "/global/homes/w/wlou1991/CSR2D/csr2d/core.py:26: RuntimeWarning: overflow encountered in multiply\n",
      "  out = (cos(2*alpha(z,x,beta)) - 1/(1+x)) / (kappa(z,x,beta) - beta*(1+x)*sin(2*alpha(z,x,beta)))\n",
      "/global/homes/w/wlou1991/CSR2D/csr2d/core.py:26: RuntimeWarning: invalid value encountered in cos\n",
      "  out = (cos(2*alpha(z,x,beta)) - 1/(1+x)) / (kappa(z,x,beta) - beta*(1+x)*sin(2*alpha(z,x,beta)))\n",
      "/global/homes/w/wlou1991/CSR2D/csr2d/core.py:26: RuntimeWarning: invalid value encountered in sin\n",
      "  out = (cos(2*alpha(z,x,beta)) - 1/(1+x)) / (kappa(z,x,beta) - beta*(1+x)*sin(2*alpha(z,x,beta)))\n"
     ]
    },
    {
     "name": "stdout",
     "output_type": "stream",
     "text": [
      "Time elapsed for N = 200 :  0.32704734802246094\n"
     ]
    },
    {
     "name": "stderr",
     "output_type": "stream",
     "text": [
      "/global/homes/w/wlou1991/CSR2D/csr2d/core.py:115: RuntimeWarning: divide by zero encountered in true_divide\n",
      "  arg3 = 2*eta(z,x,beta)/arg1\n",
      "/global/homes/w/wlou1991/CSR2D/csr2d/core.py:26: RuntimeWarning: overflow encountered in multiply\n",
      "  out = (cos(2*alpha(z,x,beta)) - 1/(1+x)) / (kappa(z,x,beta) - beta*(1+x)*sin(2*alpha(z,x,beta)))\n",
      "/global/homes/w/wlou1991/CSR2D/csr2d/core.py:26: RuntimeWarning: invalid value encountered in cos\n",
      "  out = (cos(2*alpha(z,x,beta)) - 1/(1+x)) / (kappa(z,x,beta) - beta*(1+x)*sin(2*alpha(z,x,beta)))\n",
      "/global/homes/w/wlou1991/CSR2D/csr2d/core.py:26: RuntimeWarning: invalid value encountered in sin\n",
      "  out = (cos(2*alpha(z,x,beta)) - 1/(1+x)) / (kappa(z,x,beta) - beta*(1+x)*sin(2*alpha(z,x,beta)))\n"
     ]
    },
    {
     "name": "stdout",
     "output_type": "stream",
     "text": [
      "Time elapsed for N = 300 :  0.42162466049194336\n"
     ]
    },
    {
     "name": "stderr",
     "output_type": "stream",
     "text": [
      "/global/homes/w/wlou1991/CSR2D/csr2d/core.py:115: RuntimeWarning: divide by zero encountered in true_divide\n",
      "  arg3 = 2*eta(z,x,beta)/arg1\n",
      "/global/homes/w/wlou1991/CSR2D/csr2d/core.py:26: RuntimeWarning: overflow encountered in multiply\n",
      "  out = (cos(2*alpha(z,x,beta)) - 1/(1+x)) / (kappa(z,x,beta) - beta*(1+x)*sin(2*alpha(z,x,beta)))\n",
      "/global/homes/w/wlou1991/CSR2D/csr2d/core.py:26: RuntimeWarning: invalid value encountered in cos\n",
      "  out = (cos(2*alpha(z,x,beta)) - 1/(1+x)) / (kappa(z,x,beta) - beta*(1+x)*sin(2*alpha(z,x,beta)))\n",
      "/global/homes/w/wlou1991/CSR2D/csr2d/core.py:26: RuntimeWarning: invalid value encountered in sin\n",
      "  out = (cos(2*alpha(z,x,beta)) - 1/(1+x)) / (kappa(z,x,beta) - beta*(1+x)*sin(2*alpha(z,x,beta)))\n"
     ]
    },
    {
     "name": "stdout",
     "output_type": "stream",
     "text": [
      "Time elapsed for N = 400 :  0.6466612815856934\n"
     ]
    },
    {
     "name": "stderr",
     "output_type": "stream",
     "text": [
      "/global/homes/w/wlou1991/CSR2D/csr2d/core.py:115: RuntimeWarning: divide by zero encountered in true_divide\n",
      "  arg3 = 2*eta(z,x,beta)/arg1\n",
      "/global/homes/w/wlou1991/CSR2D/csr2d/core.py:26: RuntimeWarning: overflow encountered in multiply\n",
      "  out = (cos(2*alpha(z,x,beta)) - 1/(1+x)) / (kappa(z,x,beta) - beta*(1+x)*sin(2*alpha(z,x,beta)))\n",
      "/global/homes/w/wlou1991/CSR2D/csr2d/core.py:26: RuntimeWarning: invalid value encountered in cos\n",
      "  out = (cos(2*alpha(z,x,beta)) - 1/(1+x)) / (kappa(z,x,beta) - beta*(1+x)*sin(2*alpha(z,x,beta)))\n",
      "/global/homes/w/wlou1991/CSR2D/csr2d/core.py:26: RuntimeWarning: invalid value encountered in sin\n",
      "  out = (cos(2*alpha(z,x,beta)) - 1/(1+x)) / (kappa(z,x,beta) - beta*(1+x)*sin(2*alpha(z,x,beta)))\n"
     ]
    },
    {
     "name": "stdout",
     "output_type": "stream",
     "text": [
      "Time elapsed for N = 500 :  0.8009071350097656\n"
     ]
    },
    {
     "name": "stderr",
     "output_type": "stream",
     "text": [
      "/global/homes/w/wlou1991/CSR2D/csr2d/core.py:115: RuntimeWarning: divide by zero encountered in true_divide\n",
      "  arg3 = 2*eta(z,x,beta)/arg1\n",
      "/global/homes/w/wlou1991/CSR2D/csr2d/core.py:26: RuntimeWarning: overflow encountered in multiply\n",
      "  out = (cos(2*alpha(z,x,beta)) - 1/(1+x)) / (kappa(z,x,beta) - beta*(1+x)*sin(2*alpha(z,x,beta)))\n",
      "/global/homes/w/wlou1991/CSR2D/csr2d/core.py:26: RuntimeWarning: invalid value encountered in cos\n",
      "  out = (cos(2*alpha(z,x,beta)) - 1/(1+x)) / (kappa(z,x,beta) - beta*(1+x)*sin(2*alpha(z,x,beta)))\n",
      "/global/homes/w/wlou1991/CSR2D/csr2d/core.py:26: RuntimeWarning: invalid value encountered in sin\n",
      "  out = (cos(2*alpha(z,x,beta)) - 1/(1+x)) / (kappa(z,x,beta) - beta*(1+x)*sin(2*alpha(z,x,beta)))\n"
     ]
    },
    {
     "name": "stdout",
     "output_type": "stream",
     "text": [
      "Time elapsed for N = 600 :  1.0288641452789307\n"
     ]
    },
    {
     "name": "stderr",
     "output_type": "stream",
     "text": [
      "/global/homes/w/wlou1991/CSR2D/csr2d/core.py:115: RuntimeWarning: divide by zero encountered in true_divide\n",
      "  arg3 = 2*eta(z,x,beta)/arg1\n",
      "/global/homes/w/wlou1991/CSR2D/csr2d/core.py:26: RuntimeWarning: overflow encountered in multiply\n",
      "  out = (cos(2*alpha(z,x,beta)) - 1/(1+x)) / (kappa(z,x,beta) - beta*(1+x)*sin(2*alpha(z,x,beta)))\n",
      "/global/homes/w/wlou1991/CSR2D/csr2d/core.py:26: RuntimeWarning: invalid value encountered in cos\n",
      "  out = (cos(2*alpha(z,x,beta)) - 1/(1+x)) / (kappa(z,x,beta) - beta*(1+x)*sin(2*alpha(z,x,beta)))\n",
      "/global/homes/w/wlou1991/CSR2D/csr2d/core.py:26: RuntimeWarning: invalid value encountered in sin\n",
      "  out = (cos(2*alpha(z,x,beta)) - 1/(1+x)) / (kappa(z,x,beta) - beta*(1+x)*sin(2*alpha(z,x,beta)))\n"
     ]
    },
    {
     "name": "stdout",
     "output_type": "stream",
     "text": [
      "Time elapsed for N = 700 :  1.2656490802764893\n"
     ]
    },
    {
     "name": "stderr",
     "output_type": "stream",
     "text": [
      "/global/homes/w/wlou1991/CSR2D/csr2d/core.py:115: RuntimeWarning: divide by zero encountered in true_divide\n",
      "  arg3 = 2*eta(z,x,beta)/arg1\n",
      "/global/homes/w/wlou1991/CSR2D/csr2d/core.py:26: RuntimeWarning: overflow encountered in multiply\n",
      "  out = (cos(2*alpha(z,x,beta)) - 1/(1+x)) / (kappa(z,x,beta) - beta*(1+x)*sin(2*alpha(z,x,beta)))\n",
      "/global/homes/w/wlou1991/CSR2D/csr2d/core.py:26: RuntimeWarning: invalid value encountered in cos\n",
      "  out = (cos(2*alpha(z,x,beta)) - 1/(1+x)) / (kappa(z,x,beta) - beta*(1+x)*sin(2*alpha(z,x,beta)))\n",
      "/global/homes/w/wlou1991/CSR2D/csr2d/core.py:26: RuntimeWarning: invalid value encountered in sin\n",
      "  out = (cos(2*alpha(z,x,beta)) - 1/(1+x)) / (kappa(z,x,beta) - beta*(1+x)*sin(2*alpha(z,x,beta)))\n"
     ]
    },
    {
     "name": "stdout",
     "output_type": "stream",
     "text": [
      "Time elapsed for N = 800 :  1.4361028671264648\n"
     ]
    },
    {
     "name": "stderr",
     "output_type": "stream",
     "text": [
      "/global/homes/w/wlou1991/CSR2D/csr2d/core.py:115: RuntimeWarning: divide by zero encountered in true_divide\n",
      "  arg3 = 2*eta(z,x,beta)/arg1\n",
      "/global/homes/w/wlou1991/CSR2D/csr2d/core.py:26: RuntimeWarning: overflow encountered in multiply\n",
      "  out = (cos(2*alpha(z,x,beta)) - 1/(1+x)) / (kappa(z,x,beta) - beta*(1+x)*sin(2*alpha(z,x,beta)))\n",
      "/global/homes/w/wlou1991/CSR2D/csr2d/core.py:26: RuntimeWarning: invalid value encountered in cos\n",
      "  out = (cos(2*alpha(z,x,beta)) - 1/(1+x)) / (kappa(z,x,beta) - beta*(1+x)*sin(2*alpha(z,x,beta)))\n",
      "/global/homes/w/wlou1991/CSR2D/csr2d/core.py:26: RuntimeWarning: invalid value encountered in sin\n",
      "  out = (cos(2*alpha(z,x,beta)) - 1/(1+x)) / (kappa(z,x,beta) - beta*(1+x)*sin(2*alpha(z,x,beta)))\n"
     ]
    },
    {
     "name": "stdout",
     "output_type": "stream",
     "text": [
      "Time elapsed for N = 900 :  1.884047031402588\n"
     ]
    },
    {
     "name": "stderr",
     "output_type": "stream",
     "text": [
      "/global/homes/w/wlou1991/CSR2D/csr2d/core.py:115: RuntimeWarning: divide by zero encountered in true_divide\n",
      "  arg3 = 2*eta(z,x,beta)/arg1\n",
      "/global/homes/w/wlou1991/CSR2D/csr2d/core.py:26: RuntimeWarning: overflow encountered in multiply\n",
      "  out = (cos(2*alpha(z,x,beta)) - 1/(1+x)) / (kappa(z,x,beta) - beta*(1+x)*sin(2*alpha(z,x,beta)))\n",
      "/global/homes/w/wlou1991/CSR2D/csr2d/core.py:26: RuntimeWarning: invalid value encountered in cos\n",
      "  out = (cos(2*alpha(z,x,beta)) - 1/(1+x)) / (kappa(z,x,beta) - beta*(1+x)*sin(2*alpha(z,x,beta)))\n",
      "/global/homes/w/wlou1991/CSR2D/csr2d/core.py:26: RuntimeWarning: invalid value encountered in sin\n",
      "  out = (cos(2*alpha(z,x,beta)) - 1/(1+x)) / (kappa(z,x,beta) - beta*(1+x)*sin(2*alpha(z,x,beta)))\n"
     ]
    },
    {
     "name": "stdout",
     "output_type": "stream",
     "text": [
      "Time elapsed for N = 1000 :  2.265371322631836\n"
     ]
    }
   ],
   "source": [
    "gamma = 500\n",
    "beta = (1-1/gamma**2)**(1/2)\n",
    "rho = 1\n",
    "sigmax = 10E-6\n",
    "sigmaz = 10E-6\n",
    "\n",
    "\n",
    "\n",
    "for N in np.arange(100,1100,100):\n",
    "    t1 = time()\n",
    "    dz = 1.0E-4/N\n",
    "    dx = 1.0E-4/N\n",
    "    \n",
    "    zvec2 = np.arange(-10*sigmaz, 10*sigmaz, dz)\n",
    "    xvec2 = np.arange(-10*sigmax, 10*sigmax, dx)\n",
    "    zm2, xm2 = np.meshgrid(zvec2, xvec2, sparse=False, indexing='ij')\n",
    "    beta_grid = beta*np.ones(zm2.shape)\n",
    "    \n",
    "    with concurrent.futures.ProcessPoolExecutor(max_workers = 24) as executor:\n",
    "        temp = executor.map(psi_s, zm2, xm2, beta_grid)\n",
    "        result2 = np.array(list(temp))\n",
    "\n",
    "    print('Time elapsed for N =', N,': ',time()-t1)"
   ]
  },
  {
   "cell_type": "markdown",
   "metadata": {},
   "source": [
    "# Not faster..."
   ]
  },
  {
   "cell_type": "code",
   "execution_count": 32,
   "metadata": {},
   "outputs": [
    {
     "name": "stdout",
     "output_type": "stream",
     "text": [
      "CPU times: user 207 ms, sys: 307 ms, total: 514 ms\n",
      "Wall time: 15.3 s\n"
     ]
    }
   ],
   "source": [
    "%%time\n",
    "# With Multi-processing\n",
    "DD = np.arange(0.)\n",
    "with concurrent.futures.ProcessPoolExecutor() as executor:\n",
    "    for PSI_X in executor.map(psi_x, zm2, xm2, beta_grid):\n",
    "        DD = np.append(DD,PSI_X)"
   ]
  },
  {
   "cell_type": "code",
   "execution_count": 28,
   "metadata": {},
   "outputs": [],
   "source": [
    "DD.reshape(zm2.shape);"
   ]
  },
  {
   "cell_type": "code",
   "execution_count": null,
   "metadata": {},
   "outputs": [],
   "source": []
  }
 ],
 "metadata": {
  "kernelspec": {
   "display_name": "Cupy",
   "language": "python",
   "name": "cupy"
  },
  "language_info": {
   "codemirror_mode": {
    "name": "ipython",
    "version": 3
   },
   "file_extension": ".py",
   "mimetype": "text/x-python",
   "name": "python",
   "nbconvert_exporter": "python",
   "pygments_lexer": "ipython3",
   "version": "3.8.6"
  }
 },
 "nbformat": 4,
 "nbformat_minor": 4
}
