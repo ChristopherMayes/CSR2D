{
 "cells": [
  {
   "cell_type": "code",
   "execution_count": 1,
   "metadata": {},
   "outputs": [],
   "source": [
    "import numpy as np\n",
    "import time\n",
    "import concurrent.futures as cf"
   ]
  },
  {
   "cell_type": "code",
   "execution_count": 4,
   "metadata": {},
   "outputs": [],
   "source": [
    "#@np.vectorize\n",
    "def split_particles(position, charge, mins, maxs, sizes):\n",
    "    '''\n",
    "    positions = array of size (Np, N_dim)\n",
    "    mins  = (xmin, ymin, zmin)\n",
    "    maxs  = (xmax, ymax, zmax)\n",
    "    sizes = (Nx, Ny, Nz)\n",
    "    '''\n",
    "\n",
    "    if ((mins.shape != maxs.shape) | (mins.shape != sizes.shape)):\n",
    "        print('Dimension mismatch between mins, maxs, and sizes!!')\n",
    "        return None\n",
    "    \n",
    "    if (np.any( position - mins < 0 ) | np.any( position - maxs >= 0 )):\n",
    "        print(np.any( position - mins < 0 ) )\n",
    "        print(np.any( position - maxs >= 0 ) )\n",
    "        print('Particle position falls outside the boundary specified!')\n",
    "        return None\n",
    "    \n",
    "    deltas = (maxs - mins) / (sizes - 1)\n",
    "        #print('deltas: ',deltas)\n",
    "    floors = np.floor( (position - mins)/deltas + 1 )  # index of the nearest \"floor point\"\n",
    "    floors = floors.astype(int)\n",
    "        #print('floors: ', floors)\n",
    "    weights = ((mins - position) + floors*deltas) / deltas  # werights towards the floor point\n",
    "        #print('weights: ', weights)\n",
    "    \n",
    "    dim = sizes.shape[0]\n",
    "    if (dim > 3) :\n",
    "        print('Dimension > 3 detected!!')\n",
    "        return None\n",
    "\n",
    "    elif (dim == 3):\n",
    "\n",
    "        ip = floors[:,0]\n",
    "        jp = floors[:,1]\n",
    "        kp = floors[:,2]\n",
    "        \n",
    "        w1 = weights[:,0]\n",
    "        w2 = weights[:,1]\n",
    "        w3 = weights[:,2]        \n",
    " \n",
    "        t1 = w1*w2*w3*charge\n",
    "        t2 = w1*(1-w2)*w3*charge\n",
    "        t3 = w1*(1-w2)*(1-w3)*charge\n",
    "        t4 = w1*w2*(1-w3)*charge\n",
    "\n",
    "        t5 = (1-w1)*w2*w3*charge\n",
    "        t6 = (1-w1)*(1-w2)*w3*charge\n",
    "        t7 = (1-w1)*(1-w2)*(1-w3)*charge\n",
    "        t8 = (1-w1)*w2*(1-w3)*charge\n",
    "\n",
    "        indexes = np.array([ip,jp,kp])\n",
    "        contrib = np.array([t1,t2,t3,t4,t5,t6,t7,t8])\n",
    "        \n",
    "    elif (dim == 2):\n",
    "        ip = floors[:,0]\n",
    "        jp = floors[:,1]\n",
    "        \n",
    "        w1 = weights[:,0]\n",
    "        w2 = weights[:,1]     \n",
    " \n",
    "        t1 = w1*w2*charge\n",
    "        t2 = w1*(1-w2)*charge\n",
    "        t3 = (1-w1)*(1-w2)*charge\n",
    "        t4 = (1-w1)*w2*charge\n",
    "\n",
    "        indexes = np.array([ip,jp])\n",
    "        contrib = np.array([t1,t2,t3,t4])\n",
    "    \n",
    "    elif (dim == 1):\n",
    "\n",
    "        ip = floors[:,0]    \n",
    "        w1 = weights[:,0]   \n",
    " \n",
    "        t1 = w1*charge\n",
    "        t2 = (1-w1)*charge\n",
    "\n",
    "        indexes = np.array([ip])\n",
    "        contrib = np.array([t1,t2])\n",
    "        \n",
    "    return indexes, contrib"
   ]
  },
  {
   "cell_type": "code",
   "execution_count": 9,
   "metadata": {},
   "outputs": [],
   "source": [
    "def deposit_particles( sizes, indexes, contrib):\n",
    "    \"\"\"\n",
    "    Deposit the \"splitted particles\" on an empty grid.\n",
    "    Use this function after the \"split_particles\" function.\n",
    "    For large Np this function can be slow.\n",
    "    \"\"\"\n",
    "    \n",
    "    Np = indexes.shape[1]\n",
    "    charge_grid = np.zeros(sizes)\n",
    "    # Populate charge_grid\n",
    "    for n in range(Np):\n",
    "        (ip, jp) = indexes[:,n] # depositting index of the nth particle\n",
    "        (t1, t2, t3, t4) = contrib[:,n] # contribtuion of the nth particle\n",
    "    \n",
    "        charge_grid[ip-1][jp-1] = charge_grid[ip-1][jp-1] + t1\n",
    "        charge_grid[ip-1][jp]   = charge_grid[ip-1][jp]   + t2\n",
    "\n",
    "        charge_grid[ip][jp]     = charge_grid[ip][jp]     + t3\n",
    "        charge_grid[ip][jp-1]   = charge_grid[ip][jp-1]   + t4\n",
    "        \n",
    "    return charge_grid\n",
    "\n",
    "def deposit_particles2( indexes, contrib):\n",
    "    \"\"\"\n",
    "    Deposit the \"splitted particles\" on an empty grid.\n",
    "    Use this function after the \"split_particles\" function.\n",
    "    For large Np this function can be slow.\n",
    "    \"\"\"\n",
    "    \n",
    "    Np = indexes.shape[0]\n",
    "    #charge_grid = np.zeros(sizes)\n",
    "    \n",
    "    charge_grid = np.zeros(np.array([105,101]))\n",
    "    \n",
    "    # Populate charge_grid\n",
    "    for n in range(Np):\n",
    "        (ip, jp) = indexes[n,:] # depositting index of the nth particle\n",
    "        (t1, t2, t3, t4) = contrib[n,:] # contribtuion of the nth particle\n",
    "    \n",
    "        charge_grid[ip-1][jp-1] = charge_grid[ip-1][jp-1] + t1\n",
    "        charge_grid[ip-1][jp]   = charge_grid[ip-1][jp]   + t2\n",
    "\n",
    "        charge_grid[ip][jp]     = charge_grid[ip][jp]     + t3\n",
    "        charge_grid[ip][jp-1]   = charge_grid[ip][jp-1]   + t4\n",
    "        \n",
    "    return charge_grid"
   ]
  },
  {
   "cell_type": "markdown",
   "metadata": {},
   "source": [
    "# Testing"
   ]
  },
  {
   "cell_type": "code",
   "execution_count": 7,
   "metadata": {},
   "outputs": [],
   "source": [
    "np.random.seed(0)"
   ]
  },
  {
   "cell_type": "code",
   "execution_count": 17,
   "metadata": {},
   "outputs": [],
   "source": [
    "charge = 25\n",
    "mins = np.array([-0.2,-0.2,-0.2])  # Lower bounds of the grid\n",
    "maxs = np.array([0.2,0.2,0.2])     # Upper bounds of the grid\n",
    "sizes = np.array([500,500,500])\n",
    "\n",
    "#beam1 = np.array([[1,1,1]])\n",
    "#beam2 = np.array([[0.1,0.1,0.1]])\n",
    "#beam3 = np.array([[1,1,1],[0.1,0.1,0.1],[2.3,2.5,2.9]])\n",
    "\n",
    "beam4 = np.random.normal(0, 0.02, (100000, 3))\n",
    "\n",
    "Np = beam4.shape[0]\n",
    "\n",
    "\n"
   ]
  },
  {
   "cell_type": "code",
   "execution_count": 7,
   "metadata": {},
   "outputs": [],
   "source": [
    "Np = 1000000\n",
    "\n",
    "mins = np.array([-51E-6,-51E-6])  # Lower bounds of the grid\n",
    "maxs = np.array([51E-6,51E-6])     # Upper bounds of the grid\n",
    "sizes = np.array([105, 101])\n",
    "\n",
    "Q = 160E-12\n",
    "charges = np.ones(Np)*Q/Np\n",
    "\n",
    "beam = np.random.normal(0, 10E-6 , size=(6, Np))\n",
    "(x_b, xp_b, y_b, yp_b, z_b, zp_b) = beam\n",
    "zx_positions = np.stack((z_b, x_b)).T"
   ]
  },
  {
   "cell_type": "code",
   "execution_count": 9,
   "metadata": {},
   "outputs": [],
   "source": [
    "#indexes, contrib = split_particles(beam4, charge, mins, maxs, sizes)"
   ]
  },
  {
   "cell_type": "code",
   "execution_count": 107,
   "metadata": {},
   "outputs": [
    {
     "data": {
      "text/plain": [
       "array([105, 101])"
      ]
     },
     "execution_count": 107,
     "metadata": {},
     "output_type": "execute_result"
    }
   ],
   "source": [
    "sizes"
   ]
  },
  {
   "cell_type": "code",
   "execution_count": 8,
   "metadata": {},
   "outputs": [
    {
     "name": "stdout",
     "output_type": "stream",
     "text": [
      "True\n",
      "False\n",
      "Particle position falls outside the boundary specified!\n"
     ]
    },
    {
     "ename": "TypeError",
     "evalue": "cannot unpack non-iterable NoneType object",
     "output_type": "error",
     "traceback": [
      "\u001b[0;31m---------------------------------------------------------------------------\u001b[0m",
      "\u001b[0;31mTypeError\u001b[0m                                 Traceback (most recent call last)",
      "\u001b[0;32m<ipython-input-8-27bb837d27db>\u001b[0m in \u001b[0;36m<module>\u001b[0;34m\u001b[0m\n\u001b[0;32m----> 1\u001b[0;31m \u001b[0mindexes\u001b[0m\u001b[0;34m,\u001b[0m \u001b[0mcontrib\u001b[0m \u001b[0;34m=\u001b[0m \u001b[0msplit_particles\u001b[0m\u001b[0;34m(\u001b[0m\u001b[0mzx_positions\u001b[0m\u001b[0;34m,\u001b[0m \u001b[0mcharges\u001b[0m\u001b[0;34m,\u001b[0m \u001b[0mmins\u001b[0m\u001b[0;34m,\u001b[0m \u001b[0mmaxs\u001b[0m\u001b[0;34m,\u001b[0m \u001b[0msizes\u001b[0m\u001b[0;34m)\u001b[0m\u001b[0;34m\u001b[0m\u001b[0;34m\u001b[0m\u001b[0m\n\u001b[0m\u001b[1;32m      2\u001b[0m \u001b[0mt1\u001b[0m \u001b[0;34m=\u001b[0m \u001b[0mtime\u001b[0m\u001b[0;34m.\u001b[0m\u001b[0mtime\u001b[0m\u001b[0;34m(\u001b[0m\u001b[0;34m)\u001b[0m\u001b[0;34m;\u001b[0m\u001b[0;34m\u001b[0m\u001b[0;34m\u001b[0m\u001b[0m\n\u001b[1;32m      3\u001b[0m \u001b[0mcharge_grid\u001b[0m \u001b[0;34m=\u001b[0m \u001b[0mdeposit_particles\u001b[0m\u001b[0;34m(\u001b[0m\u001b[0msizes\u001b[0m\u001b[0;34m,\u001b[0m \u001b[0mindexes\u001b[0m\u001b[0;34m,\u001b[0m \u001b[0mcontrib\u001b[0m\u001b[0;34m)\u001b[0m\u001b[0;34m\u001b[0m\u001b[0;34m\u001b[0m\u001b[0m\n\u001b[1;32m      4\u001b[0m \u001b[0mt2\u001b[0m \u001b[0;34m=\u001b[0m \u001b[0mtime\u001b[0m\u001b[0;34m.\u001b[0m\u001b[0mtime\u001b[0m\u001b[0;34m(\u001b[0m\u001b[0;34m)\u001b[0m\u001b[0;34m;\u001b[0m\u001b[0;34m\u001b[0m\u001b[0;34m\u001b[0m\u001b[0m\n\u001b[1;32m      5\u001b[0m \u001b[0mprint\u001b[0m\u001b[0;34m(\u001b[0m\u001b[0;34m'Depositting particles takes:'\u001b[0m\u001b[0;34m,\u001b[0m \u001b[0mt2\u001b[0m \u001b[0;34m-\u001b[0m \u001b[0mt1\u001b[0m\u001b[0;34m,\u001b[0m \u001b[0;34m's'\u001b[0m\u001b[0;34m)\u001b[0m\u001b[0;34m\u001b[0m\u001b[0;34m\u001b[0m\u001b[0m\n",
      "\u001b[0;31mTypeError\u001b[0m: cannot unpack non-iterable NoneType object"
     ]
    }
   ],
   "source": [
    "indexes, contrib = split_particles(zx_positions, charges, mins, maxs, sizes)\n",
    "t1 = time.time();\n",
    "charge_grid = deposit_particles(sizes, indexes, contrib)\n",
    "t2 = time.time();\n",
    "print('Depositting particles takes:', t2 - t1, 's')"
   ]
  },
  {
   "cell_type": "code",
   "execution_count": 268,
   "metadata": {},
   "outputs": [],
   "source": [
    "indexesT = indexes.T\n",
    "contribT = contrib.T"
   ]
  },
  {
   "cell_type": "code",
   "execution_count": 267,
   "metadata": {},
   "outputs": [
    {
     "ename": "IndexError",
     "evalue": "too many indices for array: array is 1-dimensional, but 2 were indexed",
     "output_type": "error",
     "traceback": [
      "\u001b[0;31m---------------------------------------------------------------------------\u001b[0m",
      "\u001b[0;31m_RemoteTraceback\u001b[0m                          Traceback (most recent call last)",
      "\u001b[0;31m_RemoteTraceback\u001b[0m: \n\"\"\"\nTraceback (most recent call last):\n  File \"/global/homes/w/wlou1991/.conda/envs/lume/lib/python3.7/concurrent/futures/process.py\", line 239, in _process_worker\n    r = call_item.fn(*call_item.args, **call_item.kwargs)\n  File \"/global/homes/w/wlou1991/.conda/envs/lume/lib/python3.7/concurrent/futures/process.py\", line 198, in _process_chunk\n    return [fn(*args) for args in chunk]\n  File \"/global/homes/w/wlou1991/.conda/envs/lume/lib/python3.7/concurrent/futures/process.py\", line 198, in <listcomp>\n    return [fn(*args) for args in chunk]\n  File \"<ipython-input-231-7dd3c0f98910>\", line 37, in deposit_particles2\n    (ip, jp) = indexes[n,:] # depositting index of the nth particle\nIndexError: too many indices for array: array is 1-dimensional, but 2 were indexed\n\"\"\"",
      "\nThe above exception was the direct cause of the following exception:\n",
      "\u001b[0;31mIndexError\u001b[0m                                Traceback (most recent call last)",
      "\u001b[0;32m<ipython-input-267-eb4eb280b659>\u001b[0m in \u001b[0;36m<module>\u001b[0;34m\u001b[0m\n\u001b[1;32m      3\u001b[0m     \u001b[0;31m#charge_grid2 = deposit_particles2(sizes, indexesT, contribT)\u001b[0m\u001b[0;34m\u001b[0m\u001b[0;34m\u001b[0m\u001b[0;34m\u001b[0m\u001b[0m\n\u001b[1;32m      4\u001b[0m     \u001b[0mtemp\u001b[0m \u001b[0;34m=\u001b[0m \u001b[0mexecutor\u001b[0m\u001b[0;34m.\u001b[0m\u001b[0mmap\u001b[0m\u001b[0;34m(\u001b[0m \u001b[0mdeposit_particles2\u001b[0m\u001b[0;34m,\u001b[0m \u001b[0mindexesT\u001b[0m\u001b[0;34m,\u001b[0m \u001b[0mcontribT\u001b[0m\u001b[0;34m)\u001b[0m\u001b[0;34m\u001b[0m\u001b[0;34m\u001b[0m\u001b[0m\n\u001b[0;32m----> 5\u001b[0;31m     \u001b[0mprint\u001b[0m\u001b[0;34m(\u001b[0m\u001b[0mlist\u001b[0m\u001b[0;34m(\u001b[0m\u001b[0mtemp\u001b[0m\u001b[0;34m)\u001b[0m\u001b[0;34m)\u001b[0m\u001b[0;34m\u001b[0m\u001b[0;34m\u001b[0m\u001b[0m\n\u001b[0m\u001b[1;32m      6\u001b[0m     \u001b[0;31m#charge_grid2 = np.array(list(temp))\u001b[0m\u001b[0;34m\u001b[0m\u001b[0;34m\u001b[0m\u001b[0;34m\u001b[0m\u001b[0m\n\u001b[1;32m      7\u001b[0m \u001b[0;34m\u001b[0m\u001b[0m\n",
      "\u001b[0;32m~/.conda/envs/lume/lib/python3.7/concurrent/futures/process.py\u001b[0m in \u001b[0;36m_chain_from_iterable_of_lists\u001b[0;34m(iterable)\u001b[0m\n\u001b[1;32m    481\u001b[0m     \u001b[0mcareful\u001b[0m \u001b[0;32mnot\u001b[0m \u001b[0mto\u001b[0m \u001b[0mkeep\u001b[0m \u001b[0mreferences\u001b[0m \u001b[0mto\u001b[0m \u001b[0myielded\u001b[0m \u001b[0mobjects\u001b[0m\u001b[0;34m.\u001b[0m\u001b[0;34m\u001b[0m\u001b[0;34m\u001b[0m\u001b[0m\n\u001b[1;32m    482\u001b[0m     \"\"\"\n\u001b[0;32m--> 483\u001b[0;31m     \u001b[0;32mfor\u001b[0m \u001b[0melement\u001b[0m \u001b[0;32min\u001b[0m \u001b[0miterable\u001b[0m\u001b[0;34m:\u001b[0m\u001b[0;34m\u001b[0m\u001b[0;34m\u001b[0m\u001b[0m\n\u001b[0m\u001b[1;32m    484\u001b[0m         \u001b[0melement\u001b[0m\u001b[0;34m.\u001b[0m\u001b[0mreverse\u001b[0m\u001b[0;34m(\u001b[0m\u001b[0;34m)\u001b[0m\u001b[0;34m\u001b[0m\u001b[0;34m\u001b[0m\u001b[0m\n\u001b[1;32m    485\u001b[0m         \u001b[0;32mwhile\u001b[0m \u001b[0melement\u001b[0m\u001b[0;34m:\u001b[0m\u001b[0;34m\u001b[0m\u001b[0;34m\u001b[0m\u001b[0m\n",
      "\u001b[0;32m~/.conda/envs/lume/lib/python3.7/concurrent/futures/_base.py\u001b[0m in \u001b[0;36mresult_iterator\u001b[0;34m()\u001b[0m\n\u001b[1;32m    596\u001b[0m                     \u001b[0;31m# Careful not to keep a reference to the popped future\u001b[0m\u001b[0;34m\u001b[0m\u001b[0;34m\u001b[0m\u001b[0;34m\u001b[0m\u001b[0m\n\u001b[1;32m    597\u001b[0m                     \u001b[0;32mif\u001b[0m \u001b[0mtimeout\u001b[0m \u001b[0;32mis\u001b[0m \u001b[0;32mNone\u001b[0m\u001b[0;34m:\u001b[0m\u001b[0;34m\u001b[0m\u001b[0;34m\u001b[0m\u001b[0m\n\u001b[0;32m--> 598\u001b[0;31m                         \u001b[0;32myield\u001b[0m \u001b[0mfs\u001b[0m\u001b[0;34m.\u001b[0m\u001b[0mpop\u001b[0m\u001b[0;34m(\u001b[0m\u001b[0;34m)\u001b[0m\u001b[0;34m.\u001b[0m\u001b[0mresult\u001b[0m\u001b[0;34m(\u001b[0m\u001b[0;34m)\u001b[0m\u001b[0;34m\u001b[0m\u001b[0;34m\u001b[0m\u001b[0m\n\u001b[0m\u001b[1;32m    599\u001b[0m                     \u001b[0;32melse\u001b[0m\u001b[0;34m:\u001b[0m\u001b[0;34m\u001b[0m\u001b[0;34m\u001b[0m\u001b[0m\n\u001b[1;32m    600\u001b[0m                         \u001b[0;32myield\u001b[0m \u001b[0mfs\u001b[0m\u001b[0;34m.\u001b[0m\u001b[0mpop\u001b[0m\u001b[0;34m(\u001b[0m\u001b[0;34m)\u001b[0m\u001b[0;34m.\u001b[0m\u001b[0mresult\u001b[0m\u001b[0;34m(\u001b[0m\u001b[0mend_time\u001b[0m \u001b[0;34m-\u001b[0m \u001b[0mtime\u001b[0m\u001b[0;34m.\u001b[0m\u001b[0mmonotonic\u001b[0m\u001b[0;34m(\u001b[0m\u001b[0;34m)\u001b[0m\u001b[0;34m)\u001b[0m\u001b[0;34m\u001b[0m\u001b[0;34m\u001b[0m\u001b[0m\n",
      "\u001b[0;32m~/.conda/envs/lume/lib/python3.7/concurrent/futures/_base.py\u001b[0m in \u001b[0;36mresult\u001b[0;34m(self, timeout)\u001b[0m\n\u001b[1;32m    426\u001b[0m                 \u001b[0;32mraise\u001b[0m \u001b[0mCancelledError\u001b[0m\u001b[0;34m(\u001b[0m\u001b[0;34m)\u001b[0m\u001b[0;34m\u001b[0m\u001b[0;34m\u001b[0m\u001b[0m\n\u001b[1;32m    427\u001b[0m             \u001b[0;32melif\u001b[0m \u001b[0mself\u001b[0m\u001b[0;34m.\u001b[0m\u001b[0m_state\u001b[0m \u001b[0;34m==\u001b[0m \u001b[0mFINISHED\u001b[0m\u001b[0;34m:\u001b[0m\u001b[0;34m\u001b[0m\u001b[0;34m\u001b[0m\u001b[0m\n\u001b[0;32m--> 428\u001b[0;31m                 \u001b[0;32mreturn\u001b[0m \u001b[0mself\u001b[0m\u001b[0;34m.\u001b[0m\u001b[0m__get_result\u001b[0m\u001b[0;34m(\u001b[0m\u001b[0;34m)\u001b[0m\u001b[0;34m\u001b[0m\u001b[0;34m\u001b[0m\u001b[0m\n\u001b[0m\u001b[1;32m    429\u001b[0m \u001b[0;34m\u001b[0m\u001b[0m\n\u001b[1;32m    430\u001b[0m             \u001b[0mself\u001b[0m\u001b[0;34m.\u001b[0m\u001b[0m_condition\u001b[0m\u001b[0;34m.\u001b[0m\u001b[0mwait\u001b[0m\u001b[0;34m(\u001b[0m\u001b[0mtimeout\u001b[0m\u001b[0;34m)\u001b[0m\u001b[0;34m\u001b[0m\u001b[0;34m\u001b[0m\u001b[0m\n",
      "\u001b[0;32m~/.conda/envs/lume/lib/python3.7/concurrent/futures/_base.py\u001b[0m in \u001b[0;36m__get_result\u001b[0;34m(self)\u001b[0m\n\u001b[1;32m    382\u001b[0m     \u001b[0;32mdef\u001b[0m \u001b[0m__get_result\u001b[0m\u001b[0;34m(\u001b[0m\u001b[0mself\u001b[0m\u001b[0;34m)\u001b[0m\u001b[0;34m:\u001b[0m\u001b[0;34m\u001b[0m\u001b[0;34m\u001b[0m\u001b[0m\n\u001b[1;32m    383\u001b[0m         \u001b[0;32mif\u001b[0m \u001b[0mself\u001b[0m\u001b[0;34m.\u001b[0m\u001b[0m_exception\u001b[0m\u001b[0;34m:\u001b[0m\u001b[0;34m\u001b[0m\u001b[0;34m\u001b[0m\u001b[0m\n\u001b[0;32m--> 384\u001b[0;31m             \u001b[0;32mraise\u001b[0m \u001b[0mself\u001b[0m\u001b[0;34m.\u001b[0m\u001b[0m_exception\u001b[0m\u001b[0;34m\u001b[0m\u001b[0;34m\u001b[0m\u001b[0m\n\u001b[0m\u001b[1;32m    385\u001b[0m         \u001b[0;32melse\u001b[0m\u001b[0;34m:\u001b[0m\u001b[0;34m\u001b[0m\u001b[0;34m\u001b[0m\u001b[0m\n\u001b[1;32m    386\u001b[0m             \u001b[0;32mreturn\u001b[0m \u001b[0mself\u001b[0m\u001b[0;34m.\u001b[0m\u001b[0m_result\u001b[0m\u001b[0;34m\u001b[0m\u001b[0;34m\u001b[0m\u001b[0m\n",
      "\u001b[0;31mIndexError\u001b[0m: too many indices for array: array is 1-dimensional, but 2 were indexed"
     ]
    }
   ],
   "source": [
    "t1 = time.time();\n",
    "with cf.ProcessPoolExecutor(max_workers = 12) as executor:\n",
    "    #charge_grid2 = deposit_particles2(sizes, indexesT, contribT)\n",
    "    temp = executor.map( deposit_particles2, indexesT, contribT)\n",
    "    #print(list(temp))\n",
    "    charge_grid2 = np.array(list(temp))\n",
    "    \n",
    "t2 = time.time();\n",
    "print('Depositting particles takes:', t2 - t1, 's')"
   ]
  },
  {
   "cell_type": "code",
   "execution_count": 277,
   "metadata": {},
   "outputs": [
    {
     "name": "stdout",
     "output_type": "stream",
     "text": [
      "8.297629117965698\n"
     ]
    }
   ],
   "source": [
    "t1 = time.time()\n",
    "charge_grid2 = deposit_particles2( indexesT, contribT)\n",
    "t2 = time.time()\n",
    "print(t2-t1)"
   ]
  },
  {
   "cell_type": "code",
   "execution_count": 273,
   "metadata": {},
   "outputs": [
    {
     "data": {
      "text/plain": [
       "2.5304964795983684e-13"
      ]
     },
     "execution_count": 273,
     "metadata": {},
     "output_type": "execute_result"
    }
   ],
   "source": [
    "charge_grid2[50][50]"
   ]
  },
  {
   "cell_type": "code",
   "execution_count": 285,
   "metadata": {},
   "outputs": [
    {
     "name": "stdout",
     "output_type": "stream",
     "text": [
      "(20, 50000, 2)\n",
      "(20, 50000, 4)\n"
     ]
    }
   ],
   "source": [
    "iii = np.array(np.array_split(indexesT,20))\n",
    "jjj = np.array(np.array_split(contribT,20))\n",
    "print(iii.shape)\n",
    "print(jjj.shape)"
   ]
  },
  {
   "cell_type": "code",
   "execution_count": 281,
   "metadata": {},
   "outputs": [
    {
     "name": "stdout",
     "output_type": "stream",
     "text": [
      "8.093605756759644\n"
     ]
    }
   ],
   "source": [
    "t1 = time.time()\n",
    "temp = map(deposit_particles2, iii, jjj)\n",
    "gather = list(temp)\n",
    "t2 = time.time()\n",
    "print(t2-t1)"
   ]
  },
  {
   "cell_type": "code",
   "execution_count": 286,
   "metadata": {},
   "outputs": [
    {
     "name": "stdout",
     "output_type": "stream",
     "text": [
      "2.4571573734283447\n"
     ]
    }
   ],
   "source": [
    "t1 = time.time()\n",
    "with cf.ProcessPoolExecutor(max_workers = 20) as executor:\n",
    "    temp = executor.map(deposit_particles2, iii, jjj, chunksize = 1)\n",
    "    gather2 = np.array(list(temp))\n",
    "t2 = time.time()\n",
    "print(t2-t1)"
   ]
  },
  {
   "cell_type": "code",
   "execution_count": 265,
   "metadata": {},
   "outputs": [
    {
     "data": {
      "text/plain": [
       "(5, 105, 101)"
      ]
     },
     "execution_count": 265,
     "metadata": {},
     "output_type": "execute_result"
    }
   ],
   "source": [
    "gather2.shape"
   ]
  },
  {
   "cell_type": "code",
   "execution_count": 284,
   "metadata": {},
   "outputs": [],
   "source": [
    "gg =  gather[0] + gather[1] + gather[2] + gather[3] + gather[4] "
   ]
  },
  {
   "cell_type": "code",
   "execution_count": 275,
   "metadata": {},
   "outputs": [
    {
     "data": {
      "text/plain": [
       "2.5304964795983603e-13"
      ]
     },
     "execution_count": 275,
     "metadata": {},
     "output_type": "execute_result"
    }
   ],
   "source": [
    "gg[50][50]"
   ]
  },
  {
   "cell_type": "code",
   "execution_count": 276,
   "metadata": {},
   "outputs": [
    {
     "data": {
      "text/plain": [
       "True"
      ]
     },
     "execution_count": 276,
     "metadata": {},
     "output_type": "execute_result"
    }
   ],
   "source": [
    "np.allclose(gg,charge_grid2)"
   ]
  },
  {
   "cell_type": "code",
   "execution_count": 124,
   "metadata": {},
   "outputs": [],
   "source": [
    "charge_grid = deposit_particles2(sizes, indexesT, contribT)\n"
   ]
  },
  {
   "cell_type": "code",
   "execution_count": 193,
   "metadata": {},
   "outputs": [
    {
     "data": {
      "text/plain": [
       "(5, 200000, 4)"
      ]
     },
     "execution_count": 193,
     "metadata": {},
     "output_type": "execute_result"
    }
   ],
   "source": [
    "iii = np.array(np.array_split(indexesT,5))\n",
    "jjj = np.array(np.array_split(contribT,5))\n",
    "jjj.shape\n"
   ]
  },
  {
   "cell_type": "code",
   "execution_count": 224,
   "metadata": {},
   "outputs": [],
   "source": [
    "cg1 = deposit_particles2(sizes, indexesT[0:10000], contribT[0:10000])\n",
    "cg2 = deposit_particles2(sizes, indexesT[10000:20000], contribT[10000:20000])\n",
    "cg3 = deposit_particles2(sizes, indexesT[20000:30000], contribT[20000:30000])\n",
    "cg4 = deposit_particles2(sizes, indexesT[30000:40000], contribT[30000:40000])\n",
    "cg5 = deposit_particles2(sizes, indexesT[40000:50000], contribT[40000:50000])"
   ]
  },
  {
   "cell_type": "code",
   "execution_count": 225,
   "metadata": {},
   "outputs": [],
   "source": [
    "cg = cg1 + cg2 +cg3 +cg4 +cg5"
   ]
  },
  {
   "cell_type": "code",
   "execution_count": 163,
   "metadata": {},
   "outputs": [
    {
     "data": {
      "text/plain": [
       "6.200954313836813e-15"
      ]
     },
     "execution_count": 163,
     "metadata": {},
     "output_type": "execute_result"
    }
   ],
   "source": [
    "charge_grid_saved[30][33]"
   ]
  },
  {
   "cell_type": "code",
   "execution_count": 106,
   "metadata": {},
   "outputs": [
    {
     "data": {
      "text/plain": [
       "2.4007138414907846e-13"
      ]
     },
     "execution_count": 106,
     "metadata": {},
     "output_type": "execute_result"
    }
   ],
   "source": [
    "charge_grid_saved[50][50]"
   ]
  },
  {
   "cell_type": "code",
   "execution_count": 109,
   "metadata": {},
   "outputs": [
    {
     "data": {
      "text/plain": [
       "2.5487301874247584e-13"
      ]
     },
     "execution_count": 109,
     "metadata": {},
     "output_type": "execute_result"
    }
   ],
   "source": [
    "charge_grid_saved[50][51]"
   ]
  },
  {
   "cell_type": "code",
   "execution_count": 110,
   "metadata": {},
   "outputs": [
    {
     "data": {
      "text/plain": [
       "2.614049555215493e-13"
      ]
     },
     "execution_count": 110,
     "metadata": {},
     "output_type": "execute_result"
    }
   ],
   "source": [
    "charge_grid_saved[51][50]"
   ]
  },
  {
   "cell_type": "code",
   "execution_count": null,
   "metadata": {},
   "outputs": [],
   "source": [
    "def dep_one(sizes, indexes, contrib):\n",
    "    \"\"\"\n",
    "    Deposit the \"splitted particles\" on an empty grid.\n",
    "    Use this function after the \"split_particles\" function.\n",
    "    For large Np this function can be slow.\n",
    "    \"\"\"\n",
    "    \n",
    "    charge_grid = np.zeros(sizes)\n",
    "    # Populate charge_grid\n",
    "\n",
    "    (ip, jp) = indexes # depositting index of the nth particle\n",
    "    (t1, t2, t3, t4) = contrib # contribtuion of the nth particle\n",
    "    \n",
    "    charge_grid[ip-1][jp-1] = charge_grid[ip-1][jp-1] + t1\n",
    "    charge_grid[ip-1][jp]   = charge_grid[ip-1][jp]   + t2\n",
    "\n",
    "    charge_grid[ip][jp-1]   = charge_grid[ip][jp-1]   + t3\n",
    "    charge_grid[ip][jp]     = charge_grid[ip][jp]     + t4\n",
    "        \n",
    "    return charge_grid"
   ]
  },
  {
   "cell_type": "code",
   "execution_count": 51,
   "metadata": {},
   "outputs": [],
   "source": [
    "indexesT = indexes.T\n",
    "contribT = contrib.T"
   ]
  },
  {
   "cell_type": "code",
   "execution_count": 55,
   "metadata": {},
   "outputs": [],
   "source": []
  },
  {
   "cell_type": "code",
   "execution_count": 57,
   "metadata": {},
   "outputs": [
    {
     "data": {
      "text/plain": [
       "array([2.10857803e-15, 3.96094205e-16, 1.09960614e-16, 5.85367148e-16])"
      ]
     },
     "execution_count": 57,
     "metadata": {},
     "output_type": "execute_result"
    }
   ],
   "source": [
    "contribT[0]"
   ]
  },
  {
   "cell_type": "code",
   "execution_count": null,
   "metadata": {},
   "outputs": [],
   "source": []
  },
  {
   "cell_type": "code",
   "execution_count": 118,
   "metadata": {},
   "outputs": [
    {
     "name": "stdout",
     "output_type": "stream",
     "text": [
      "0.1355431079864502\n"
     ]
    }
   ],
   "source": [
    "from csr2d.core import psi_s, psi_x\n",
    "zmin = -0.001\n",
    "xmin = -0.001\n",
    "zmax = 0.001\n",
    "xmax = 0.001\n",
    "Nz = 105\n",
    "Nx = 101\n",
    "\n",
    "zvec2 = np.linspace(2*zmin,2*zmax,2*Nz)\n",
    "xvec2 = np.linspace(2*xmin,2*xmax,2*Nx)\n",
    "zm2, xm2 = np.meshgrid(zvec2, xvec2, indexing='ij')\n",
    "    #psi_s_grid = psi_s(zm2,xm2,beta)\n",
    "\n",
    "    \n",
    "beta = 0.999\n",
    "#beta*np.ones(2*Nz)\n",
    "beta_grid = beta*np.ones(zm2.shape)\n",
    "\n",
    "t1 = time.time()\n",
    "with cf.ProcessPoolExecutor(max_workers = 12) as executor:\n",
    "    temp = executor.map(psi_s, zm2, xm2, beta_grid, chunksize=12)\n",
    "    psi_s_grid = np.array(list(temp))\n",
    "t2 = time.time()\n",
    "\n",
    "print(t2-t1)\n",
    "    "
   ]
  },
  {
   "cell_type": "code",
   "execution_count": 100,
   "metadata": {},
   "outputs": [
    {
     "data": {
      "text/plain": [
       "array([[-0.50153527, -0.49654269, -0.49155017, ...,  0.48832118,\n",
       "         0.49327184,  0.49822228],\n",
       "       [-0.50636707, -0.5013264 , -0.49628579, ...,  0.49304825,\n",
       "         0.49804674,  0.50304501],\n",
       "       [-0.51129313, -0.50620343, -0.50111379, ...,  0.49786745,\n",
       "         0.5029147 ,  0.50796174],\n",
       "       ...,\n",
       "       [-8.92166038, -8.92012894, -8.9185954 , ..., -8.58320182,\n",
       "        -8.58136807, -8.57953334],\n",
       "       [-8.89208422, -8.89056391, -8.88904153, ..., -8.55645466,\n",
       "        -8.5546374 , -8.55281919],\n",
       "       [-8.86288795, -8.86137859, -8.85986721, ..., -8.53003795,\n",
       "        -8.52823688, -8.52643487]])"
      ]
     },
     "execution_count": 100,
     "metadata": {},
     "output_type": "execute_result"
    }
   ],
   "source": [
    "psi_s_grid"
   ]
  },
  {
   "cell_type": "code",
   "execution_count": 98,
   "metadata": {},
   "outputs": [
    {
     "data": {
      "text/plain": [
       "array([[-0.50153527, -0.49654269, -0.49155017, ...,  0.48832118,\n",
       "         0.49327184,  0.49822228],\n",
       "       [-0.50636707, -0.5013264 , -0.49628579, ...,  0.49304825,\n",
       "         0.49804674,  0.50304501],\n",
       "       [-0.51129313, -0.50620343, -0.50111379, ...,  0.49786745,\n",
       "         0.5029147 ,  0.50796174],\n",
       "       ...,\n",
       "       [-8.92166038, -8.92012894, -8.9185954 , ..., -8.58320182,\n",
       "        -8.58136807, -8.57953334],\n",
       "       [-8.89208422, -8.89056391, -8.88904153, ..., -8.55645466,\n",
       "        -8.5546374 , -8.55281919],\n",
       "       [-8.86288795, -8.86137859, -8.85986721, ..., -8.53003795,\n",
       "        -8.52823688, -8.52643487]])"
      ]
     },
     "execution_count": 98,
     "metadata": {},
     "output_type": "execute_result"
    }
   ],
   "source": [
    "psi_s_grid"
   ]
  },
  {
   "cell_type": "code",
   "execution_count": 72,
   "metadata": {},
   "outputs": [],
   "source": [
    "def csum(vec, shift):\n",
    "    return vec[0]+vec[1]+vec[2] + shift"
   ]
  },
  {
   "cell_type": "code",
   "execution_count": 236,
   "metadata": {},
   "outputs": [
    {
     "data": {
      "text/plain": [
       "(2, 4)"
      ]
     },
     "execution_count": 236,
     "metadata": {},
     "output_type": "execute_result"
    }
   ],
   "source": [
    "kaka.shape"
   ]
  },
  {
   "cell_type": "code",
   "execution_count": 75,
   "metadata": {},
   "outputs": [
    {
     "data": {
      "text/plain": [
       "[7.0, 19.0]"
      ]
     },
     "execution_count": 75,
     "metadata": {},
     "output_type": "execute_result"
    }
   ],
   "source": [
    "kaka = np.array([[1,2,3,4],[5,6,7,8]])\n",
    "mm = map(csum,kaka,np.ones(2))\n",
    "list(mm)"
   ]
  },
  {
   "cell_type": "code",
   "execution_count": 81,
   "metadata": {},
   "outputs": [],
   "source": [
    "\n",
    "with cf.ProcessPoolExecutor(max_workers = 12) as executor:\n",
    "    temp = executor.map(csum,kaka,np.ones(1))\n",
    "    result = np.array(list(temp))"
   ]
  },
  {
   "cell_type": "code",
   "execution_count": 82,
   "metadata": {},
   "outputs": [
    {
     "data": {
      "text/plain": [
       "array([7.])"
      ]
     },
     "execution_count": 82,
     "metadata": {},
     "output_type": "execute_result"
    }
   ],
   "source": [
    "result"
   ]
  },
  {
   "cell_type": "markdown",
   "metadata": {},
   "source": [
    "# Scratch below"
   ]
  },
  {
   "cell_type": "code",
   "execution_count": null,
   "metadata": {},
   "outputs": [],
   "source": [
    "tt1 = time.time();\n",
    "# Method 1\n",
    "\n",
    "charge_grid = np.zeros(sizes)\n",
    "# Populate charge_grid\n",
    "for n in range(Np):\n",
    "    (ip, jp, kp) = indexes[:,n] # depositting index of the nth particle\n",
    "    (t1, t2, t3, t4, t5, t6, t7, t8) = contrib[:,n] # contribtuion of the nth particle\n",
    "    \n",
    "    charge_grid[ip-1][jp-1][kp-1] = charge_grid[ip-1][jp-1][kp-1] + t1\n",
    "    charge_grid[ip-1][jp][kp-1]   = charge_grid[ip-1][jp][kp-1]   + t2\n",
    "    charge_grid[ip-1][jp][kp]     = charge_grid[ip-1][jp][kp]     + t3\n",
    "    charge_grid[ip-1][jp-1][kp]   = charge_grid[ip-1][jp-1][kp]   + t4\n",
    "\n",
    "    charge_grid[ip][jp-1][kp-1]   = charge_grid[ip][jp-1][kp-1] + t5\n",
    "    charge_grid[ip][jp][kp-1]     = charge_grid[ip][jp][kp-1]   + t6\n",
    "    charge_grid[ip][jp][kp]       = charge_grid[ip][jp][kp]     + t7\n",
    "    charge_grid[ip][jp-1][kp]     = charge_grid[ip][jp-1][kp]   + t8\n",
    "\n",
    "#charge_grid[50][56][50];\n",
    "\n",
    "tt2 = time.time();\n",
    "\n",
    "print('time:', tt2 - tt1)"
   ]
  },
  {
   "cell_type": "code",
   "execution_count": null,
   "metadata": {},
   "outputs": [],
   "source": [
    "charge_grid[250][250][250]"
   ]
  },
  {
   "cell_type": "code",
   "execution_count": null,
   "metadata": {},
   "outputs": [],
   "source": [
    "charge_grid[250:254,250:254,250:254]"
   ]
  },
  {
   "cell_type": "code",
   "execution_count": 11,
   "metadata": {},
   "outputs": [
    {
     "data": {
      "text/plain": [
       "(500, 500, 500)"
      ]
     },
     "execution_count": 11,
     "metadata": {},
     "output_type": "execute_result"
    }
   ],
   "source": [
    "y = np.random.random((500, 500, 500))\n",
    "y.shape"
   ]
  },
  {
   "cell_type": "code",
   "execution_count": 12,
   "metadata": {},
   "outputs": [],
   "source": [
    "# this saves memory\n",
    "def hist_grid(sizes,indexes,contrib):\n",
    "    \n",
    "    xedges = np.arange(sizes[0]+1)\n",
    "    yedges = np.arange(sizes[1]+1)\n",
    "    zedges = np.arange(sizes[2]+1)\n",
    "\n",
    "    h1 = np.sum( [ \n",
    "     np.histogramdd(indexes.T, bins = (xedges+1,yedges+1,zedges+1), weights=contrib[0])[0],\n",
    "     np.histogramdd(indexes.T, bins = (xedges+1,yedges,zedges+1), weights=contrib[1])[0],\n",
    "     np.histogramdd(indexes.T, bins = (xedges+1,yedges,zedges), weights=contrib[2])[0],\n",
    "     np.histogramdd(indexes.T, bins = (xedges+1,yedges+1,zedges), weights=contrib[3])[0],\n",
    "\n",
    "     np.histogramdd(indexes.T, bins = (xedges,yedges+1,zedges+1), weights=contrib[4])[0],\n",
    "     np.histogramdd(indexes.T, bins = (xedges,yedges,zedges+1), weights=contrib[5])[0],\n",
    "     np.histogramdd(indexes.T, bins = (xedges,yedges,zedges), weights=contrib[6])[0],\n",
    "     np.histogramdd(indexes.T, bins = (xedges,yedges+1,zedges), weights=contrib[7])[0]])\n",
    "\n",
    "    return h1\n"
   ]
  },
  {
   "cell_type": "code",
   "execution_count": 13,
   "metadata": {},
   "outputs": [
    {
     "name": "stdout",
     "output_type": "stream",
     "text": [
      "time: 21.767561674118042\n"
     ]
    }
   ],
   "source": [
    "tt1 = time.time();\n",
    "hist_grid(sizes,indexes,contrib)\n",
    "\n",
    "tt2 = time.time();\n",
    "print('time:', tt2 - tt1)"
   ]
  },
  {
   "cell_type": "code",
   "execution_count": 6,
   "metadata": {},
   "outputs": [
    {
     "name": "stdout",
     "output_type": "stream",
     "text": [
      "time: 11.502238750457764\n"
     ]
    }
   ],
   "source": [
    "tt1 = time.time();\n",
    "\n",
    "xedges = np.arange(sizes[0]+1)\n",
    "yedges = np.arange(sizes[1]+1)\n",
    "zedges = np.arange(sizes[2]+1)\n",
    "\n",
    "h1 = np.histogramdd(indexes.T, bins = (xedges+1,yedges+1,zedges+1), weights=contrib[0])[0]\n",
    "h2 = np.histogramdd(indexes.T, bins = (xedges+1,yedges,zedges+1), weights=contrib[1])[0]\n",
    "h3 = np.histogramdd(indexes.T, bins = (xedges+1,yedges,zedges), weights=contrib[2])[0]\n",
    "h4 = np.histogramdd(indexes.T, bins = (xedges+1,yedges+1,zedges), weights=contrib[3])[0]\n",
    "\n",
    "h5 = np.histogramdd(indexes.T, bins = (xedges,yedges+1,zedges+1), weights=contrib[4])[0]\n",
    "h6 = np.histogramdd(indexes.T, bins = (xedges,yedges,zedges+1), weights=contrib[5])[0]\n",
    "h7 = np.histogramdd(indexes.T, bins = (xedges,yedges,zedges), weights=contrib[6])[0]\n",
    "h8 = np.histogramdd(indexes.T, bins = (xedges,yedges+1,zedges), weights=contrib[7])[0]\n",
    "\n",
    "htot = h1+h2+h3+h4+h5+h6+h7+h8\n",
    "htot[50][56][50];\n",
    "\n",
    "tt2 = time.time();\n",
    "print('time:', tt2 - tt1)"
   ]
  },
  {
   "cell_type": "code",
   "execution_count": null,
   "metadata": {},
   "outputs": [],
   "source": [
    "import concurrent.futures as cf"
   ]
  },
  {
   "cell_type": "code",
   "execution_count": null,
   "metadata": {},
   "outputs": [],
   "source": [
    "# parallel?\n",
    "with concurrent.futures.ProcessPoolExecutor(max_workers = 24) as executor:\n",
    "    temp = executor.map(psi_s, zm2, xm2, beta_grid)\n",
    "    result2 = np.array(list(temp))"
   ]
  },
  {
   "cell_type": "code",
   "execution_count": null,
   "metadata": {},
   "outputs": [],
   "source": [
    "htot[250:254,250:254,250:254]"
   ]
  },
  {
   "cell_type": "code",
   "execution_count": null,
   "metadata": {},
   "outputs": [],
   "source": [
    "htot[48:52,48:52,48:52]"
   ]
  },
  {
   "cell_type": "code",
   "execution_count": null,
   "metadata": {},
   "outputs": [],
   "source": [
    "r = np.ones((4,3))\n",
    "np.histogramdd(r, bins = (3,3,3), weights=(0.1,0.3,0.5,0.7))"
   ]
  },
  {
   "cell_type": "code",
   "execution_count": null,
   "metadata": {},
   "outputs": [],
   "source": [
    "xedges = [0, 1,2,3,4,5]\n",
    "yedges = [0, 1,2,3,4,5]\n",
    "np.histogram2d([1,1,2,3,4,4],[1,2,2,3,4,4],bins = (xedges, yedges), weights=[1,2,3,4,5,6])"
   ]
  },
  {
   "cell_type": "code",
   "execution_count": null,
   "metadata": {},
   "outputs": [],
   "source": [
    "np.histogram([1, 2, 1], bins=[0, 1, 2, 3])"
   ]
  },
  {
   "cell_type": "code",
   "execution_count": null,
   "metadata": {},
   "outputs": [],
   "source": [
    "np.histogram([[1, 2, 1], [1, 0, 1]], bins=[0,1,2,3])"
   ]
  },
  {
   "cell_type": "code",
   "execution_count": null,
   "metadata": {},
   "outputs": [],
   "source": [
    "np.histogram([1,2,3,4,5,6,7,7,7], bins=7)"
   ]
  }
 ],
 "metadata": {
  "kernelspec": {
   "display_name": "Cupy",
   "language": "python",
   "name": "cupy"
  },
  "language_info": {
   "codemirror_mode": {
    "name": "ipython",
    "version": 3
   },
   "file_extension": ".py",
   "mimetype": "text/x-python",
   "name": "python",
   "nbconvert_exporter": "python",
   "pygments_lexer": "ipython3",
   "version": "3.8.6"
  }
 },
 "nbformat": 4,
 "nbformat_minor": 4
}
