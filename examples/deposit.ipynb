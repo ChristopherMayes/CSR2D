{
 "cells": [
  {
   "cell_type": "code",
   "execution_count": 1,
   "metadata": {},
   "outputs": [],
   "source": [
    "import numpy as np\n",
    "import time"
   ]
  },
  {
   "cell_type": "code",
   "execution_count": 2,
   "metadata": {},
   "outputs": [],
   "source": [
    "#@np.vectorize\n",
    "def deposit_particles(position, charge, mins, maxs, sizes):\n",
    "    '''\n",
    "    mins  = (xmin, ymin, zmin)\n",
    "    maxs  = (xmax, ymax, zmax)\n",
    "    sizes = (Nx, Ny, Nz)\n",
    "    '''\n",
    "\n",
    "    if ((mins.shape != maxs.shape) | (mins.shape != sizes.shape)):\n",
    "        print('Dimension mismatch between mins, maxs, and sizes!!')\n",
    "        return None\n",
    "    \n",
    "    if (np.any( position - mins < 0 ) | np.any( position - maxs >= 0 )):\n",
    "        print(np.any( position - mins < 0 ) )\n",
    "        print(np.any( position - maxs >= 0 ) )\n",
    "        print('Particle position falls outside the boundary specified!')\n",
    "        return None\n",
    "    \n",
    "    deltas = (maxs - mins) / (sizes - 1)\n",
    "        #print('deltas: ',deltas)\n",
    "    floors = np.floor( (position - mins)/deltas + 1 )  # index of the nearest \"floor point\"\n",
    "    floors = floors.astype(int)\n",
    "        #print('floors: ', floors)\n",
    "    weights = ((mins - position) + floors*deltas) / deltas  # werights towards the floor point\n",
    "        #print('weights: ', weights)\n",
    "    \n",
    "    dim = sizes.shape[0]\n",
    "    if (dim > 3) :\n",
    "        print('Dimension > 3 detected!!')\n",
    "        return None\n",
    "\n",
    "    elif (dim == 3):\n",
    "\n",
    "        ip = floors[:,0]\n",
    "        jp = floors[:,1]\n",
    "        kp = floors[:,2]\n",
    "        \n",
    "        w1 = weights[:,0]\n",
    "        w2 = weights[:,1]\n",
    "        w3 = weights[:,2]        \n",
    " \n",
    "        t1 = w1*w2*w3*charge\n",
    "        t2 = w1*(1-w2)*w3*charge\n",
    "        t3 = w1*(1-w2)*(1-w3)*charge\n",
    "        t4 = w1*w2*(1-w3)*charge\n",
    "\n",
    "        t5 = (1-w1)*w2*w3*charge\n",
    "        t6 = (1-w1)*(1-w2)*w3*charge\n",
    "        t7 = (1-w1)*(1-w2)*(1-w3)*charge\n",
    "        t8 = (1-w1)*w2*(1-w3)*charge\n",
    "\n",
    "        indexes = np.array([ip,jp,kp])\n",
    "        contrib = np.array([t1,t2,t3,t4,t5,t6,t7,t8])\n",
    "        \n",
    "    elif (dim == 2):\n",
    "        ip = floors[:,0]\n",
    "        jp = floors[:,1]\n",
    "        \n",
    "        w1 = weights[:,0]\n",
    "        w2 = weights[:,1]     \n",
    " \n",
    "        t1 = w1*w2*charge\n",
    "        t2 = w1*(1-w2)*charge\n",
    "        t3 = (1-w1)*(1-w2)*charge\n",
    "        t4 = (1-w1)*w2*charge\n",
    "\n",
    "        indexes = np.array([ip,jp])\n",
    "        contrib = np.array([t1,t2,t3,t4])\n",
    "    \n",
    "    elif (dim == 1):\n",
    "\n",
    "        ip = floors[:,0]    \n",
    "        w1 = weights[:,0]   \n",
    " \n",
    "        t1 = w1*charge\n",
    "        t2 = (1-w1)*charge\n",
    "\n",
    "        indexes = np.array([ip])\n",
    "        contrib = np.array([t1,t2])\n",
    "        \n",
    "    return indexes, contrib"
   ]
  },
  {
   "cell_type": "code",
   "execution_count": 3,
   "metadata": {},
   "outputs": [],
   "source": [
    "np.random.seed(0)"
   ]
  },
  {
   "cell_type": "code",
   "execution_count": 4,
   "metadata": {},
   "outputs": [],
   "source": [
    "charge = 25\n",
    "mins = np.array([-0.2,-0.2,-0.2])  # Lower bounds of the grid\n",
    "maxs = np.array([0.2,0.2,0.2])     # Upper bounds of the grid\n",
    "sizes = np.array([500,500,500])\n",
    "\n",
    "#beam1 = np.array([[1,1,1]])\n",
    "#beam2 = np.array([[0.1,0.1,0.1]])\n",
    "#beam3 = np.array([[1,1,1],[0.1,0.1,0.1],[2.3,2.5,2.9]])\n",
    "\n",
    "beam4 = np.random.normal(0, 0.02, (1000000, 3))\n",
    "\n",
    "Np = beam4.shape[0]"
   ]
  },
  {
   "cell_type": "code",
   "execution_count": 5,
   "metadata": {},
   "outputs": [],
   "source": [
    "indexes, contrib = deposit_particles(beam4, charge, mins, maxs, sizes)"
   ]
  },
  {
   "cell_type": "code",
   "execution_count": null,
   "metadata": {},
   "outputs": [],
   "source": [
    "tt1 = time.time();\n",
    "# Method 1\n",
    "\n",
    "charge_grid = np.zeros(sizes)\n",
    "# Populate charge_grid\n",
    "for n in range(Np):\n",
    "    (ip, jp, kp) = indexes[:,n] # depositting index of the nth particle\n",
    "    (t1, t2, t3, t4, t5, t6, t7, t8) = contrib[:,n] # contribtuion of the nth particle\n",
    "    \n",
    "    charge_grid[ip-1][jp-1][kp-1] = charge_grid[ip-1][jp-1][kp-1] + t1\n",
    "    charge_grid[ip-1][jp][kp-1]   = charge_grid[ip-1][jp][kp-1]   + t2\n",
    "    charge_grid[ip-1][jp][kp]     = charge_grid[ip-1][jp][kp]     + t3\n",
    "    charge_grid[ip-1][jp-1][kp]   = charge_grid[ip-1][jp-1][kp]   + t4\n",
    "\n",
    "    charge_grid[ip][jp-1][kp-1]   = charge_grid[ip][jp-1][kp-1] + t5\n",
    "    charge_grid[ip][jp][kp-1]     = charge_grid[ip][jp][kp-1]   + t6\n",
    "    charge_grid[ip][jp][kp]       = charge_grid[ip][jp][kp]     + t7\n",
    "    charge_grid[ip][jp-1][kp]     = charge_grid[ip][jp-1][kp]   + t8\n",
    "\n",
    "#charge_grid[50][56][50];\n",
    "\n",
    "tt2 = time.time();\n",
    "\n",
    "print('time:', tt2 - tt1)"
   ]
  },
  {
   "cell_type": "code",
   "execution_count": null,
   "metadata": {},
   "outputs": [],
   "source": [
    "charge_grid[250][250][250]"
   ]
  },
  {
   "cell_type": "code",
   "execution_count": null,
   "metadata": {},
   "outputs": [],
   "source": [
    "charge_grid[250:254,250:254,250:254]"
   ]
  },
  {
   "cell_type": "code",
   "execution_count": 11,
   "metadata": {},
   "outputs": [
    {
     "data": {
      "text/plain": [
       "(500, 500, 500)"
      ]
     },
     "execution_count": 11,
     "metadata": {},
     "output_type": "execute_result"
    }
   ],
   "source": [
    "y = np.random.random((500, 500, 500))\n",
    "y.shape"
   ]
  },
  {
   "cell_type": "code",
   "execution_count": 12,
   "metadata": {},
   "outputs": [],
   "source": [
    "# this saves memory\n",
    "def hist_grid(sizes,indexes,contrib):\n",
    "    \n",
    "    xedges = np.arange(sizes[0]+1)\n",
    "    yedges = np.arange(sizes[1]+1)\n",
    "    zedges = np.arange(sizes[2]+1)\n",
    "\n",
    "    h1 = np.sum( [ \n",
    "     np.histogramdd(indexes.T, bins = (xedges+1,yedges+1,zedges+1), weights=contrib[0])[0],\n",
    "     np.histogramdd(indexes.T, bins = (xedges+1,yedges,zedges+1), weights=contrib[1])[0],\n",
    "     np.histogramdd(indexes.T, bins = (xedges+1,yedges,zedges), weights=contrib[2])[0],\n",
    "     np.histogramdd(indexes.T, bins = (xedges+1,yedges+1,zedges), weights=contrib[3])[0],\n",
    "\n",
    "     np.histogramdd(indexes.T, bins = (xedges,yedges+1,zedges+1), weights=contrib[4])[0],\n",
    "     np.histogramdd(indexes.T, bins = (xedges,yedges,zedges+1), weights=contrib[5])[0],\n",
    "     np.histogramdd(indexes.T, bins = (xedges,yedges,zedges), weights=contrib[6])[0],\n",
    "     np.histogramdd(indexes.T, bins = (xedges,yedges+1,zedges), weights=contrib[7])[0]])\n",
    "\n",
    "    return h1\n"
   ]
  },
  {
   "cell_type": "code",
   "execution_count": 13,
   "metadata": {},
   "outputs": [
    {
     "name": "stdout",
     "output_type": "stream",
     "text": [
      "time: 21.767561674118042\n"
     ]
    }
   ],
   "source": [
    "tt1 = time.time();\n",
    "hist_grid(sizes,indexes,contrib)\n",
    "\n",
    "tt2 = time.time();\n",
    "print('time:', tt2 - tt1)"
   ]
  },
  {
   "cell_type": "code",
   "execution_count": 6,
   "metadata": {},
   "outputs": [
    {
     "name": "stdout",
     "output_type": "stream",
     "text": [
      "time: 11.502238750457764\n"
     ]
    }
   ],
   "source": [
    "tt1 = time.time();\n",
    "\n",
    "xedges = np.arange(sizes[0]+1)\n",
    "yedges = np.arange(sizes[1]+1)\n",
    "zedges = np.arange(sizes[2]+1)\n",
    "\n",
    "h1 = np.histogramdd(indexes.T, bins = (xedges+1,yedges+1,zedges+1), weights=contrib[0])[0]\n",
    "h2 = np.histogramdd(indexes.T, bins = (xedges+1,yedges,zedges+1), weights=contrib[1])[0]\n",
    "h3 = np.histogramdd(indexes.T, bins = (xedges+1,yedges,zedges), weights=contrib[2])[0]\n",
    "h4 = np.histogramdd(indexes.T, bins = (xedges+1,yedges+1,zedges), weights=contrib[3])[0]\n",
    "\n",
    "h5 = np.histogramdd(indexes.T, bins = (xedges,yedges+1,zedges+1), weights=contrib[4])[0]\n",
    "h6 = np.histogramdd(indexes.T, bins = (xedges,yedges,zedges+1), weights=contrib[5])[0]\n",
    "h7 = np.histogramdd(indexes.T, bins = (xedges,yedges,zedges), weights=contrib[6])[0]\n",
    "h8 = np.histogramdd(indexes.T, bins = (xedges,yedges+1,zedges), weights=contrib[7])[0]\n",
    "\n",
    "htot = h1+h2+h3+h4+h5+h6+h7+h8\n",
    "htot[50][56][50];\n",
    "\n",
    "tt2 = time.time();\n",
    "print('time:', tt2 - tt1)"
   ]
  },
  {
   "cell_type": "code",
   "execution_count": null,
   "metadata": {},
   "outputs": [],
   "source": [
    "import concurrent.futures as cf"
   ]
  },
  {
   "cell_type": "code",
   "execution_count": null,
   "metadata": {},
   "outputs": [],
   "source": [
    "# parallel?\n",
    "with concurrent.futures.ProcessPoolExecutor(max_workers = 24) as executor:\n",
    "    temp = executor.map(psi_s, zm2, xm2, beta_grid)\n",
    "    result2 = np.array(list(temp))"
   ]
  },
  {
   "cell_type": "code",
   "execution_count": null,
   "metadata": {},
   "outputs": [],
   "source": [
    "htot[250:254,250:254,250:254]"
   ]
  },
  {
   "cell_type": "code",
   "execution_count": null,
   "metadata": {},
   "outputs": [],
   "source": [
    "htot[48:52,48:52,48:52]"
   ]
  },
  {
   "cell_type": "code",
   "execution_count": null,
   "metadata": {},
   "outputs": [],
   "source": [
    "r = np.ones((4,3))\n",
    "np.histogramdd(r, bins = (3,3,3), weights=(0.1,0.3,0.5,0.7))"
   ]
  },
  {
   "cell_type": "code",
   "execution_count": null,
   "metadata": {},
   "outputs": [],
   "source": [
    "xedges = [0, 1,2,3,4,5]\n",
    "yedges = [0, 1,2,3,4,5]\n",
    "np.histogram2d([1,1,2,3,4,4],[1,2,2,3,4,4],bins = (xedges, yedges), weights=[1,2,3,4,5,6])"
   ]
  },
  {
   "cell_type": "code",
   "execution_count": null,
   "metadata": {},
   "outputs": [],
   "source": [
    "np.histogram([1, 2, 1], bins=[0, 1, 2, 3])"
   ]
  },
  {
   "cell_type": "code",
   "execution_count": null,
   "metadata": {},
   "outputs": [],
   "source": [
    "np.histogram([[1, 2, 1], [1, 0, 1]], bins=[0,1,2,3])"
   ]
  },
  {
   "cell_type": "code",
   "execution_count": null,
   "metadata": {},
   "outputs": [],
   "source": [
    "np.histogram([1,2,3,4,5,6,7,7,7], bins=7)"
   ]
  }
 ],
 "metadata": {
  "kernelspec": {
   "display_name": "Lume",
   "language": "python",
   "name": "lume"
  },
  "language_info": {
   "codemirror_mode": {
    "name": "ipython",
    "version": 3
   },
   "file_extension": ".py",
   "mimetype": "text/x-python",
   "name": "python",
   "nbconvert_exporter": "python",
   "pygments_lexer": "ipython3",
   "version": "3.7.7"
  }
 },
 "nbformat": 4,
 "nbformat_minor": 4
}
