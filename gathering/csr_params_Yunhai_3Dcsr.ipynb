{
 "cells": [
  {
   "cell_type": "code",
   "execution_count": 49,
   "metadata": {},
   "outputs": [],
   "source": [
    "import numpy as np\n",
    "import scipy.constants"
   ]
  },
  {
   "cell_type": "code",
   "execution_count": 51,
   "metadata": {},
   "outputs": [
    {
     "data": {
      "text/plain": [
       "1.602176634e-19"
      ]
     },
     "execution_count": 51,
     "metadata": {},
     "output_type": "execute_result"
    }
   ],
   "source": [
    "c_light = scipy.constants.c\n",
    "e_charge = scipy.constants.e"
   ]
  },
  {
   "cell_type": "markdown",
   "metadata": {},
   "source": [
    "# Parameters"
   ]
  },
  {
   "cell_type": "code",
   "execution_count": 52,
   "metadata": {},
   "outputs": [],
   "source": [
    "gamma = 9804\n",
    "# gamma = 9.784756043574142e+03  # Glen\n",
    "\n",
    "rho = 10.34  # Bend radius in m\n",
    "LB = 0.5     # Bend length in m\n",
    "\n",
    "# Desired beam optics at the END of the bend ( see Yunhai's 3D CSR paper )\n",
    "beta_xf  = 5.19   # in m\n",
    "alpha_xf = 0\n",
    "eta_xf   = 0      # in m\n",
    "etap_xf  = 0\n",
    "\n",
    "beta_yf  = 12.28   # in m\n",
    "alpha_yf = 0\n",
    "eta_yf   = 0      # in m\n",
    "etap_yf  = 0\n",
    "\n",
    "# With the parameters above we can calculate (using Bmad)\n",
    "# the required INITIAL beam optics at the BEGINNING of the bend\n",
    "beta_x  = 5.22600574   # in m\n",
    "alpha_x = 0.07195534\n",
    "eta_x   = 0.01208662     # in m\n",
    "etap_x  = -0.04833706\n",
    "\n",
    "beta_y = 12.30035831    # in m\n",
    "alpha_y = 0.04071661\n",
    "eta_y   = 0             # in m\n",
    "etap_y  = 0\n",
    "\n",
    "# Beam emittance\n",
    "norm_emit_x = 1e-6           # in m\n",
    "emit_x = norm_emit_x / gamma # in m\n",
    "norm_emit_y = 1e-6           # in m\n",
    "emit_y = norm_emit_y / gamma # in m\n",
    "\n",
    "# Bunch length and energy spread\n",
    "sigma_z  = 2e-5\n",
    "sigma_delta = 5e-5   # a small value picked by Glen\n",
    "\n",
    "\n",
    "# Total charge\n",
    "Q = e_charge * 6.25e9\n"
   ]
  },
  {
   "cell_type": "markdown",
   "metadata": {},
   "source": [
    "### Checking that Twiss parameter propagation is correct"
   ]
  },
  {
   "cell_type": "code",
   "execution_count": 43,
   "metadata": {},
   "outputs": [
    {
     "data": {
      "text/plain": [
       "array([[5.19000000e+00, 1.23635778e-09],\n",
       "       [1.23635777e-09, 1.92678227e-01]])"
      ]
     },
     "execution_count": 43,
     "metadata": {},
     "output_type": "execute_result"
    }
   ],
   "source": [
    "gamma_x = (1 + (alpha_x)**2) / beta_x\n",
    "beta_mat_x = np.array([[beta_x,-alpha_x],[-alpha_x,gamma_x]])  # bend in x plane\n",
    "\n",
    "transfer_mat_x = np.array([[np.cos(LB/rho),rho*np.sin(LB/rho)],[-np.sin(LB/rho)/rho,np.cos(LB/rho)]])  # bend\n",
    "np.matmul(transfer_mat_x, np.matmul(beta_mat_x,transfer_mat_x.T ))"
   ]
  },
  {
   "cell_type": "code",
   "execution_count": 44,
   "metadata": {},
   "outputs": [
    {
     "data": {
      "text/plain": [
       "array([[1.22800000e+01, 2.35736360e-09],\n",
       "       [2.35736360e-09, 8.14332247e-02]])"
      ]
     },
     "execution_count": 44,
     "metadata": {},
     "output_type": "execute_result"
    }
   ],
   "source": [
    "gamma_y = (1 + (alpha_y)**2) / beta_y\n",
    "beta_mat_y = np.array([[beta_y,-alpha_y],[-alpha_y,gamma_y]])  \n",
    "\n",
    "transfer_mat_y = np.array([[1,LB],[0,1]])  # drift in y plane\n",
    "np.matmul(transfer_mat_y, np.matmul(beta_mat_y,transfer_mat_y.T ))"
   ]
  },
  {
   "cell_type": "markdown",
   "metadata": {},
   "source": [
    "# Beam definition"
   ]
  },
  {
   "cell_type": "code",
   "execution_count": 23,
   "metadata": {},
   "outputs": [],
   "source": [
    "# fix random seed \n",
    "np.random.seed(0)\n",
    "\n",
    "# Number of macro particles\n",
    "Np = 1000000\n",
    "\n",
    "# charge of one macro-particle\n",
    "charges = np.ones(Np)*Q/Np  \n",
    "\n",
    "\n",
    "# Define the uncorrelated beam first\n",
    "sigma_x = np.sqrt(emit_x * beta_x)\n",
    "sigma_xp = np.sqrt(emit_x / beta_x)\n",
    "sigma_y = np.sqrt(emit_y * beta_y)\n",
    "sigma_yp = np.sqrt(emit_y / beta_y)\n",
    "\n",
    "beam = np.zeros((6, Np))\n",
    "\n",
    "beam[0] = np.random.normal(0, sigma_x , size=(1, Np))\n",
    "beam[1] = np.random.normal(0, sigma_xp , size=(1, Np))\n",
    "beam[2] = np.random.normal(0, sigma_y , size=(1, Np))\n",
    "beam[3] = np.random.normal(0, sigma_yp , size=(1, Np))\n",
    "beam[4] = np.random.normal(0, sigma_z , size=(1, Np))\n",
    "beam[5] = np.random.normal(0, sigma_delta , size=(1, Np))\n",
    "\n",
    "## beam[5] = np.zeros(Np)    # turn off initial energy spread\n",
    "\n",
    "\n",
    "# Introduce coupling and dispersion \n",
    "r16 = eta_x\n",
    "r26 = etap_x\n",
    "\n",
    "r21 = (-1) * (alpha_x / beta_x) \n",
    "\n",
    "r36 = eta_y\n",
    "r46 = etap_y\n",
    "\n",
    "r43 = (-1) * (alpha_y / beta_y) \n",
    "\n",
    "# Apply coupling to the beam\n",
    "# Be careful with the order of these lines...\n",
    "\n",
    "beam[1] = beam[1] + r21 * beam[0] + r26 * beam[5]\n",
    "beam[0] = beam[0] + r16 * beam[5]\n",
    "\n",
    "beam[3] = beam[3] + r43 * beam[2] + r46 * beam[5]\n",
    "beam[2] = beam[2] + r36 * beam[5]\n"
   ]
  },
  {
   "cell_type": "markdown",
   "metadata": {},
   "source": [
    "## Check emittance"
   ]
  },
  {
   "cell_type": "code",
   "execution_count": 53,
   "metadata": {},
   "outputs": [],
   "source": [
    "def projected_emit_x(beam):\n",
    "    SS = np.cov(beam)\n",
    "    s00 = SS[0][0] - SS[0][5]*SS[0][5] / SS[5][5]\n",
    "    s01 = SS[0][1] - SS[0][5]*SS[1][5] / SS[5][5]\n",
    "    s11 = SS[1][1] - SS[1][5]*SS[1][5] / SS[5][5]\n",
    "\n",
    "    return np.sqrt(s00*s11 - s01**2)"
   ]
  },
  {
   "cell_type": "code",
   "execution_count": 54,
   "metadata": {},
   "outputs": [
    {
     "name": "stdout",
     "output_type": "stream",
     "text": [
      "1.0199918400652795e-10\n"
     ]
    },
    {
     "data": {
      "text/plain": [
       "1.0187762619965148e-10"
      ]
     },
     "execution_count": 54,
     "metadata": {},
     "output_type": "execute_result"
    }
   ],
   "source": [
    "print(emit_x)\n",
    "projected_emit_x(beam)"
   ]
  },
  {
   "cell_type": "markdown",
   "metadata": {},
   "source": [
    "### Additional parameters "
   ]
  },
  {
   "cell_type": "code",
   "execution_count": 24,
   "metadata": {},
   "outputs": [],
   "source": [
    "beta = (1-1/gamma**2)**(1/2)\n",
    "mc2 = 510998.950\n",
    "P0c = gamma * beta * mc2  # in eV\n",
    "\n",
    "# overtaking distance ( for Tao )\n",
    "L0 = (24*sigma_z*rho**2)**(1/3)\n",
    "\n",
    "# Characteristic wake in eV/m from Chris's paper\n",
    "W0 = 1e9* 2.8179403227E-15 * 510998.950 *(sigma_z/rho)**(2/3) / sigma_z**2"
   ]
  }
 ],
 "metadata": {
  "kernelspec": {
   "display_name": "Lume",
   "language": "python",
   "name": "lume"
  },
  "language_info": {
   "codemirror_mode": {
    "name": "ipython",
    "version": 3
   },
   "file_extension": ".py",
   "mimetype": "text/x-python",
   "name": "python",
   "nbconvert_exporter": "python",
   "pygments_lexer": "ipython3",
   "version": "3.7.7"
  }
 },
 "nbformat": 4,
 "nbformat_minor": 4
}
