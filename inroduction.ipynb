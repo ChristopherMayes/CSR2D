{
 "cells": [
  {
   "cell_type": "markdown",
   "metadata": {},
   "source": [
    "# Introduction to 2D CSR"
   ]
  },
  {
   "cell_type": "markdown",
   "metadata": {},
   "source": [
    "This package computes the 2D CSR potential and wake functions defined in \"Y. Cai and Yuantao. Ding, PRAB 23, 014402 (2020)\". We aim to speed up the wake computation using numerical 2D convolution methods. \n",
    "\n",
    "The required python packages are \"mpmath\" and \"scipy\".\n",
    "To use GPU, \"cupy\" needs to be installed too.  "
   ]
  }
 ],
 "metadata": {
  "kernelspec": {
   "display_name": "Python 3",
   "language": "python",
   "name": "python3"
  },
  "language_info": {
   "codemirror_mode": {
    "name": "ipython",
    "version": 3
   },
   "file_extension": ".py",
   "mimetype": "text/x-python",
   "name": "python",
   "nbconvert_exporter": "python",
   "pygments_lexer": "ipython3",
   "version": "3.6.9"
  }
 },
 "nbformat": 4,
 "nbformat_minor": 4
}
