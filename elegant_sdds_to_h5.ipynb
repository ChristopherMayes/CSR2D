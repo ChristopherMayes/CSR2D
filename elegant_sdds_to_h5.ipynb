{
 "cells": [
  {
   "cell_type": "markdown",
   "metadata": {},
   "source": [
    "# This notebook converts Elegant results from sdds to h5 files, which are fast to read into ParticleGroups"
   ]
  },
  {
   "cell_type": "code",
   "execution_count": 1,
   "metadata": {},
   "outputs": [],
   "source": [
    "from pmd_beamphysics.interfaces.elegant import elegant_to_data\n",
    "from pmd_beamphysics import ParticleGroup\n",
    "\n",
    "import os"
   ]
  },
  {
   "cell_type": "code",
   "execution_count": 2,
   "metadata": {},
   "outputs": [],
   "source": [
    "def sdds_to_h5(filename, charge=None):\n",
    "    \n",
    "    print('Processing:', filename)\n",
    "    data = elegant_to_data(filename, charge = charge)\n",
    "    P1 = ParticleGroup(data=data)\n",
    "    Palive = P1.where(P1['status'] == 1)\n",
    "    \n",
    "    path, fname = os.path.split(filename)\n",
    "    fname_new = os.path.join(path, fname+'.h5')\n",
    "    \n",
    "    Palive.write(fname_new)\n",
    "    return fname_new"
   ]
  },
  {
   "cell_type": "code",
   "execution_count": 4,
   "metadata": {},
   "outputs": [],
   "source": [
    "def my_sdds_to_h5(fname):\n",
    "    return sdds_to_h5(fname, charge=1.0013603962588557E-09)"
   ]
  },
  {
   "cell_type": "markdown",
   "metadata": {},
   "source": [
    "## set the files to convert"
   ]
  },
  {
   "cell_type": "code",
   "execution_count": 3,
   "metadata": {},
   "outputs": [],
   "source": [
    "## Find the \n",
    "\n",
    "fname_list = ['/global/homes/w/wlou1991/CSR2D/elegant/results_Np1M_Nb1000/M'+str(i)+'.out' for i in range(0,51)]\n",
    "\n",
    "#fname_list2 = ['/global/homes/w/wlou1991/CSR2D/elegant/results_Np1M_csroff/M'+str(i)+'.out' for i in range(0,51)]"
   ]
  },
  {
   "cell_type": "code",
   "execution_count": 10,
   "metadata": {},
   "outputs": [
    {
     "name": "stdout",
     "output_type": "stream",
     "text": [
      "CPU times: user 13.7 s, sys: 737 ms, total: 14.5 s\n",
      "Wall time: 19.7 s\n"
     ]
    },
    {
     "data": {
      "text/plain": [
       "'/global/homes/w/wlou1991/CSR2D/elegant/results_Np1M_Nb1000/M0.out.h5'"
      ]
     },
     "execution_count": 10,
     "metadata": {},
     "output_type": "execute_result"
    }
   ],
   "source": [
    "%%time\n",
    "my_sdds_to_h5(fname_list[0])"
   ]
  },
  {
   "cell_type": "markdown",
   "metadata": {},
   "source": [
    "## For speed up"
   ]
  },
  {
   "cell_type": "code",
   "execution_count": 5,
   "metadata": {},
   "outputs": [],
   "source": [
    "from concurrent.futures import ProcessPoolExecutor"
   ]
  },
  {
   "cell_type": "code",
   "execution_count": null,
   "metadata": {},
   "outputs": [
    {
     "name": "stdout",
     "output_type": "stream",
     "text": [
      "Processing:Processing:  Processing:/global/homes/w/wlou1991/CSR2D/elegant/results_Np1M_csroff/M0.outProcessing:Processing:Processing:Processing:Processing:\n",
      "Processing:Processing: Processing:Processing: \n",
      "   Processing:Processing:/global/homes/w/wlou1991/CSR2D/elegant/results_Np1M_csroff/M4.out Processing:/global/homes/w/wlou1991/CSR2D/elegant/results_Np1M_csroff/M3.out Processing: /global/homes/w/wlou1991/CSR2D/elegant/results_Np1M_csroff/M12.out/global/homes/w/wlou1991/CSR2D/elegant/results_Np1M_csroff/M2.out Processing:Processing:"
     ]
    }
   ],
   "source": [
    "with ProcessPoolExecutor() as executor:\n",
    "    temp = list(executor.map(my_sdds_to_h5,fname_list2))"
   ]
  }
 ],
 "metadata": {
  "kernelspec": {
   "display_name": "Lume",
   "language": "python",
   "name": "lume"
  },
  "language_info": {
   "codemirror_mode": {
    "name": "ipython",
    "version": 3
   },
   "file_extension": ".py",
   "mimetype": "text/x-python",
   "name": "python",
   "nbconvert_exporter": "python",
   "pygments_lexer": "ipython3",
   "version": "3.7.7"
  }
 },
 "nbformat": 4,
 "nbformat_minor": 4
}
